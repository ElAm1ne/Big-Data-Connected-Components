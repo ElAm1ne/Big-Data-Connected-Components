{
  "nbformat": 4,
  "nbformat_minor": 0,
  "metadata": {
    "colab": {
      "provenance": [],
      "include_colab_link": true
    },
    "kernelspec": {
      "name": "python3",
      "display_name": "Python 3"
    },
    "language_info": {
      "name": "python"
    }
  },
  "cells": [
    {
      "cell_type": "markdown",
      "metadata": {
        "id": "view-in-github",
        "colab_type": "text"
      },
      "source": [
        "<a href=\"https://colab.research.google.com/github/ElAm1ne/Big-Data-Connected-Components/blob/main/Big_Data.ipynb\" target=\"_parent\"><img src=\"https://colab.research.google.com/assets/colab-badge.svg\" alt=\"Open In Colab\"/></a>"
      ]
    },
    {
      "cell_type": "markdown",
      "source": [
        "Authors : Mbengue Kounda & El Hassani Amine \n",
        "\n",
        "---\n",
        "\n",
        "\n",
        "### Big Data Project : CCF - Fast and Scalable Connected Component Computation in MapReduce\n",
        "\n",
        "---\n",
        "\n"
      ],
      "metadata": {
        "id": "Wx6G9NHhJog9"
      }
    },
    {
      "cell_type": "markdown",
      "source": [
        "The GCC (Giant Connected Component) problem is a classical problem in graph theory that consists in finding the largest connected component of an undirected graph. In this project, we implemented two versions of the GCC algorithm using RDD (Resilient Distributed Datasets), which is a distributed data abstraction in Apache Spark. The two versions of the GCC algorithm that we implemented are the naive algorithm and the improved algorithm.\n"
      ],
      "metadata": {
        "id": "_MtPJ93wK7Sk"
      }
    },
    {
      "cell_type": "markdown",
      "source": [
        "## Initialization\n",
        "\n",
        "---\n",
        "\n",
        "In this part we import the necessary libraries for the realization of our project. "
      ],
      "metadata": {
        "id": "D-0VIbodNE9O"
      }
    },
    {
      "cell_type": "code",
      "source": [
        "!pip install pyspark\n",
        "from pyspark import SparkConf\n",
        "from pyspark.context import SparkContext\n",
        "sc = SparkContext.getOrCreate(SparkConf().setMaster(\"local[*]\"))"
      ],
      "metadata": {
        "colab": {
          "base_uri": "https://localhost:8080/"
        },
        "id": "Tz_jcTvhecO0",
        "outputId": "b94e9809-cf0f-4cf9-df06-b7dfd4a976ee"
      },
      "execution_count": null,
      "outputs": [
        {
          "output_type": "stream",
          "name": "stdout",
          "text": [
            "Looking in indexes: https://pypi.org/simple, https://us-python.pkg.dev/colab-wheels/public/simple/\n",
            "Collecting pyspark\n",
            "  Downloading pyspark-3.3.2.tar.gz (281.4 MB)\n",
            "\u001b[2K     \u001b[90m━━━━━━━━━━━━━━━━━━━━━━━━━━━━━━━━━━━━━━━\u001b[0m \u001b[32m281.4/281.4 MB\u001b[0m \u001b[31m5.4 MB/s\u001b[0m eta \u001b[36m0:00:00\u001b[0m\n",
            "\u001b[?25h  Preparing metadata (setup.py) ... \u001b[?25l\u001b[?25hdone\n",
            "Collecting py4j==0.10.9.5\n",
            "  Downloading py4j-0.10.9.5-py2.py3-none-any.whl (199 kB)\n",
            "\u001b[2K     \u001b[90m━━━━━━━━━━━━━━━━━━━━━━━━━━━━━━━━━━━━━━\u001b[0m \u001b[32m199.7/199.7 KB\u001b[0m \u001b[31m20.0 MB/s\u001b[0m eta \u001b[36m0:00:00\u001b[0m\n",
            "\u001b[?25hBuilding wheels for collected packages: pyspark\n",
            "  Building wheel for pyspark (setup.py) ... \u001b[?25l\u001b[?25hdone\n",
            "  Created wheel for pyspark: filename=pyspark-3.3.2-py2.py3-none-any.whl size=281824028 sha256=10868641a9a94e64bf9e100614d7ce71b3e8095238c49cbc99949c8a0b77a93f\n",
            "  Stored in directory: /root/.cache/pip/wheels/6c/e3/9b/0525ce8a69478916513509d43693511463c6468db0de237c86\n",
            "Successfully built pyspark\n",
            "Installing collected packages: py4j, pyspark\n",
            "  Attempting uninstall: py4j\n",
            "    Found existing installation: py4j 0.10.9.7\n",
            "    Uninstalling py4j-0.10.9.7:\n",
            "      Successfully uninstalled py4j-0.10.9.7\n",
            "Successfully installed py4j-0.10.9.5 pyspark-3.3.2\n"
          ]
        }
      ]
    },
    {
      "cell_type": "markdown",
      "source": [
        "We have also implemented functions to generate connected components to perform our tests and allow a better visualization."
      ],
      "metadata": {
        "id": "g1O2JG6BNTs8"
      }
    },
    {
      "cell_type": "code",
      "execution_count": null,
      "metadata": {
        "id": "-vSx5RfcHKRl",
        "colab": {
          "base_uri": "https://localhost:8080/"
        },
        "outputId": "e88d1637-f62f-4cbc-fcea-dbd50c9289d6"
      },
      "outputs": [
        {
          "output_type": "stream",
          "name": "stdout",
          "text": [
            "Enter the number of disjoint connected components: 5\n",
            "Enter the number of disjoint connected elements: 10\n",
            "Oriented graph saved to oriented_graph.txt\n"
          ]
        }
      ],
      "source": [
        "import networkx as nx\n",
        "import random\n",
        "from itertools import chain\n",
        "\n",
        "def create_oriented_graph(n_components, n_elements):\n",
        "    graphs = []\n",
        "    current_node = 0\n",
        "\n",
        "    for i in range(n_components):\n",
        "        component_size = random.randint(2, n_elements)\n",
        "        G = nx.DiGraph()\n",
        "        G.add_nodes_from(range(current_node, current_node + component_size))\n",
        "\n",
        "        for node in range(current_node, current_node + component_size - 1):\n",
        "            G.add_edge(node, node + 1)\n",
        "\n",
        "        graphs.append(G)\n",
        "        current_node += component_size\n",
        "\n",
        "    return nx.compose_all(graphs)\n",
        "\n",
        "\n",
        "def save_graph_to_file(graph, file_path):\n",
        "    with open(file_path, 'w') as f:\n",
        "        for edge in graph.edges:\n",
        "            f.write(f\"{edge[0]},{edge[1]}\\n\")\n",
        "\n",
        "\n",
        "def main():\n",
        "    n_components = int(input(\"Enter the number of disjoint connected components: \"))\n",
        "    n_elements = int(input(\"Enter the number of disjoint connected elements: \"))\n",
        "    graph = create_oriented_graph(n_components, n_elements)\n",
        "    file_path = \"oriented_graph.txt\"\n",
        "\n",
        "    save_graph_to_file(graph, file_path)\n",
        "    print(f\"Oriented graph saved to {file_path}\")\n",
        "\n",
        "\n",
        "if __name__ == \"__main__\":\n",
        "    main()\n"
      ]
    },
    {
      "cell_type": "code",
      "source": [
        "import networkx as nx\n",
        "import matplotlib.pyplot as plt\n",
        "from itertools import chain\n",
        "\n",
        "def load_graph_from_file(file_path):\n",
        "    G = nx.DiGraph()\n",
        "    with open(file_path, 'r') as f:\n",
        "        for line in f:\n",
        "            start, end = map(int, line.strip().split(','))\n",
        "            G.add_edge(start, end)\n",
        "    return G\n",
        "\n",
        "def plot_graph_with_colors(graph):\n",
        "    components = list(nx.weakly_connected_components(graph))\n",
        "    node_colors = []\n",
        "    for node in graph.nodes:\n",
        "        for i, component in enumerate(components):\n",
        "            if node in component:\n",
        "                node_colors.append(i)\n",
        "                break\n",
        "    pos = nx.spring_layout(graph)\n",
        "    nx.draw(graph, pos, node_color=node_colors, cmap=plt.cm.Paired, with_labels=True, node_size=500, font_size=10)\n",
        "    nx.draw_networkx_edge_labels(graph, pos, edge_labels={(u, v): f\"{u}->{v}\" for u, v in graph.edges()}, font_size=10)\n",
        "    plt.axis(\"off\")\n",
        "    plt.show()\n",
        "\n",
        "def main():\n",
        "    file_path = \"oriented_graph.txt\"\n",
        "    graph = load_graph_from_file(file_path)\n",
        "    plot_graph_with_colors(graph)\n",
        "\n",
        "if __name__ == \"__main__\":\n",
        "    main()\n"
      ],
      "metadata": {
        "colab": {
          "base_uri": "https://localhost:8080/",
          "height": 516
        },
        "id": "e1wJMrqGHKwT",
        "outputId": "de2eb3ae-7f2a-44fc-93d7-6bcefb85f4ef"
      },
      "execution_count": null,
      "outputs": [
        {
          "output_type": "display_data",
          "data": {
            "text/plain": [
              "<Figure size 640x480 with 1 Axes>"
            ],
            "image/png": "[encoded data removed]"
          },
          "metadata": {}
        }
      ]
    },
    {
      "cell_type": "markdown",
      "source": [
        "In this part we import a graph file with more than 2 millions edges to measure the performance of the developed solution. "
      ],
      "metadata": {
        "id": "5xg-0c4-NucJ"
      }
    },
    {
      "cell_type": "code",
      "source": [
        "with open('oriented_graph.txt', 'r') as f:\n",
        "    lines = f.readlines()\n",
        "\n",
        "edge_list = [(int(line.strip().split(',')[0]), int(line.strip().split(',')[1])) for line in lines]\n",
        "\n",
        "g = sc.parallelize(edge_list)\n",
        "\n"
      ],
      "metadata": {
        "id": "HzyBxG8pfdSs"
      },
      "execution_count": null,
      "outputs": []
    },
    {
      "cell_type": "markdown",
      "source": [
        "### I) Algorithms implementation."
      ],
      "metadata": {
        "id": "aUNe57_0OaMU"
      }
    },
    {
      "cell_type": "markdown",
      "source": [
        "### 1) CCF Iterate without sorting "
      ],
      "metadata": {
        "id": "4o4Gy3v_O4Uv"
      }
    },
    {
      "cell_type": "code",
      "source": [
        "def CCF_Iterate(graph):\n",
        "  # Create a complete adjacency list by mapping each edge (u,v) to (u,v) and (v,u)\n",
        "  complete_adjacency_list = graph.flatMap(lambda x: [(x[0],x[1]), (x[1], x[0])])\n",
        "  # Group values associated with each key to obtain the adjacency list of each node\n",
        "  node_adjacency_lists = complete_adjacency_list.groupByKey().map(lambda x: (x[0], list(x[1])))\n",
        "  # Determine the minimum in the adjacency list of each node and store it along with the adjacency list\n",
        "  node_min_adjacency = node_adjacency_lists.map(lambda x: (x[0], x[1], min(x[1])))\n",
        "  # Filter nodes that have an identifier greater than or equal to their minimum\n",
        "  filtered_node_min_adjacency = node_min_adjacency.filter(lambda x: x[2]<x[0])\n",
        "  # Count the number of iterations needed to connect all nodes in the graph\n",
        "  num_iterations_remaining = filtered_node_min_adjacency.map(lambda x: len([l for l in x[1] if l!= x[2]])).sum()\n",
        "  # Create pairs of nodes that need to be connected\n",
        "  node_pairs_to_connect = filtered_node_min_adjacency.flatMap(lambda x: [(i,x[2]) for i in x[1]+list([x[0]]) if i!=x[2]] )\n",
        "  # Remove duplicate node pairs\n",
        "  unique_node_pairs_to_connect = node_pairs_to_connect.distinct()\n",
        "  # Return the updated adjacency list and the number of remaining iterations\n",
        "  return unique_node_pairs_to_connect, num_iterations_remaining\n",
        "\n",
        "\n",
        "def run_CCF_Iterate(graph): \n",
        "  created_couples = 1\n",
        "  i = 1\n",
        "  while created_couples > 0:  \n",
        "    #Number of iteration \n",
        "    print(\"Iteration number : \"+str(i))\n",
        "    # Repeat the algorithm until all nodes are connected\n",
        "    graph, created_couples = CCF_Iterate(graph)\n",
        "    print(\"Number of pairs created : \"+str(created_couples))\n",
        "    i+=1\n",
        "  # Sort connected components in ascending order of their first value (node identifier)\n",
        "  sorted_connected_components = sorted(graph.collect(), key=lambda x: x[1])\n",
        "  #number of connected components \n",
        "  count_connected_components = graph.map(lambda x : x[1]).distinct().count()\n",
        "  print(\"Number of connected components found is : \" +str(count_connected_components))\n",
        "  return sorted_connected_components, count_connected_components"
      ],
      "metadata": {
        "id": "6YfzgeW-QWLm"
      },
      "execution_count": null,
      "outputs": []
    },
    {
      "cell_type": "code",
      "source": [
        "sorted_connected_components, count_connected_components = run_CCF_Iterate(g)"
      ],
      "metadata": {
        "colab": {
          "base_uri": "https://localhost:8080/"
        },
        "id": "pNN2QT1LemDH",
        "outputId": "43fa020a-5ca9-4b9d-e422-f4b91f415ff3"
      },
      "execution_count": null,
      "outputs": [
        {
          "output_type": "stream",
          "name": "stdout",
          "text": [
            "Iteration number : 1\n",
            "Number of pairs created : 23\n",
            "Iteration number : 2\n",
            "Number of pairs created : 64\n",
            "Iteration number : 3\n",
            "Number of pairs created : 110\n",
            "Iteration number : 4\n",
            "Number of pairs created : 94\n",
            "Iteration number : 5\n",
            "Number of pairs created : 0\n",
            "Number of connected components found is : 5\n"
          ]
        }
      ]
    },
    {
      "cell_type": "markdown",
      "source": [
        "### 2) CCF Iterate with sorting "
      ],
      "metadata": {
        "id": "eomWydYBQ0ih"
      }
    },
    {
      "cell_type": "code",
      "source": [
        "# Obtain the connected components of the graph using the sorted algorithm\n",
        "def CCF_Iterate_sorted(graph):\n",
        "  # Create complete adjacency list by mapping each edge (u,v) to (u,v) and (v,u)\n",
        "  complete_adjacency_list = graph.flatMap(lambda x: [(x[0],x[1]), (x[1], x[0])])\n",
        "  # Group values associated with each key to obtain the adjacency list of each node, sorted in ascending order\n",
        "  node_adjacency_lists = complete_adjacency_list.groupByKey().map(lambda x: (x[0], sorted(list(x[1]))))\n",
        "  # Determine the minimum in the adjacency list of each node and store it along with the adjacency list\n",
        "  node_min_adjacency = node_adjacency_lists.map(lambda x: (x[0], x[1], x[1][0]))\n",
        "  # Filter nodes that have an identifier greater than or equal to their minimum\n",
        "  filtered_node_min_adjacency = node_min_adjacency.filter(lambda x: x[2]<x[0])\n",
        "  # Count the number of iterations needed to connect all nodes in the graph\n",
        "  num_iterations_remaining = filtered_node_min_adjacency.map(lambda x: len([l for l in x[1] if l!= x[2]])).sum()\n",
        "  # Create pairs of nodes that need to be connected\n",
        "  node_pairs_to_connect = filtered_node_min_adjacency.flatMap(lambda x: [(i,x[2]) for i in x[1]+list([x[0]]) if i!=x[2]] )\n",
        "  # Remove duplicate node pairs\n",
        "  unique_node_pairs_to_connect = node_pairs_to_connect.distinct()\n",
        "  # Return the updated adjacency list and the number of remaining iterations\n",
        "  return unique_node_pairs_to_connect, num_iterations_remaining\n",
        "\n",
        "# Function to obtain the connected components of a graph using the sorted algorithm\n",
        "def run_CCF_Iterate_Sorted(graph): \n",
        "  created_couples = 1\n",
        "  i = 1\n",
        "  while created_couples > 0: \n",
        "    #Number of iteration \n",
        "    print(\"Iteration number : \"+str(i))\n",
        "    # Repeat the algorithm until all nodes are connected\n",
        "    graph, created_couples = CCF_Iterate_sorted(graph)\n",
        "    print(\"Number of pairs created : \"+str(created_couples))\n",
        "    i+=1\n",
        "  # Sort connected components in ascending order of their first value (node identifier)\n",
        "  sorted_connected_components = sorted(graph.collect(), key=lambda x: x[1])\n",
        "  #number of connected components \n",
        "  count_connected_components = graph.map(lambda x : x[1]).distinct().count()\n",
        "  print(\"Number of connected components found is : \" +str(count_connected_components))\n",
        "  return sorted_connected_components, count_connected_components"
      ],
      "metadata": {
        "id": "IxBee-m_QrJg"
      },
      "execution_count": null,
      "outputs": []
    },
    {
      "cell_type": "code",
      "source": [
        "# Obtain the connected components of the graph and return the result\n",
        "graph,count_connected_components = run_CCF_Iterate_Sorted(g)"
      ],
      "metadata": {
        "colab": {
          "base_uri": "https://localhost:8080/"
        },
        "id": "TXKJWlCBerKT",
        "outputId": "28f42614-3f22-41d1-d29c-dd82bb21e5b9"
      },
      "execution_count": null,
      "outputs": [
        {
          "output_type": "stream",
          "name": "stdout",
          "text": [
            "Iteration number : 1\n",
            "Number of pairs created : 23\n",
            "Iteration number : 2\n",
            "Number of pairs created : 64\n",
            "Iteration number : 3\n",
            "Number of pairs created : 110\n",
            "Iteration number : 4\n",
            "Number of pairs created : 94\n",
            "Iteration number : 5\n",
            "Number of pairs created : 0\n",
            "Number of connected components found is : 5\n"
          ]
        }
      ]
    },
    {
      "cell_type": "markdown",
      "source": [
        "Here we import google graph to run our algorithms. We have more than 875K nodes, 5M edges in this graph. "
      ],
      "metadata": {
        "id": "MP2qU1fa_Pl7"
      }
    },
    {
      "cell_type": "markdown",
      "source": [
        " \n",
        "---\n",
        "\n",
        "The goal is to benchmark the time needed to find to all connected components using both approaches (sorted and unsorted)\n",
        "\n",
        "We will use the built-in  %%timeit  magic command. \n",
        "\n",
        "---\n",
        "\n"
      ],
      "metadata": {
        "id": "l7z62UAtgLM1"
      }
    },
    {
      "cell_type": "code",
      "source": [
        "google_graph = sc.textFile(\"/content/web-Google.txt\")\n",
        "google_graph = google_graph.filter(lambda x: \"#\" not in x).map(lambda x: x.split(\"\\t\")).map(lambda x: (x[0], x[1]))\n",
        "google_graph = google_graph.partitionBy(100).persist()"
      ],
      "metadata": {
        "id": "17xu_cT09e_R"
      },
      "execution_count": null,
      "outputs": []
    },
    {
      "cell_type": "code",
      "source": [
        "%%timeit -n 1 -r 1\n",
        "sorted_connected_components, count_connected_components = run_CCF_Iterate(google_graph)"
      ],
      "metadata": {
        "id": "AsOiGcBGJQH-",
        "colab": {
          "base_uri": "https://localhost:8080/"
        },
        "outputId": "8ef12d5f-635e-41b2-8748-9895189b5fac"
      },
      "execution_count": null,
      "outputs": [
        {
          "output_type": "stream",
          "name": "stdout",
          "text": [
            "Iteration number : 1\n",
            "Number of pairs created : 8546673\n",
            "Iteration number : 2\n",
            "Number of pairs created : 4774134\n",
            "Iteration number : 3\n",
            "Number of pairs created : 3235857\n",
            "Iteration number : 4\n",
            "Number of pairs created : 3852842\n",
            "Iteration number : 5\n",
            "Number of pairs created : 2014247\n",
            "Iteration number : 6\n",
            "Number of pairs created : 94614\n",
            "Iteration number : 7\n",
            "Number of pairs created : 1548\n",
            "Iteration number : 8\n",
            "Number of pairs created : 0\n",
            "Number of connected components found is : 2746\n",
            "8min 13s ± 0 ns per loop (mean ± std. dev. of 1 run, 1 loop each)\n"
          ]
        }
      ]
    },
    {
      "cell_type": "markdown",
      "source": [
        "Benchmarking with sorting algorithm"
      ],
      "metadata": {
        "id": "7wD_WbmlKM6o"
      }
    },
    {
      "cell_type": "code",
      "source": [
        "%%timeit -n 1 -r 1\n",
        "graph,count_connected_components = run_CCF_Iterate_Sorted(google_graph)"
      ],
      "metadata": {
        "colab": {
          "base_uri": "https://localhost:8080/"
        },
        "id": "mmN8htWTJ3te",
        "outputId": "3dd896ee-902b-4917-9407-b9386cd9555a"
      },
      "execution_count": null,
      "outputs": [
        {
          "output_type": "stream",
          "name": "stdout",
          "text": [
            "Iteration number : 1\n",
            "Number of pairs created : 8546673\n",
            "Iteration number : 2\n",
            "Number of pairs created : 4774134\n",
            "Iteration number : 3\n",
            "Number of pairs created : 3235857\n",
            "Iteration number : 4\n",
            "Number of pairs created : 3852842\n",
            "Iteration number : 5\n",
            "Number of pairs created : 2014247\n",
            "Iteration number : 6\n",
            "Number of pairs created : 94614\n",
            "Iteration number : 7\n",
            "Number of pairs created : 1548\n",
            "Iteration number : 8\n",
            "Number of pairs created : 0\n",
            "Number of connected components found is : 2746\n",
            "7min 38s ± 0 ns per loop (mean ± std. dev. of 1 run, 1 loop each)\n"
          ]
        }
      ]
    },
    {
      "cell_type": "markdown",
      "source": [
        "We see a better performance with the version in which a sorting is done. An improvement of +7%.\n",
        "\n",
        "\n",
        "---\n",
        "\n"
      ],
      "metadata": {
        "id": "rOWruaMqnzHK"
      }
    },
    {
      "cell_type": "markdown",
      "source": [
        "The goal of this part is to analyze the temporal complexity of both algorithms (sorted and unsorted). There are two parameters to take into account, firstly the number of components and secondly the number of elements in each components. "
      ],
      "metadata": {
        "id": "3bdejaO6KrtZ"
      }
    },
    {
      "cell_type": "code",
      "source": [
        "import time\n",
        "import pandas as pd\n",
        "import seaborn as sns\n",
        "import numpy as np\n",
        "from scipy.interpolate import griddata\n",
        "import plotly.graph_objects as go"
      ],
      "metadata": {
        "id": "rUdDcTNoQEia"
      },
      "execution_count": null,
      "outputs": []
    },
    {
      "cell_type": "markdown",
      "source": [
        "We will start by simulating multiple graphs, with number of component ranging from 10 to 1000 and number of elements ranging from  5 to 100. "
      ],
      "metadata": {
        "id": "ZVYWiMqVsUWQ"
      }
    },
    {
      "cell_type": "code",
      "source": [
        "#create a list of graphes with different number of components and elements to study the complexity of the algorithm depending on the these two parameters\n",
        "graphs = [[(u,v) for u,v in create_oriented_graph(n_comp, n_elm).edges] for n_comp in range(10,1000,100) for n_elm in range(5,100,20)]\n",
        "indexes = [(i,j) for i in range(10,1000,100) for j in range(5,100,20)]"
      ],
      "metadata": {
        "id": "LEQKmFzMKo0C"
      },
      "execution_count": null,
      "outputs": []
    },
    {
      "cell_type": "markdown",
      "source": [
        "This funtions take as argument the list of graph defined previously, and a parameter to specificy which algorithms to use. Then, we time the execution and store it in array for later use. "
      ],
      "metadata": {
        "id": "C3B8BhFTttyD"
      }
    },
    {
      "cell_type": "code",
      "source": [
        "def benchmark(graphs,version=\"unsorted\"):\n",
        "  X = np.zeros(len(graphs))\n",
        "  Y = np.zeros(len(graphs))\n",
        "  Z = np.zeros(len(graphs))\n",
        "  for i in range(len(graphs)):\n",
        "    graph = sc.parallelize(graphs[i])\n",
        "    print(\"N° Components : \" + str(indexes[i][0]) + \", N° elements : \" + str(indexes[i][1]))\n",
        "    start_time = time.time()\n",
        "    if(version==\"unsorted\"):\n",
        "      run_CCF_Iterate(graph)\n",
        "    else: \n",
        "      run_CCF_Iterate_Sorted(graph)\n",
        "    end_time = time.time()\n",
        "    X[i] = indexes[i][0]\n",
        "    Y[i] = indexes[i][1]\n",
        "    Z[i] = end_time - start_time\n",
        "    print(\"It took : \" + str(end_time - start_time) + \" s.\")\n",
        "  return X,Y,Z"
      ],
      "metadata": {
        "id": "1JUYr2rGN2-w"
      },
      "execution_count": null,
      "outputs": []
    },
    {
      "cell_type": "code",
      "source": [
        "X,Y,Z = benchmark(graphs)"
      ],
      "metadata": {
        "id": "8bVMgIuprHIV"
      },
      "execution_count": null,
      "outputs": []
    },
    {
      "cell_type": "markdown",
      "source": [
        "We convert the stored number of components in X, number of elements in Y and the time in Z to pandas dataframe for further analysis.  "
      ],
      "metadata": {
        "id": "iHcOyHOrZ71z"
      }
    },
    {
      "cell_type": "code",
      "source": [
        "df = pd.DataFrame({'N_Components': X, 'N_Elements': Y, 'Time': Z})"
      ],
      "metadata": {
        "id": "vvc7uXCrROM-"
      },
      "execution_count": null,
      "outputs": []
    },
    {
      "cell_type": "code",
      "source": [
        "df"
      ],
      "metadata": {
        "colab": {
          "base_uri": "https://localhost:8080/",
          "height": 1000
        },
        "id": "bEIgcUTdRd30",
        "outputId": "4dded421-0ec0-4bfc-fa80-4d74fce44608"
      },
      "execution_count": null,
      "outputs": [
        {
          "output_type": "execute_result",
          "data": {
            "text/plain": [
              "    N_Components  N_Elements       Time\n",
              "0           10.0         5.0   1.293401\n",
              "1           10.0        25.0   1.795485\n",
              "2           10.0        45.0   2.174206\n",
              "3           10.0        65.0   2.032078\n",
              "4           10.0        85.0   2.310068\n",
              "5          110.0         5.0   1.084860\n",
              "6          110.0        25.0   2.406908\n",
              "7          110.0        45.0   2.593492\n",
              "8          110.0        65.0   2.826719\n",
              "9          110.0        85.0   4.371413\n",
              "10         210.0         5.0   1.392236\n",
              "11         210.0        25.0   2.534173\n",
              "12         210.0        45.0   2.889684\n",
              "13         210.0        65.0   4.012782\n",
              "14         210.0        85.0   7.358841\n",
              "15         310.0         5.0   1.112199\n",
              "16         310.0        25.0   2.210458\n",
              "17         310.0        45.0   3.917238\n",
              "18         310.0        65.0   6.834928\n",
              "19         310.0        85.0   9.037410\n",
              "20         410.0         5.0   1.180466\n",
              "21         410.0        25.0   2.647051\n",
              "22         410.0        45.0   4.219628\n",
              "23         410.0        65.0   8.356295\n",
              "24         410.0        85.0  12.048327\n",
              "25         510.0         5.0   1.159471\n",
              "26         510.0        25.0   2.513437\n",
              "27         510.0        45.0   6.088156\n",
              "28         510.0        65.0   8.041706\n",
              "29         510.0        85.0  14.379466\n",
              "30         610.0         5.0   1.428919\n",
              "31         610.0        25.0   3.400587\n",
              "32         610.0        45.0   5.720327\n",
              "33         610.0        65.0  11.292622\n",
              "34         610.0        85.0  20.865736\n",
              "35         710.0         5.0   1.495759\n",
              "36         710.0        25.0   4.152990\n",
              "37         710.0        45.0   9.785720\n",
              "38         710.0        65.0  16.623776\n",
              "39         710.0        85.0  24.471395\n",
              "40         810.0         5.0   1.814962\n",
              "41         810.0        25.0   3.772639\n",
              "42         810.0        45.0   9.099578\n",
              "43         810.0        65.0  15.198021\n",
              "44         810.0        85.0  25.668244\n",
              "45         910.0         5.0   1.372188\n",
              "46         910.0        25.0   5.177198\n",
              "47         910.0        45.0   9.864387\n",
              "48         910.0        65.0  17.146853\n",
              "49         910.0        85.0  29.463417"
            ],
            "text/html": [
              "\n",
              "  <div id=\"df-124ee435-72ee-4c34-a61a-8ab6fc57e723\">\n",
              "    <div class=\"colab-df-container\">\n",
              "      <div>\n",
              "<style scoped>\n",
              "    .dataframe tbody tr th:only-of-type {\n",
              "        vertical-align: middle;\n",
              "    }\n",
              "\n",
              "    .dataframe tbody tr th {\n",
              "        vertical-align: top;\n",
              "    }\n",
              "\n",
              "    .dataframe thead th {\n",
              "        text-align: right;\n",
              "    }\n",
              "</style>\n",
              "<table border=\"1\" class=\"dataframe\">\n",
              "  <thead>\n",
              "    <tr style=\"text-align: right;\">\n",
              "      <th></th>\n",
              "      <th>N_Components</th>\n",
              "      <th>N_Elements</th>\n",
              "      <th>Time</th>\n",
              "    </tr>\n",
              "  </thead>\n",
              "  <tbody>\n",
              "    <tr>\n",
              "      <th>0</th>\n",
              "      <td>10.0</td>\n",
              "      <td>5.0</td>\n",
              "      <td>1.293401</td>\n",
              "    </tr>\n",
              "    <tr>\n",
              "      <th>1</th>\n",
              "      <td>10.0</td>\n",
              "      <td>25.0</td>\n",
              "      <td>1.795485</td>\n",
              "    </tr>\n",
              "    <tr>\n",
              "      <th>2</th>\n",
              "      <td>10.0</td>\n",
              "      <td>45.0</td>\n",
              "      <td>2.174206</td>\n",
              "    </tr>\n",
              "    <tr>\n",
              "      <th>3</th>\n",
              "      <td>10.0</td>\n",
              "      <td>65.0</td>\n",
              "      <td>2.032078</td>\n",
              "    </tr>\n",
              "    <tr>\n",
              "      <th>4</th>\n",
              "      <td>10.0</td>\n",
              "      <td>85.0</td>\n",
              "      <td>2.310068</td>\n",
              "    </tr>\n",
              "    <tr>\n",
              "      <th>5</th>\n",
              "      <td>110.0</td>\n",
              "      <td>5.0</td>\n",
              "      <td>1.084860</td>\n",
              "    </tr>\n",
              "    <tr>\n",
              "      <th>6</th>\n",
              "      <td>110.0</td>\n",
              "      <td>25.0</td>\n",
              "      <td>2.406908</td>\n",
              "    </tr>\n",
              "    <tr>\n",
              "      <th>7</th>\n",
              "      <td>110.0</td>\n",
              "      <td>45.0</td>\n",
              "      <td>2.593492</td>\n",
              "    </tr>\n",
              "    <tr>\n",
              "      <th>8</th>\n",
              "      <td>110.0</td>\n",
              "      <td>65.0</td>\n",
              "      <td>2.826719</td>\n",
              "    </tr>\n",
              "    <tr>\n",
              "      <th>9</th>\n",
              "      <td>110.0</td>\n",
              "      <td>85.0</td>\n",
              "      <td>4.371413</td>\n",
              "    </tr>\n",
              "    <tr>\n",
              "      <th>10</th>\n",
              "      <td>210.0</td>\n",
              "      <td>5.0</td>\n",
              "      <td>1.392236</td>\n",
              "    </tr>\n",
              "    <tr>\n",
              "      <th>11</th>\n",
              "      <td>210.0</td>\n",
              "      <td>25.0</td>\n",
              "      <td>2.534173</td>\n",
              "    </tr>\n",
              "    <tr>\n",
              "      <th>12</th>\n",
              "      <td>210.0</td>\n",
              "      <td>45.0</td>\n",
              "      <td>2.889684</td>\n",
              "    </tr>\n",
              "    <tr>\n",
              "      <th>13</th>\n",
              "      <td>210.0</td>\n",
              "      <td>65.0</td>\n",
              "      <td>4.012782</td>\n",
              "    </tr>\n",
              "    <tr>\n",
              "      <th>14</th>\n",
              "      <td>210.0</td>\n",
              "      <td>85.0</td>\n",
              "      <td>7.358841</td>\n",
              "    </tr>\n",
              "    <tr>\n",
              "      <th>15</th>\n",
              "      <td>310.0</td>\n",
              "      <td>5.0</td>\n",
              "      <td>1.112199</td>\n",
              "    </tr>\n",
              "    <tr>\n",
              "      <th>16</th>\n",
              "      <td>310.0</td>\n",
              "      <td>25.0</td>\n",
              "      <td>2.210458</td>\n",
              "    </tr>\n",
              "    <tr>\n",
              "      <th>17</th>\n",
              "      <td>310.0</td>\n",
              "      <td>45.0</td>\n",
              "      <td>3.917238</td>\n",
              "    </tr>\n",
              "    <tr>\n",
              "      <th>18</th>\n",
              "      <td>310.0</td>\n",
              "      <td>65.0</td>\n",
              "      <td>6.834928</td>\n",
              "    </tr>\n",
              "    <tr>\n",
              "      <th>19</th>\n",
              "      <td>310.0</td>\n",
              "      <td>85.0</td>\n",
              "      <td>9.037410</td>\n",
              "    </tr>\n",
              "    <tr>\n",
              "      <th>20</th>\n",
              "      <td>410.0</td>\n",
              "      <td>5.0</td>\n",
              "      <td>1.180466</td>\n",
              "    </tr>\n",
              "    <tr>\n",
              "      <th>21</th>\n",
              "      <td>410.0</td>\n",
              "      <td>25.0</td>\n",
              "      <td>2.647051</td>\n",
              "    </tr>\n",
              "    <tr>\n",
              "      <th>22</th>\n",
              "      <td>410.0</td>\n",
              "      <td>45.0</td>\n",
              "      <td>4.219628</td>\n",
              "    </tr>\n",
              "    <tr>\n",
              "      <th>23</th>\n",
              "      <td>410.0</td>\n",
              "      <td>65.0</td>\n",
              "      <td>8.356295</td>\n",
              "    </tr>\n",
              "    <tr>\n",
              "      <th>24</th>\n",
              "      <td>410.0</td>\n",
              "      <td>85.0</td>\n",
              "      <td>12.048327</td>\n",
              "    </tr>\n",
              "    <tr>\n",
              "      <th>25</th>\n",
              "      <td>510.0</td>\n",
              "      <td>5.0</td>\n",
              "      <td>1.159471</td>\n",
              "    </tr>\n",
              "    <tr>\n",
              "      <th>26</th>\n",
              "      <td>510.0</td>\n",
              "      <td>25.0</td>\n",
              "      <td>2.513437</td>\n",
              "    </tr>\n",
              "    <tr>\n",
              "      <th>27</th>\n",
              "      <td>510.0</td>\n",
              "      <td>45.0</td>\n",
              "      <td>6.088156</td>\n",
              "    </tr>\n",
              "    <tr>\n",
              "      <th>28</th>\n",
              "      <td>510.0</td>\n",
              "      <td>65.0</td>\n",
              "      <td>8.041706</td>\n",
              "    </tr>\n",
              "    <tr>\n",
              "      <th>29</th>\n",
              "      <td>510.0</td>\n",
              "      <td>85.0</td>\n",
              "      <td>14.379466</td>\n",
              "    </tr>\n",
              "    <tr>\n",
              "      <th>30</th>\n",
              "      <td>610.0</td>\n",
              "      <td>5.0</td>\n",
              "      <td>1.428919</td>\n",
              "    </tr>\n",
              "    <tr>\n",
              "      <th>31</th>\n",
              "      <td>610.0</td>\n",
              "      <td>25.0</td>\n",
              "      <td>3.400587</td>\n",
              "    </tr>\n",
              "    <tr>\n",
              "      <th>32</th>\n",
              "      <td>610.0</td>\n",
              "      <td>45.0</td>\n",
              "      <td>5.720327</td>\n",
              "    </tr>\n",
              "    <tr>\n",
              "      <th>33</th>\n",
              "      <td>610.0</td>\n",
              "      <td>65.0</td>\n",
              "      <td>11.292622</td>\n",
              "    </tr>\n",
              "    <tr>\n",
              "      <th>34</th>\n",
              "      <td>610.0</td>\n",
              "      <td>85.0</td>\n",
              "      <td>20.865736</td>\n",
              "    </tr>\n",
              "    <tr>\n",
              "      <th>35</th>\n",
              "      <td>710.0</td>\n",
              "      <td>5.0</td>\n",
              "      <td>1.495759</td>\n",
              "    </tr>\n",
              "    <tr>\n",
              "      <th>36</th>\n",
              "      <td>710.0</td>\n",
              "      <td>25.0</td>\n",
              "      <td>4.152990</td>\n",
              "    </tr>\n",
              "    <tr>\n",
              "      <th>37</th>\n",
              "      <td>710.0</td>\n",
              "      <td>45.0</td>\n",
              "      <td>9.785720</td>\n",
              "    </tr>\n",
              "    <tr>\n",
              "      <th>38</th>\n",
              "      <td>710.0</td>\n",
              "      <td>65.0</td>\n",
              "      <td>16.623776</td>\n",
              "    </tr>\n",
              "    <tr>\n",
              "      <th>39</th>\n",
              "      <td>710.0</td>\n",
              "      <td>85.0</td>\n",
              "      <td>24.471395</td>\n",
              "    </tr>\n",
              "    <tr>\n",
              "      <th>40</th>\n",
              "      <td>810.0</td>\n",
              "      <td>5.0</td>\n",
              "      <td>1.814962</td>\n",
              "    </tr>\n",
              "    <tr>\n",
              "      <th>41</th>\n",
              "      <td>810.0</td>\n",
              "      <td>25.0</td>\n",
              "      <td>3.772639</td>\n",
              "    </tr>\n",
              "    <tr>\n",
              "      <th>42</th>\n",
              "      <td>810.0</td>\n",
              "      <td>45.0</td>\n",
              "      <td>9.099578</td>\n",
              "    </tr>\n",
              "    <tr>\n",
              "      <th>43</th>\n",
              "      <td>810.0</td>\n",
              "      <td>65.0</td>\n",
              "      <td>15.198021</td>\n",
              "    </tr>\n",
              "    <tr>\n",
              "      <th>44</th>\n",
              "      <td>810.0</td>\n",
              "      <td>85.0</td>\n",
              "      <td>25.668244</td>\n",
              "    </tr>\n",
              "    <tr>\n",
              "      <th>45</th>\n",
              "      <td>910.0</td>\n",
              "      <td>5.0</td>\n",
              "      <td>1.372188</td>\n",
              "    </tr>\n",
              "    <tr>\n",
              "      <th>46</th>\n",
              "      <td>910.0</td>\n",
              "      <td>25.0</td>\n",
              "      <td>5.177198</td>\n",
              "    </tr>\n",
              "    <tr>\n",
              "      <th>47</th>\n",
              "      <td>910.0</td>\n",
              "      <td>45.0</td>\n",
              "      <td>9.864387</td>\n",
              "    </tr>\n",
              "    <tr>\n",
              "      <th>48</th>\n",
              "      <td>910.0</td>\n",
              "      <td>65.0</td>\n",
              "      <td>17.146853</td>\n",
              "    </tr>\n",
              "    <tr>\n",
              "      <th>49</th>\n",
              "      <td>910.0</td>\n",
              "      <td>85.0</td>\n",
              "      <td>29.463417</td>\n",
              "    </tr>\n",
              "  </tbody>\n",
              "</table>\n",
              "</div>\n",
              "      <button class=\"colab-df-convert\" onclick=\"convertToInteractive('df-124ee435-72ee-4c34-a61a-8ab6fc57e723')\"\n",
              "              title=\"Convert this dataframe to an interactive table.\"\n",
              "              style=\"display:none;\">\n",
              "        \n",
              "  <svg xmlns=\"http://www.w3.org/2000/svg\" height=\"24px\"viewBox=\"0 0 24 24\"\n",
              "       width=\"24px\">\n",
              "    <path d=\"M0 0h24v24H0V0z\" fill=\"none\"/>\n",
              "    <path d=\"M18.56 5.44l.94 2.06.94-2.06 2.06-.94-2.06-.94-.94-2.06-.94 2.06-2.06.94zm-11 1L8.5 8.5l.94-2.06 2.06-.94-2.06-.94L8.5 2.5l-.94 2.06-2.06.94zm10 10l.94 2.06.94-2.06 2.06-.94-2.06-.94-.94-2.06-.94 2.06-2.06.94z\"/><path d=\"M17.41 7.96l-1.37-1.37c-.4-.4-.92-.59-1.43-.59-.52 0-1.04.2-1.43.59L10.3 9.45l-7.72 7.72c-.78.78-.78 2.05 0 2.83L4 21.41c.39.39.9.59 1.41.59.51 0 1.02-.2 1.41-.59l7.78-7.78 2.81-2.81c.8-.78.8-2.07 0-2.86zM5.41 20L4 18.59l7.72-7.72 1.47 1.35L5.41 20z\"/>\n",
              "  </svg>\n",
              "      </button>\n",
              "      \n",
              "  <style>\n",
              "    .colab-df-container {\n",
              "      display:flex;\n",
              "      flex-wrap:wrap;\n",
              "      gap: 12px;\n",
              "    }\n",
              "\n",
              "    .colab-df-convert {\n",
              "      background-color: #E8F0FE;\n",
              "      border: none;\n",
              "      border-radius: 50%;\n",
              "      cursor: pointer;\n",
              "      display: none;\n",
              "      fill: #1967D2;\n",
              "      height: 32px;\n",
              "      padding: 0 0 0 0;\n",
              "      width: 32px;\n",
              "    }\n",
              "\n",
              "    .colab-df-convert:hover {\n",
              "      background-color: #E2EBFA;\n",
              "      box-shadow: 0px 1px 2px rgba(60, 64, 67, 0.3), 0px 1px 3px 1px rgba(60, 64, 67, 0.15);\n",
              "      fill: #174EA6;\n",
              "    }\n",
              "\n",
              "    [theme=dark] .colab-df-convert {\n",
              "      background-color: #3B4455;\n",
              "      fill: #D2E3FC;\n",
              "    }\n",
              "\n",
              "    [theme=dark] .colab-df-convert:hover {\n",
              "      background-color: #434B5C;\n",
              "      box-shadow: 0px 1px 3px 1px rgba(0, 0, 0, 0.15);\n",
              "      filter: drop-shadow(0px 1px 2px rgba(0, 0, 0, 0.3));\n",
              "      fill: #FFFFFF;\n",
              "    }\n",
              "  </style>\n",
              "\n",
              "      <script>\n",
              "        const buttonEl =\n",
              "          document.querySelector('#df-124ee435-72ee-4c34-a61a-8ab6fc57e723 button.colab-df-convert');\n",
              "        buttonEl.style.display =\n",
              "          google.colab.kernel.accessAllowed ? 'block' : 'none';\n",
              "\n",
              "        async function convertToInteractive(key) {\n",
              "          const element = document.querySelector('#df-124ee435-72ee-4c34-a61a-8ab6fc57e723');\n",
              "          const dataTable =\n",
              "            await google.colab.kernel.invokeFunction('convertToInteractive',\n",
              "                                                     [key], {});\n",
              "          if (!dataTable) return;\n",
              "\n",
              "          const docLinkHtml = 'Like what you see? Visit the ' +\n",
              "            '<a target=\"_blank\" href=https://colab.research.google.com/notebooks/data_table.ipynb>data table notebook</a>'\n",
              "            + ' to learn more about interactive tables.';\n",
              "          element.innerHTML = '';\n",
              "          dataTable['output_type'] = 'display_data';\n",
              "          await google.colab.output.renderOutput(dataTable, element);\n",
              "          const docLink = document.createElement('div');\n",
              "          docLink.innerHTML = docLinkHtml;\n",
              "          element.appendChild(docLink);\n",
              "        }\n",
              "      </script>\n",
              "    </div>\n",
              "  </div>\n",
              "  "
            ]
          },
          "metadata": {},
          "execution_count": 53
        }
      ]
    },
    {
      "cell_type": "markdown",
      "source": [
        "Analyze the results using a pair plot, we see that execution time varies exponentially with the number of elements and linearly with the number of components."
      ],
      "metadata": {
        "id": "OTDZIIaLaEiK"
      }
    },
    {
      "cell_type": "code",
      "source": [
        "sns.pairplot(df)"
      ],
      "metadata": {
        "colab": {
          "base_uri": "https://localhost:8080/",
          "height": 776
        },
        "id": "zts3fWpRRfY6",
        "outputId": "5f5d4636-304d-4af6-826c-601e7157e7e4"
      },
      "execution_count": null,
      "outputs": [
        {
          "output_type": "execute_result",
          "data": {
            "text/plain": [
              "<seaborn.axisgrid.PairGrid at 0x7f0a78d0c1c0>"
            ]
          },
          "metadata": {},
          "execution_count": 54
        },
        {
          "output_type": "display_data",
          "data": {
            "text/plain": [
              "<Figure size 750x750 with 12 Axes>"
            ],
            "image/png": "[encoded data removed]"
          },
          "metadata": {}
        }
      ]
    },
    {
      "cell_type": "markdown",
      "source": [
        "Create a mesh to plot the surface representing the execution time as a function of the number of elements and the number of components"
      ],
      "metadata": {
        "id": "l7-QTDqbaQYw"
      }
    },
    {
      "cell_type": "code",
      "source": [
        "xi = np.linspace(X.min(), X.max(), 100)\n",
        "yi = np.linspace(X.min(), X.max(), 100)\n",
        "x,y = np.meshgrid(xi,yi)\n",
        "z = griddata((X,Y),Z,(x,y), method='cubic')"
      ],
      "metadata": {
        "id": "JPkXb9daR-bc"
      },
      "execution_count": null,
      "outputs": []
    },
    {
      "cell_type": "markdown",
      "source": [
        "We plot a 3D surface representing the temporal complexity depending on both parameters (number of components, number of elements). We can clearly see the exponential pattern. Especially for higher number of elements."
      ],
      "metadata": {
        "id": "2JCJF270vC5w"
      }
    },
    {
      "cell_type": "code",
      "source": [
        "fig = go.Figure(go.Surface(x=xi,y=yi,z=z, hidesurface = False))\n",
        "fig.update_traces(contours_z=dict(show=True, usecolormap=True,highlightcolor=\"limegreen\", project_z=True), \n",
        "                  contours_x=dict(show=True, usecolormap=True,highlightcolor=\"limegreen\", project_x=True),\n",
        "                  contours_y=dict(show=True, usecolormap=True,highlightcolor=\"limegreen\", project_y=True))\n",
        "fig.update_layout(title='Execution time % N Components & N elements', autosize=True,\n",
        "                  scene_camera_eye=dict(x=1.87, y=0.88, z=0.64),\n",
        "                  margin=dict(l=65, r=50, b=65, t=90))\n",
        "fig.show()"
      ],
      "metadata": {
        "colab": {
          "base_uri": "https://localhost:8080/",
          "height": 542
        },
        "id": "PsDUYFe8S4y_",
        "outputId": "1967c3b4-cfa5-41b7-ddba-74f5314f0a71"
      },
      "execution_count": null,
      "outputs": [
        {
          "output_type": "display_data",
          "data": {
            "text/html": [
              "<html>\n",
              "<head><meta charset=\"utf-8\" /></head>\n",
              "<body>\n",
              "    <div>            <script src=\"https://cdnjs.cloudflare.com/ajax/libs/mathjax/2.7.5/MathJax.js?config=TeX-AMS-MML_SVG\"></script><script type=\"text/javascript\">if (window.MathJax && window.MathJax.Hub && window.MathJax.Hub.Config) {window.MathJax.Hub.Config({SVG: {font: \"STIX-Web\"}});}</script>                <script type=\"text/javascript\">window.PlotlyConfig = {MathJaxConfig: 'local'};</script>\n",
              "        <script src=\"https://cdn.plot.ly/plotly-2.18.2.min.js\"></script>                <div id=\"34d9423e-e8d4-49b8-bc9d-59108d1605fe\" class=\"plotly-graph-div\" style=\"height:525px; width:100%;\"></div>            <script type=\"text/javascript\">                                    window.PLOTLYENV=window.PLOTLYENV || {};                                    if (document.getElementById(\"34d9423e-e8d4-49b8-bc9d-59108d1605fe\")) {                    Plotly.newPlot(                        \"34d9423e-e8d4-49b8-bc9d-59108d1605fe\",                        [{\"hidesurface\":false,\"x\":[10.0,19.090909090909093,28.181818181818183,37.27272727272727,46.36363636363637,55.45454545454546,64.54545454545455,73.63636363636364,82.72727272727273,91.81818181818183,100.90909090909092,110.00000000000001,119.0909090909091,128.1818181818182,137.27272727272728,146.36363636363637,155.45454545454547,164.54545454545456,173.63636363636365,182.72727272727275,191.81818181818184,200.90909090909093,210.00000000000003,219.09090909090912,228.1818181818182,237.27272727272728,246.36363636363637,255.45454545454547,264.54545454545456,273.6363636363637,282.72727272727275,291.81818181818187,300.90909090909093,310.0,319.0909090909091,328.1818181818182,337.2727272727273,346.3636363636364,355.4545454545455,364.54545454545456,373.6363636363637,382.72727272727275,391.81818181818187,400.90909090909093,410.00000000000006,419.0909090909091,428.18181818181824,437.2727272727273,446.3636363636364,455.4545454545455,464.54545454545456,473.6363636363637,482.72727272727275,491.81818181818187,500.90909090909093,510.00000000000006,519.0909090909091,528.1818181818182,537.2727272727274,546.3636363636364,555.4545454545455,564.5454545454546,573.6363636363637,582.7272727272727,591.8181818181819,600.909090909091,610.0,619.0909090909091,628.1818181818182,637.2727272727274,646.3636363636364,655.4545454545455,664.5454545454546,673.6363636363637,682.7272727272727,691.8181818181819,700.909090909091,710.0000000000001,719.0909090909091,728.1818181818182,737.2727272727274,746.3636363636364,755.4545454545455,764.5454545454546,773.6363636363637,782.7272727272727,791.8181818181819,800.909090909091,810.0000000000001,819.0909090909091,828.1818181818182,837.2727272727274,846.3636363636365,855.4545454545455,864.5454545454546,873.6363636363637,882.7272727272727,891.8181818181819,900.909090909091,910.0],\"y\":[10.0,19.090909090909093,28.181818181818183,37.27272727272727,46.36363636363637,55.45454545454546,64.54545454545455,73.63636363636364,82.72727272727273,91.81818181818183,100.90909090909092,110.00000000000001,119.0909090909091,128.1818181818182,137.27272727272728,146.36363636363637,155.45454545454547,164.54545454545456,173.63636363636365,182.72727272727275,191.81818181818184,200.90909090909093,210.00000000000003,219.09090909090912,228.1818181818182,237.27272727272728,246.36363636363637,255.45454545454547,264.54545454545456,273.6363636363637,282.72727272727275,291.81818181818187,300.90909090909093,310.0,319.0909090909091,328.1818181818182,337.2727272727273,346.3636363636364,355.4545454545455,364.54545454545456,373.6363636363637,382.72727272727275,391.81818181818187,400.90909090909093,410.00000000000006,419.0909090909091,428.18181818181824,437.2727272727273,446.3636363636364,455.4545454545455,464.54545454545456,473.6363636363637,482.72727272727275,491.81818181818187,500.90909090909093,510.00000000000006,519.0909090909091,528.1818181818182,537.2727272727274,546.3636363636364,555.4545454545455,564.5454545454546,573.6363636363637,582.7272727272727,591.8181818181819,600.909090909091,610.0,619.0909090909091,628.1818181818182,637.2727272727274,646.3636363636364,655.4545454545455,664.5454545454546,673.6363636363637,682.7272727272727,691.8181818181819,700.909090909091,710.0000000000001,719.0909090909091,728.1818181818182,737.2727272727274,746.3636363636364,755.4545454545455,764.5454545454546,773.6363636363637,782.7272727272727,791.8181818181819,800.909090909091,810.0000000000001,819.0909090909091,828.1818181818182,837.2727272727274,846.3636363636365,855.4545454545455,864.5454545454546,873.6363636363637,882.7272727272727,891.8181818181819,900.909090909091,910.0],\"z\":[[1.4167184704897402,1.4364973640276466,1.4601983100750422,1.4844656306670023,1.4969964445927555,1.4970572788460697,1.4901206815153716,1.4813418467221215,1.4736448410724412,1.4696061636246482,1.4716234541435853,1.4822982866672523,1.4986694686481394,1.5153855118360133,1.5353419633184109,1.560343319424058,1.5889766952711375,1.6197488692045248,1.6512423826799336,1.6813874433458436,1.7075292204453587,1.7252318623582241,1.7302310830530487,1.7180923585042251,1.690833981052548,1.653956986791457,1.613225662208625,1.5716604280972502,1.5313820358212993,1.493518606322138,1.4593168375631091,1.4262174620301675,1.389959220441111,1.3731391184651822,1.3818303381396433,1.4072770173469416,1.4290086728266342,1.4528458981972263,1.4810031123875649,1.5110184691518374,1.540695400224331,1.5675233530180654,1.5880539316728148,1.5956347053729887,1.5838477826125357,1.5405667456651948,1.4694571139753747,1.403360603859568,1.3575571589167412,1.330586006531979,1.3155371293102633,1.306070336486831,1.3008442049493874,1.2997009826838657,1.3043317962433432,1.3158770926184153,1.3368313244545096,1.3671600366978363,1.404090226435903,1.4441977548655436,1.4870444523877295,1.5337352924004142,1.5906851830114423,1.6648146850552934,1.7580993850031297,1.8584194065601796,1.9349871591655834,1.9779681028305034,1.995927305112946,2.0021668347208323,2.004807494956983,2.005997568708849,2.00401866655504,1.9970623574603956,1.986500028122972,1.9757538871783387,1.974063488172734,1.9900175539367497,1.9970312430579757,1.9726917486913904,1.944596668846938,1.9407658431700414,1.9611220498625694,1.9938490489206488,2.028195540312133,2.0595309029275866,2.0836206214455752,2.0947276242062682,2.086684450666078,2.0599701429538793,2.023277897523797,1.9827388726971074,1.9437944960003746,1.9120824840019837,1.8943427311467191,1.9051679953969418,1.9603102611149645,2.0624438776392955,2.1830042039933026,2.2887228396802017],[1.6432939154076023,1.6855795642215032,1.7305893557664866,1.777261985756298,1.82452817820838,1.8718796340858277,1.9195874854903208,1.9680042475176265,2.016900226657614,2.0553479581052883,2.085031511256091,2.117450468903241,2.1513160212925198,2.1816255825870963,2.2065736825867632,2.2242997108486118,2.2345068630238956,2.2405356248262884,2.2466802535434316,2.2569396316864037,2.2687771746937457,2.2777436900578323,2.2762791228892856,2.2587135127485323,2.2268494585349874,2.191318195176555,2.151478682439504,2.1012007685489817,2.0457170362015598,1.9907699143051198,1.941052892660695,1.9002317419690422,1.8729617216528247,1.8639380320898562,1.875102596284895,1.9026580143210992,1.9426905021938765,1.991331411555771,2.0453114124982084,2.0998069076373365,2.148896480691528,2.1872926492360003,2.2232612259928093,2.2562609894331547,2.270281916952346,2.2572827577281367,2.219322463774831,2.1636318479824945,2.0974001533122495,2.025927274597553,1.9549319233234106,1.8913695497071266,1.842620791924471,1.8218286771514105,1.8248208970565414,1.8377424053486318,1.862707249880978,1.9014047988545442,1.9635045541925022,2.0518269216557803,2.154089947169227,2.266495247707723,2.385797374941392,2.509262321114016,2.631706666819838,2.7447752545653556,2.8401140005063663,2.912726759524378,2.9666243607962124,3.0069631819206504,3.0389446241995666,3.0648442702950307,3.082719176598189,3.0901258290205633,3.0853473845970907,3.0809231753348914,3.084497787928565,3.1109540619312477,3.134861490423776,3.128961464399991,3.10035622253951,3.0561088258053086,3.002112761735236,2.9451189202721046,2.8929406610621675,2.854119405046213,2.8479115762808767,2.8638853642286004,2.864663636678957,2.8514703141493207,2.8394343500040757,2.867483027103387,2.947277750341882,3.0566934526654457,3.189280228712067,3.339600956918909,3.503027575211766,3.6736279200520743,3.8427954680766976,4.001907491542518],[1.8792119783243644,1.9347914229559449,1.992147337286882,2.0498991581961663,2.1076874393672673,2.1655243366893173,2.2234220060514525,2.281392603342808,2.339439152673025,2.397436464939226,2.4546552667724595,2.5062530513215755,2.5494286106083814,2.586130011865098,2.613988706843797,2.6330597271827436,2.64438698057846,2.6490143747274653,2.6479858173262807,2.6428969056000535,2.6391861857798937,2.6353270784867773,2.6286301938514716,2.628122998260699,2.6161720865783757,2.590593348449379,2.5582552022035276,2.5233890854647294,2.4887556003602453,2.4569218310738346,2.430454861789255,2.4119217766902636,2.4042804463262257,2.411656361935697,2.4314860141666825,2.4588346297078294,2.4955164936549483,2.540232133785758,2.5904477500651923,2.6436295424581875,2.697243710929677,2.7482415973231893,2.7900400187555907,2.810570348222187,2.820482033315805,2.8430626546465545,2.8627830960082763,2.873310159547612,2.8751462575722004,2.871609507720071,2.8660180276292593,2.8616899349377976,2.8636421521840223,2.888763291638337,2.960303464632294,3.0300905267143996,2.9906164664672703,2.969038812755794,3.0023155618096395,3.0627972054614125,3.1353924051502884,3.2163807598765604,3.303668681715573,3.3951625827426692,3.4887688750331933,3.585076267120981,3.6911808710642604,3.8071612351418898,3.927589681848684,4.045008721922841,4.156977311867281,4.2630680929983065,4.362853706632214,4.4559067940853,4.542764152219168,4.63063113767508,4.74474621705185,4.859471270233495,4.891645156593426,4.8828759490117495,4.851340788273229,4.805303612967094,4.749386139497917,4.688210084270259,4.626397163688697,4.568471968207952,4.5188600284479445,4.476197673454004,4.44457580968207,4.43948526693158,4.47095822765702,4.54380973788588,4.64864528465676,4.776983456885085,4.9249393649289726,5.089243386152495,5.2666258979197265,5.453817277594737,5.646784815925615,5.839094740630221],[2.0893045858069477,2.1360604946393,2.186541142488603,2.238511188727052,2.289393795240423,2.3399643886698236,2.391854078308103,2.443737676863217,2.494108488174045,2.540747941754526,2.581510595803891,2.6143694270018023,2.6406345086311815,2.662363343872858,2.6803027933249233,2.699014855494287,2.7174747780506188,2.7274409252708307,2.7322959631924957,2.736115586276985,2.7438269933127817,2.758371458420798,2.7822065047922315,2.8135147614201053,2.8493714576975053,2.890573017415727,2.9371045810555874,2.9821037054573143,3.0158489202377257,3.029512713882477,3.035598703010432,3.0444290608758,3.0646167215648625,3.1029071412367193,3.1535342945518208,3.2082820161566934,3.2667020030825817,3.3250089803564213,3.3651554410156113,3.363962392931672,3.3412348842861332,3.3187192143996747,3.3143568998444284,3.3327152219467107,3.3765138779884833,3.4356095456134232,3.49664187517917,3.5633456297772197,3.651367962358163,3.7860237835784543,3.986874945192242,4.220536794277557,4.4506761020000685,4.63734616156591,4.760210903234217,4.803002339604392,4.754798749103479,4.636836939601093,4.481086717860499,4.3227515157685925,4.201733265404209,4.141787982533746,4.163451207446855,4.240183429631906,4.347800902146327,4.472311602323251,4.611141180316541,4.764316834551387,4.92678456305499,5.095940460992266,5.275643297788637,5.494324698865808,5.7963483104466365,6.152817936673495,6.530596908854125,6.883046388451994,7.168558853133141,7.348429539443709,7.428505549039416,7.4495946654022,7.43650557628518,7.415863502372911,7.380403537274147,7.308116581320338,7.211952272866045,7.106589311763695,7.006845896809489,6.9232448205992485,6.865514210941032,6.835910629007901,6.830161055633946,6.848199248118776,6.890629924518428,6.960128667533798,7.057356755833345,7.182911129476778,7.338845657409109,7.519895342081013,7.706695486646155,7.885474892315342],[2.1752650849075157,2.202249325245431,2.2363311196266293,2.275263421439779,2.3167576239595444,2.3596975670823275,2.4029670907045295,2.4454500347225525,2.486030239032797,2.5235915435316665,2.5570177881155622,2.5870321787238337,2.612542273914976,2.633635181700772,2.6532400905552054,2.672694936422263,2.6933376552459314,2.7165061829701984,2.743538455539048,2.775772408896471,2.814545978986449,2.8615198782932634,2.91620254206665,2.9909666516915014,3.081705108282412,3.1839674218244096,3.2950048983318148,3.4120688438189477,3.5324105643001267,3.653281365789674,3.7719325543019075,3.8856154358511503,3.9913822474132683,4.090358089226297,4.166855700326623,4.20383315941608,4.215687023657135,4.213777205493672,4.205473747480352,4.198146692171835,4.199166082122785,4.215901959887863,4.255724368021728,4.326003349079046,4.429189728887627,4.542702809978421,4.722519702695441,4.935628827276439,5.164011196243117,5.396327040774865,5.6212365920510825,5.82740008125116,6.003477739554494,6.138129798140482,6.220016488188518,6.245920617257303,6.230877266448565,6.184440244561754,6.113062515319593,6.026854168658429,5.937077718463874,5.854995678621544,5.791870563017052,5.758964885536011,5.7675411600640345,5.828861900486735,5.9666671562515825,6.238922566792834,6.609830003077283,7.043420537691908,7.518323523272495,8.013168312454843,8.506584257874735,8.977200712167962,9.403647027970312,9.764552557917577,10.038608446896037,10.227562788080936,10.309740420469602,10.342312892574999,10.323589159356025,10.263286126264058,10.170885634009123,10.055869523301254,9.927719634850474,9.79591780936681,9.669945887560287,9.559285710140928,9.476181703380684,9.428137704550794,9.410495538948421,9.421782556876773,9.459325639975093,9.520451669882636,9.602487528238653,9.702760096682388,9.818596256853091,9.947322890390016,10.08727085837307,10.241744760677872],[2.106319295621668,2.155931675599203,2.195237726403444,2.228227735146131,2.2597347138963144,2.290746905098136,2.3210752855892283,2.362051702050117,2.414167273983665,2.4715423982148987,2.5298851463655,2.590149903898024,2.645088868473737,2.6895255620586314,2.728563369300934,2.7736270340143006,2.8299606718724,2.8894826961990256,2.933620945287815,2.975561211325709,3.0327739516435073,3.1177589540212907,3.233736735343559,3.3809913294651146,3.5537789868878464,3.745539744675723,3.9441400452392026,4.1435309467946375,4.348390430548192,4.573174450953127,4.809028147233723,5.039080551014929,5.2430936649380895,5.412329702897173,5.548896503628424,5.662438100943836,5.755750339532777,5.838984457205924,5.922760103018951,6.01196455635009,6.06934037680695,6.096040211508395,6.117302079703091,6.157189224932676,6.218795541509924,6.273984227427642,6.296137000566381,6.289238165076796,6.271847706709975,6.270497690524341,6.308260711733037,6.415213921669396,6.569912987297294,6.73096730412874,6.858598257525197,6.9483922064152805,7.01435774654175,7.082384518409727,7.168452094215709,7.27780077898543,7.386738149347281,7.467979033401599,7.530181880451143,7.591260873465178,7.670994824457759,7.824384035341783,8.086778530535977,8.490678130675306,9.015426594965314,9.609572194308715,10.188223789329905,10.712323464379995,11.197063884557442,11.711238009758414,12.222518098704189,12.679287307103893,13.028941812614788,13.24721937993719,13.319067963109394,13.262442480434027,13.103287504914768,12.899047566904382,12.707469631402905,12.566996113412706,12.433357366735311,12.28875433130905,12.147497403713551,12.033457641990022,11.962173786801882,11.927329546490878,11.913034153579598,11.920578054364206,11.962197358418495,12.042731310902802,12.163643536280341,12.320752034731829,12.506141061659317,12.707723727224215,12.91050222075207,13.105612461873669],[2.0326908704043074,2.09224809378226,2.1521042804522534,2.213067669250171,2.275691883679961,2.3405305472455753,2.408137283450965,2.479065715800078,2.5538694677968676,2.633102162945282,2.717317424749274,2.806933209593874,2.892020659335883,2.963901403195397,3.02921100229483,3.093338105499006,3.1616713616727528,3.2395994196808946,3.332510928388258,3.4457945366596663,3.584838893359949,3.7550326473539295,3.9614855660827684,4.197316159437996,4.44805729555903,4.7092843191721485,4.9776303165919735,5.249728374133117,5.522211578110189,5.791713014837807,6.054865770630586,6.308302931803139,6.548657584670078,6.772287634369582,6.974896941274057,7.159262998761628,7.326969191747804,7.479593748687829,7.61871489803695,7.745910868250405,7.862759887783444,7.970840185091309,8.071729988629246,8.167007526852496,8.2585648517117,8.328655834897239,8.35701481821812,8.350721920212683,8.317306023534137,8.26429601083568,8.199220764770521,8.12960916799186,8.062990103152904,8.006892452906857,7.968845099906922,7.960062730389235,7.992067353761311,8.092029249876376,8.255647112659325,8.476786453949108,8.749312785584692,9.067091619405026,9.42398846724907,9.813868840955775,10.230598252364107,10.668042213313017,11.115403370233107,11.610775472273923,12.157333969255676,12.7360200303806,13.329624347989197,13.920937614422,14.492750522019508,15.027853763122241,15.509038030070698,15.919094015205417,16.24081241086689,16.456782122216435,16.553599043987447,16.546815896119842,16.4558550014771,16.300005594528958,16.098556909745163,15.870798181595461,15.6360186445496,15.413507533077317,15.222554081648362,15.08244752473248,15.015215812947634,15.011299844505729,15.058316156176168,15.150839888113879,15.283814660289165,15.452184092672335,15.650891805233682,15.874881417943515,16.11909655077213,16.378480823689845,16.647977856666948,16.922311839699677],[2.095141458438674,2.188911642104001,2.2828050581518284,2.3775040219178956,2.473865456381581,2.572925171591103,2.6754976455345787,2.785581904889659,2.911245204661173,3.0522701421723557,3.2049360270722134,3.3683514111899995,3.5486400525846675,3.7455463767733916,3.947605523489356,4.140321167480843,4.318329668559862,4.47085952563988,4.607635106915307,4.745316201766775,4.898644358803687,5.069249756241923,5.2550943555134735,5.441203032846339,5.619013775097165,5.79964737246454,6.006041911460886,6.250804341236921,6.523113528318909,6.808728669886419,7.0985157496405495,7.379853044331602,7.644732624001824,7.888532323827855,8.116097964196339,8.334335518239797,8.541713050253687,8.738272004201395,8.929608051407138,9.12209081329417,9.324540106307564,9.540221610280348,9.756086232877964,9.937632600651934,10.062037652176286,10.121854828176927,10.128494549078106,10.092627173948996,10.03109614560348,9.96836956100893,9.922003619342373,9.906290494369719,9.922781312073347,9.974188860317431,10.082320117460233,10.267332362142852,10.52295085668248,10.831508116642082,11.192979363578061,11.601716924569898,12.036844972242797,12.477966987840611,12.933389717497956,13.452966948797723,14.01679683713556,14.573256149703964,15.09569915500348,15.589464512902618,16.068312049109846,16.52843140164886,16.977205070240874,17.427455376405835,17.917482459353497,18.430201550272656,18.92729350764574,19.35940982531652,19.69490447119005,19.913938200925113,20.0049141370341,19.98354367228251,19.870949967708878,19.701421138198818,19.529998411006265,19.400137158693656,19.328829301689066,19.273537944242303,19.23366232207943,19.22538938211255,19.26769801623682,19.368243204635892,19.5153193124797,19.69742000265856,19.909303609286574,20.152265019561735,20.426885236571376,20.728805695307734,21.05259294582399,21.384978738183204,21.70943089028772,22.012206707742415],[2.2617546892666835,2.3820793995278335,2.506537511162823,2.641732996022697,2.78718642233336,2.9435677390703483,3.111750331293213,3.292607584061508,3.487012882434787,3.695839611472602,3.9199322634436156,4.159322574914859,4.418995920522622,4.695943524664407,4.978799286264561,5.262766557554424,5.5433002423022995,5.815855244276495,6.075886467245308,6.31884881497705,6.54050453648085,6.738435996849731,6.919582201202481,7.090203116678163,7.241310520233637,7.379666185898074,7.511856448061536,7.64447158041799,7.784101856661399,7.93733755048573,8.110768935584947,8.312132776088296,8.555888673440144,8.81673722632287,9.063614529411911,9.321872384213373,9.606019722801824,9.90589959121603,10.21219542719841,10.515762500803914,10.807456082087493,11.0781314411041,11.31864384790868,11.519448848653703,11.660401959275344,11.733611358255818,11.805902965991317,11.894785406634709,11.99635275421404,12.114848917492024,12.255818200577549,12.4248049075795,12.62735334260677,12.86900780976825,13.155925334646751,13.510130103563496,13.927432123201715,14.37440554601917,14.887659100616116,15.445875598770808,16.036929916292998,16.650423311900376,17.27595704431063,17.903132372241473,18.521550554410585,19.12052853970233,19.68145277859576,20.204294754786225,20.6959764470286,21.146778439624878,21.558209471697367,21.9322230890067,22.270772837313494,22.57581226237835,22.84929490996188,23.09531061303733,23.33260485605639,23.54792888605625,23.6384454919444,23.715423534240163,23.78430595875993,23.838265629758478,23.882531381569642,23.92397905304091,23.969484483019745,24.02592351035365,24.10017197389009,24.199684510934812,24.3468023949122,24.554108642409133,24.807605992234148,25.09185055672299,25.401716385642732,25.732482625787878,26.07942842395293,26.437832926932384,26.802975281520748,27.171702146196978,27.55106606537674,27.931825514736627],[null,null,null,null,null,null,null,null,null,null,null,null,null,null,null,null,null,null,null,null,null,null,null,null,null,null,null,null,null,null,null,null,null,null,null,null,null,null,null,null,null,null,null,null,null,null,null,null,null,null,null,null,null,null,null,null,null,null,null,null,null,null,null,null,null,null,null,null,null,null,null,null,null,null,null,null,null,null,null,null,null,null,null,null,null,null,null,null,null,null,null,null,null,null,null,null,null,null,null,null],[null,null,null,null,null,null,null,null,null,null,null,null,null,null,null,null,null,null,null,null,null,null,null,null,null,null,null,null,null,null,null,null,null,null,null,null,null,null,null,null,null,null,null,null,null,null,null,null,null,null,null,null,null,null,null,null,null,null,null,null,null,null,null,null,null,null,null,null,null,null,null,null,null,null,null,null,null,null,null,null,null,null,null,null,null,null,null,null,null,null,null,null,null,null,null,null,null,null,null,null],[null,null,null,null,null,null,null,null,null,null,null,null,null,null,null,null,null,null,null,null,null,null,null,null,null,null,null,null,null,null,null,null,null,null,null,null,null,null,null,null,null,null,null,null,null,null,null,null,null,null,null,null,null,null,null,null,null,null,null,null,null,null,null,null,null,null,null,null,null,null,null,null,null,null,null,null,null,null,null,null,null,null,null,null,null,null,null,null,null,null,null,null,null,null,null,null,null,null,null,null],[null,null,null,null,null,null,null,null,null,null,null,null,null,null,null,null,null,null,null,null,null,null,null,null,null,null,null,null,null,null,null,null,null,null,null,null,null,null,null,null,null,null,null,null,null,null,null,null,null,null,null,null,null,null,null,null,null,null,null,null,null,null,null,null,null,null,null,null,null,null,null,null,null,null,null,null,null,null,null,null,null,null,null,null,null,null,null,null,null,null,null,null,null,null,null,null,null,null,null,null],[null,null,null,null,null,null,null,null,null,null,null,null,null,null,null,null,null,null,null,null,null,null,null,null,null,null,null,null,null,null,null,null,null,null,null,null,null,null,null,null,null,null,null,null,null,null,null,null,null,null,null,null,null,null,null,null,null,null,null,null,null,null,null,null,null,null,null,null,null,null,null,null,null,null,null,null,null,null,null,null,null,null,null,null,null,null,null,null,null,null,null,null,null,null,null,null,null,null,null,null],[null,null,null,null,null,null,null,null,null,null,null,null,null,null,null,null,null,null,null,null,null,null,null,null,null,null,null,null,null,null,null,null,null,null,null,null,null,null,null,null,null,null,null,null,null,null,null,null,null,null,null,null,null,null,null,null,null,null,null,null,null,null,null,null,null,null,null,null,null,null,null,null,null,null,null,null,null,null,null,null,null,null,null,null,null,null,null,null,null,null,null,null,null,null,null,null,null,null,null,null],[null,null,null,null,null,null,null,null,null,null,null,null,null,null,null,null,null,null,null,null,null,null,null,null,null,null,null,null,null,null,null,null,null,null,null,null,null,null,null,null,null,null,null,null,null,null,null,null,null,null,null,null,null,null,null,null,null,null,null,null,null,null,null,null,null,null,null,null,null,null,null,null,null,null,null,null,null,null,null,null,null,null,null,null,null,null,null,null,null,null,null,null,null,null,null,null,null,null,null,null],[null,null,null,null,null,null,null,null,null,null,null,null,null,null,null,null,null,null,null,null,null,null,null,null,null,null,null,null,null,null,null,null,null,null,null,null,null,null,null,null,null,null,null,null,null,null,null,null,null,null,null,null,null,null,null,null,null,null,null,null,null,null,null,null,null,null,null,null,null,null,null,null,null,null,null,null,null,null,null,null,null,null,null,null,null,null,null,null,null,null,null,null,null,null,null,null,null,null,null,null],[null,null,null,null,null,null,null,null,null,null,null,null,null,null,null,null,null,null,null,null,null,null,null,null,null,null,null,null,null,null,null,null,null,null,null,null,null,null,null,null,null,null,null,null,null,null,null,null,null,null,null,null,null,null,null,null,null,null,null,null,null,null,null,null,null,null,null,null,null,null,null,null,null,null,null,null,null,null,null,null,null,null,null,null,null,null,null,null,null,null,null,null,null,null,null,null,null,null,null,null],[null,null,null,null,null,null,null,null,null,null,null,null,null,null,null,null,null,null,null,null,null,null,null,null,null,null,null,null,null,null,null,null,null,null,null,null,null,null,null,null,null,null,null,null,null,null,null,null,null,null,null,null,null,null,null,null,null,null,null,null,null,null,null,null,null,null,null,null,null,null,null,null,null,null,null,null,null,null,null,null,null,null,null,null,null,null,null,null,null,null,null,null,null,null,null,null,null,null,null,null],[null,null,null,null,null,null,null,null,null,null,null,null,null,null,null,null,null,null,null,null,null,null,null,null,null,null,null,null,null,null,null,null,null,null,null,null,null,null,null,null,null,null,null,null,null,null,null,null,null,null,null,null,null,null,null,null,null,null,null,null,null,null,null,null,null,null,null,null,null,null,null,null,null,null,null,null,null,null,null,null,null,null,null,null,null,null,null,null,null,null,null,null,null,null,null,null,null,null,null,null],[null,null,null,null,null,null,null,null,null,null,null,null,null,null,null,null,null,null,null,null,null,null,null,null,null,null,null,null,null,null,null,null,null,null,null,null,null,null,null,null,null,null,null,null,null,null,null,null,null,null,null,null,null,null,null,null,null,null,null,null,null,null,null,null,null,null,null,null,null,null,null,null,null,null,null,null,null,null,null,null,null,null,null,null,null,null,null,null,null,null,null,null,null,null,null,null,null,null,null,null],[null,null,null,null,null,null,null,null,null,null,null,null,null,null,null,null,null,null,null,null,null,null,null,null,null,null,null,null,null,null,null,null,null,null,null,null,null,null,null,null,null,null,null,null,null,null,null,null,null,null,null,null,null,null,null,null,null,null,null,null,null,null,null,null,null,null,null,null,null,null,null,null,null,null,null,null,null,null,null,null,null,null,null,null,null,null,null,null,null,null,null,null,null,null,null,null,null,null,null,null],[null,null,null,null,null,null,null,null,null,null,null,null,null,null,null,null,null,null,null,null,null,null,null,null,null,null,null,null,null,null,null,null,null,null,null,null,null,null,null,null,null,null,null,null,null,null,null,null,null,null,null,null,null,null,null,null,null,null,null,null,null,null,null,null,null,null,null,null,null,null,null,null,null,null,null,null,null,null,null,null,null,null,null,null,null,null,null,null,null,null,null,null,null,null,null,null,null,null,null,null],[null,null,null,null,null,null,null,null,null,null,null,null,null,null,null,null,null,null,null,null,null,null,null,null,null,null,null,null,null,null,null,null,null,null,null,null,null,null,null,null,null,null,null,null,null,null,null,null,null,null,null,null,null,null,null,null,null,null,null,null,null,null,null,null,null,null,null,null,null,null,null,null,null,null,null,null,null,null,null,null,null,null,null,null,null,null,null,null,null,null,null,null,null,null,null,null,null,null,null,null],[null,null,null,null,null,null,null,null,null,null,null,null,null,null,null,null,null,null,null,null,null,null,null,null,null,null,null,null,null,null,null,null,null,null,null,null,null,null,null,null,null,null,null,null,null,null,null,null,null,null,null,null,null,null,null,null,null,null,null,null,null,null,null,null,null,null,null,null,null,null,null,null,null,null,null,null,null,null,null,null,null,null,null,null,null,null,null,null,null,null,null,null,null,null,null,null,null,null,null,null],[null,null,null,null,null,null,null,null,null,null,null,null,null,null,null,null,null,null,null,null,null,null,null,null,null,null,null,null,null,null,null,null,null,null,null,null,null,null,null,null,null,null,null,null,null,null,null,null,null,null,null,null,null,null,null,null,null,null,null,null,null,null,null,null,null,null,null,null,null,null,null,null,null,null,null,null,null,null,null,null,null,null,null,null,null,null,null,null,null,null,null,null,null,null,null,null,null,null,null,null],[null,null,null,null,null,null,null,null,null,null,null,null,null,null,null,null,null,null,null,null,null,null,null,null,null,null,null,null,null,null,null,null,null,null,null,null,null,null,null,null,null,null,null,null,null,null,null,null,null,null,null,null,null,null,null,null,null,null,null,null,null,null,null,null,null,null,null,null,null,null,null,null,null,null,null,null,null,null,null,null,null,null,null,null,null,null,null,null,null,null,null,null,null,null,null,null,null,null,null,null],[null,null,null,null,null,null,null,null,null,null,null,null,null,null,null,null,null,null,null,null,null,null,null,null,null,null,null,null,null,null,null,null,null,null,null,null,null,null,null,null,null,null,null,null,null,null,null,null,null,null,null,null,null,null,null,null,null,null,null,null,null,null,null,null,null,null,null,null,null,null,null,null,null,null,null,null,null,null,null,null,null,null,null,null,null,null,null,null,null,null,null,null,null,null,null,null,null,null,null,null],[null,null,null,null,null,null,null,null,null,null,null,null,null,null,null,null,null,null,null,null,null,null,null,null,null,null,null,null,null,null,null,null,null,null,null,null,null,null,null,null,null,null,null,null,null,null,null,null,null,null,null,null,null,null,null,null,null,null,null,null,null,null,null,null,null,null,null,null,null,null,null,null,null,null,null,null,null,null,null,null,null,null,null,null,null,null,null,null,null,null,null,null,null,null,null,null,null,null,null,null],[null,null,null,null,null,null,null,null,null,null,null,null,null,null,null,null,null,null,null,null,null,null,null,null,null,null,null,null,null,null,null,null,null,null,null,null,null,null,null,null,null,null,null,null,null,null,null,null,null,null,null,null,null,null,null,null,null,null,null,null,null,null,null,null,null,null,null,null,null,null,null,null,null,null,null,null,null,null,null,null,null,null,null,null,null,null,null,null,null,null,null,null,null,null,null,null,null,null,null,null],[null,null,null,null,null,null,null,null,null,null,null,null,null,null,null,null,null,null,null,null,null,null,null,null,null,null,null,null,null,null,null,null,null,null,null,null,null,null,null,null,null,null,null,null,null,null,null,null,null,null,null,null,null,null,null,null,null,null,null,null,null,null,null,null,null,null,null,null,null,null,null,null,null,null,null,null,null,null,null,null,null,null,null,null,null,null,null,null,null,null,null,null,null,null,null,null,null,null,null,null],[null,null,null,null,null,null,null,null,null,null,null,null,null,null,null,null,null,null,null,null,null,null,null,null,null,null,null,null,null,null,null,null,null,null,null,null,null,null,null,null,null,null,null,null,null,null,null,null,null,null,null,null,null,null,null,null,null,null,null,null,null,null,null,null,null,null,null,null,null,null,null,null,null,null,null,null,null,null,null,null,null,null,null,null,null,null,null,null,null,null,null,null,null,null,null,null,null,null,null,null],[null,null,null,null,null,null,null,null,null,null,null,null,null,null,null,null,null,null,null,null,null,null,null,null,null,null,null,null,null,null,null,null,null,null,null,null,null,null,null,null,null,null,null,null,null,null,null,null,null,null,null,null,null,null,null,null,null,null,null,null,null,null,null,null,null,null,null,null,null,null,null,null,null,null,null,null,null,null,null,null,null,null,null,null,null,null,null,null,null,null,null,null,null,null,null,null,null,null,null,null],[null,null,null,null,null,null,null,null,null,null,null,null,null,null,null,null,null,null,null,null,null,null,null,null,null,null,null,null,null,null,null,null,null,null,null,null,null,null,null,null,null,null,null,null,null,null,null,null,null,null,null,null,null,null,null,null,null,null,null,null,null,null,null,null,null,null,null,null,null,null,null,null,null,null,null,null,null,null,null,null,null,null,null,null,null,null,null,null,null,null,null,null,null,null,null,null,null,null,null,null],[null,null,null,null,null,null,null,null,null,null,null,null,null,null,null,null,null,null,null,null,null,null,null,null,null,null,null,null,null,null,null,null,null,null,null,null,null,null,null,null,null,null,null,null,null,null,null,null,null,null,null,null,null,null,null,null,null,null,null,null,null,null,null,null,null,null,null,null,null,null,null,null,null,null,null,null,null,null,null,null,null,null,null,null,null,null,null,null,null,null,null,null,null,null,null,null,null,null,null,null],[null,null,null,null,null,null,null,null,null,null,null,null,null,null,null,null,null,null,null,null,null,null,null,null,null,null,null,null,null,null,null,null,null,null,null,null,null,null,null,null,null,null,null,null,null,null,null,null,null,null,null,null,null,null,null,null,null,null,null,null,null,null,null,null,null,null,null,null,null,null,null,null,null,null,null,null,null,null,null,null,null,null,null,null,null,null,null,null,null,null,null,null,null,null,null,null,null,null,null,null],[null,null,null,null,null,null,null,null,null,null,null,null,null,null,null,null,null,null,null,null,null,null,null,null,null,null,null,null,null,null,null,null,null,null,null,null,null,null,null,null,null,null,null,null,null,null,null,null,null,null,null,null,null,null,null,null,null,null,null,null,null,null,null,null,null,null,null,null,null,null,null,null,null,null,null,null,null,null,null,null,null,null,null,null,null,null,null,null,null,null,null,null,null,null,null,null,null,null,null,null],[null,null,null,null,null,null,null,null,null,null,null,null,null,null,null,null,null,null,null,null,null,null,null,null,null,null,null,null,null,null,null,null,null,null,null,null,null,null,null,null,null,null,null,null,null,null,null,null,null,null,null,null,null,null,null,null,null,null,null,null,null,null,null,null,null,null,null,null,null,null,null,null,null,null,null,null,null,null,null,null,null,null,null,null,null,null,null,null,null,null,null,null,null,null,null,null,null,null,null,null],[null,null,null,null,null,null,null,null,null,null,null,null,null,null,null,null,null,null,null,null,null,null,null,null,null,null,null,null,null,null,null,null,null,null,null,null,null,null,null,null,null,null,null,null,null,null,null,null,null,null,null,null,null,null,null,null,null,null,null,null,null,null,null,null,null,null,null,null,null,null,null,null,null,null,null,null,null,null,null,null,null,null,null,null,null,null,null,null,null,null,null,null,null,null,null,null,null,null,null,null],[null,null,null,null,null,null,null,null,null,null,null,null,null,null,null,null,null,null,null,null,null,null,null,null,null,null,null,null,null,null,null,null,null,null,null,null,null,null,null,null,null,null,null,null,null,null,null,null,null,null,null,null,null,null,null,null,null,null,null,null,null,null,null,null,null,null,null,null,null,null,null,null,null,null,null,null,null,null,null,null,null,null,null,null,null,null,null,null,null,null,null,null,null,null,null,null,null,null,null,null],[null,null,null,null,null,null,null,null,null,null,null,null,null,null,null,null,null,null,null,null,null,null,null,null,null,null,null,null,null,null,null,null,null,null,null,null,null,null,null,null,null,null,null,null,null,null,null,null,null,null,null,null,null,null,null,null,null,null,null,null,null,null,null,null,null,null,null,null,null,null,null,null,null,null,null,null,null,null,null,null,null,null,null,null,null,null,null,null,null,null,null,null,null,null,null,null,null,null,null,null],[null,null,null,null,null,null,null,null,null,null,null,null,null,null,null,null,null,null,null,null,null,null,null,null,null,null,null,null,null,null,null,null,null,null,null,null,null,null,null,null,null,null,null,null,null,null,null,null,null,null,null,null,null,null,null,null,null,null,null,null,null,null,null,null,null,null,null,null,null,null,null,null,null,null,null,null,null,null,null,null,null,null,null,null,null,null,null,null,null,null,null,null,null,null,null,null,null,null,null,null],[null,null,null,null,null,null,null,null,null,null,null,null,null,null,null,null,null,null,null,null,null,null,null,null,null,null,null,null,null,null,null,null,null,null,null,null,null,null,null,null,null,null,null,null,null,null,null,null,null,null,null,null,null,null,null,null,null,null,null,null,null,null,null,null,null,null,null,null,null,null,null,null,null,null,null,null,null,null,null,null,null,null,null,null,null,null,null,null,null,null,null,null,null,null,null,null,null,null,null,null],[null,null,null,null,null,null,null,null,null,null,null,null,null,null,null,null,null,null,null,null,null,null,null,null,null,null,null,null,null,null,null,null,null,null,null,null,null,null,null,null,null,null,null,null,null,null,null,null,null,null,null,null,null,null,null,null,null,null,null,null,null,null,null,null,null,null,null,null,null,null,null,null,null,null,null,null,null,null,null,null,null,null,null,null,null,null,null,null,null,null,null,null,null,null,null,null,null,null,null,null],[null,null,null,null,null,null,null,null,null,null,null,null,null,null,null,null,null,null,null,null,null,null,null,null,null,null,null,null,null,null,null,null,null,null,null,null,null,null,null,null,null,null,null,null,null,null,null,null,null,null,null,null,null,null,null,null,null,null,null,null,null,null,null,null,null,null,null,null,null,null,null,null,null,null,null,null,null,null,null,null,null,null,null,null,null,null,null,null,null,null,null,null,null,null,null,null,null,null,null,null],[null,null,null,null,null,null,null,null,null,null,null,null,null,null,null,null,null,null,null,null,null,null,null,null,null,null,null,null,null,null,null,null,null,null,null,null,null,null,null,null,null,null,null,null,null,null,null,null,null,null,null,null,null,null,null,null,null,null,null,null,null,null,null,null,null,null,null,null,null,null,null,null,null,null,null,null,null,null,null,null,null,null,null,null,null,null,null,null,null,null,null,null,null,null,null,null,null,null,null,null],[null,null,null,null,null,null,null,null,null,null,null,null,null,null,null,null,null,null,null,null,null,null,null,null,null,null,null,null,null,null,null,null,null,null,null,null,null,null,null,null,null,null,null,null,null,null,null,null,null,null,null,null,null,null,null,null,null,null,null,null,null,null,null,null,null,null,null,null,null,null,null,null,null,null,null,null,null,null,null,null,null,null,null,null,null,null,null,null,null,null,null,null,null,null,null,null,null,null,null,null],[null,null,null,null,null,null,null,null,null,null,null,null,null,null,null,null,null,null,null,null,null,null,null,null,null,null,null,null,null,null,null,null,null,null,null,null,null,null,null,null,null,null,null,null,null,null,null,null,null,null,null,null,null,null,null,null,null,null,null,null,null,null,null,null,null,null,null,null,null,null,null,null,null,null,null,null,null,null,null,null,null,null,null,null,null,null,null,null,null,null,null,null,null,null,null,null,null,null,null,null],[null,null,null,null,null,null,null,null,null,null,null,null,null,null,null,null,null,null,null,null,null,null,null,null,null,null,null,null,null,null,null,null,null,null,null,null,null,null,null,null,null,null,null,null,null,null,null,null,null,null,null,null,null,null,null,null,null,null,null,null,null,null,null,null,null,null,null,null,null,null,null,null,null,null,null,null,null,null,null,null,null,null,null,null,null,null,null,null,null,null,null,null,null,null,null,null,null,null,null,null],[null,null,null,null,null,null,null,null,null,null,null,null,null,null,null,null,null,null,null,null,null,null,null,null,null,null,null,null,null,null,null,null,null,null,null,null,null,null,null,null,null,null,null,null,null,null,null,null,null,null,null,null,null,null,null,null,null,null,null,null,null,null,null,null,null,null,null,null,null,null,null,null,null,null,null,null,null,null,null,null,null,null,null,null,null,null,null,null,null,null,null,null,null,null,null,null,null,null,null,null],[null,null,null,null,null,null,null,null,null,null,null,null,null,null,null,null,null,null,null,null,null,null,null,null,null,null,null,null,null,null,null,null,null,null,null,null,null,null,null,null,null,null,null,null,null,null,null,null,null,null,null,null,null,null,null,null,null,null,null,null,null,null,null,null,null,null,null,null,null,null,null,null,null,null,null,null,null,null,null,null,null,null,null,null,null,null,null,null,null,null,null,null,null,null,null,null,null,null,null,null],[null,null,null,null,null,null,null,null,null,null,null,null,null,null,null,null,null,null,null,null,null,null,null,null,null,null,null,null,null,null,null,null,null,null,null,null,null,null,null,null,null,null,null,null,null,null,null,null,null,null,null,null,null,null,null,null,null,null,null,null,null,null,null,null,null,null,null,null,null,null,null,null,null,null,null,null,null,null,null,null,null,null,null,null,null,null,null,null,null,null,null,null,null,null,null,null,null,null,null,null],[null,null,null,null,null,null,null,null,null,null,null,null,null,null,null,null,null,null,null,null,null,null,null,null,null,null,null,null,null,null,null,null,null,null,null,null,null,null,null,null,null,null,null,null,null,null,null,null,null,null,null,null,null,null,null,null,null,null,null,null,null,null,null,null,null,null,null,null,null,null,null,null,null,null,null,null,null,null,null,null,null,null,null,null,null,null,null,null,null,null,null,null,null,null,null,null,null,null,null,null],[null,null,null,null,null,null,null,null,null,null,null,null,null,null,null,null,null,null,null,null,null,null,null,null,null,null,null,null,null,null,null,null,null,null,null,null,null,null,null,null,null,null,null,null,null,null,null,null,null,null,null,null,null,null,null,null,null,null,null,null,null,null,null,null,null,null,null,null,null,null,null,null,null,null,null,null,null,null,null,null,null,null,null,null,null,null,null,null,null,null,null,null,null,null,null,null,null,null,null,null],[null,null,null,null,null,null,null,null,null,null,null,null,null,null,null,null,null,null,null,null,null,null,null,null,null,null,null,null,null,null,null,null,null,null,null,null,null,null,null,null,null,null,null,null,null,null,null,null,null,null,null,null,null,null,null,null,null,null,null,null,null,null,null,null,null,null,null,null,null,null,null,null,null,null,null,null,null,null,null,null,null,null,null,null,null,null,null,null,null,null,null,null,null,null,null,null,null,null,null,null],[null,null,null,null,null,null,null,null,null,null,null,null,null,null,null,null,null,null,null,null,null,null,null,null,null,null,null,null,null,null,null,null,null,null,null,null,null,null,null,null,null,null,null,null,null,null,null,null,null,null,null,null,null,null,null,null,null,null,null,null,null,null,null,null,null,null,null,null,null,null,null,null,null,null,null,null,null,null,null,null,null,null,null,null,null,null,null,null,null,null,null,null,null,null,null,null,null,null,null,null],[null,null,null,null,null,null,null,null,null,null,null,null,null,null,null,null,null,null,null,null,null,null,null,null,null,null,null,null,null,null,null,null,null,null,null,null,null,null,null,null,null,null,null,null,null,null,null,null,null,null,null,null,null,null,null,null,null,null,null,null,null,null,null,null,null,null,null,null,null,null,null,null,null,null,null,null,null,null,null,null,null,null,null,null,null,null,null,null,null,null,null,null,null,null,null,null,null,null,null,null],[null,null,null,null,null,null,null,null,null,null,null,null,null,null,null,null,null,null,null,null,null,null,null,null,null,null,null,null,null,null,null,null,null,null,null,null,null,null,null,null,null,null,null,null,null,null,null,null,null,null,null,null,null,null,null,null,null,null,null,null,null,null,null,null,null,null,null,null,null,null,null,null,null,null,null,null,null,null,null,null,null,null,null,null,null,null,null,null,null,null,null,null,null,null,null,null,null,null,null,null],[null,null,null,null,null,null,null,null,null,null,null,null,null,null,null,null,null,null,null,null,null,null,null,null,null,null,null,null,null,null,null,null,null,null,null,null,null,null,null,null,null,null,null,null,null,null,null,null,null,null,null,null,null,null,null,null,null,null,null,null,null,null,null,null,null,null,null,null,null,null,null,null,null,null,null,null,null,null,null,null,null,null,null,null,null,null,null,null,null,null,null,null,null,null,null,null,null,null,null,null],[null,null,null,null,null,null,null,null,null,null,null,null,null,null,null,null,null,null,null,null,null,null,null,null,null,null,null,null,null,null,null,null,null,null,null,null,null,null,null,null,null,null,null,null,null,null,null,null,null,null,null,null,null,null,null,null,null,null,null,null,null,null,null,null,null,null,null,null,null,null,null,null,null,null,null,null,null,null,null,null,null,null,null,null,null,null,null,null,null,null,null,null,null,null,null,null,null,null,null,null],[null,null,null,null,null,null,null,null,null,null,null,null,null,null,null,null,null,null,null,null,null,null,null,null,null,null,null,null,null,null,null,null,null,null,null,null,null,null,null,null,null,null,null,null,null,null,null,null,null,null,null,null,null,null,null,null,null,null,null,null,null,null,null,null,null,null,null,null,null,null,null,null,null,null,null,null,null,null,null,null,null,null,null,null,null,null,null,null,null,null,null,null,null,null,null,null,null,null,null,null],[null,null,null,null,null,null,null,null,null,null,null,null,null,null,null,null,null,null,null,null,null,null,null,null,null,null,null,null,null,null,null,null,null,null,null,null,null,null,null,null,null,null,null,null,null,null,null,null,null,null,null,null,null,null,null,null,null,null,null,null,null,null,null,null,null,null,null,null,null,null,null,null,null,null,null,null,null,null,null,null,null,null,null,null,null,null,null,null,null,null,null,null,null,null,null,null,null,null,null,null],[null,null,null,null,null,null,null,null,null,null,null,null,null,null,null,null,null,null,null,null,null,null,null,null,null,null,null,null,null,null,null,null,null,null,null,null,null,null,null,null,null,null,null,null,null,null,null,null,null,null,null,null,null,null,null,null,null,null,null,null,null,null,null,null,null,null,null,null,null,null,null,null,null,null,null,null,null,null,null,null,null,null,null,null,null,null,null,null,null,null,null,null,null,null,null,null,null,null,null,null],[null,null,null,null,null,null,null,null,null,null,null,null,null,null,null,null,null,null,null,null,null,null,null,null,null,null,null,null,null,null,null,null,null,null,null,null,null,null,null,null,null,null,null,null,null,null,null,null,null,null,null,null,null,null,null,null,null,null,null,null,null,null,null,null,null,null,null,null,null,null,null,null,null,null,null,null,null,null,null,null,null,null,null,null,null,null,null,null,null,null,null,null,null,null,null,null,null,null,null,null],[null,null,null,null,null,null,null,null,null,null,null,null,null,null,null,null,null,null,null,null,null,null,null,null,null,null,null,null,null,null,null,null,null,null,null,null,null,null,null,null,null,null,null,null,null,null,null,null,null,null,null,null,null,null,null,null,null,null,null,null,null,null,null,null,null,null,null,null,null,null,null,null,null,null,null,null,null,null,null,null,null,null,null,null,null,null,null,null,null,null,null,null,null,null,null,null,null,null,null,null],[null,null,null,null,null,null,null,null,null,null,null,null,null,null,null,null,null,null,null,null,null,null,null,null,null,null,null,null,null,null,null,null,null,null,null,null,null,null,null,null,null,null,null,null,null,null,null,null,null,null,null,null,null,null,null,null,null,null,null,null,null,null,null,null,null,null,null,null,null,null,null,null,null,null,null,null,null,null,null,null,null,null,null,null,null,null,null,null,null,null,null,null,null,null,null,null,null,null,null,null],[null,null,null,null,null,null,null,null,null,null,null,null,null,null,null,null,null,null,null,null,null,null,null,null,null,null,null,null,null,null,null,null,null,null,null,null,null,null,null,null,null,null,null,null,null,null,null,null,null,null,null,null,null,null,null,null,null,null,null,null,null,null,null,null,null,null,null,null,null,null,null,null,null,null,null,null,null,null,null,null,null,null,null,null,null,null,null,null,null,null,null,null,null,null,null,null,null,null,null,null],[null,null,null,null,null,null,null,null,null,null,null,null,null,null,null,null,null,null,null,null,null,null,null,null,null,null,null,null,null,null,null,null,null,null,null,null,null,null,null,null,null,null,null,null,null,null,null,null,null,null,null,null,null,null,null,null,null,null,null,null,null,null,null,null,null,null,null,null,null,null,null,null,null,null,null,null,null,null,null,null,null,null,null,null,null,null,null,null,null,null,null,null,null,null,null,null,null,null,null,null],[null,null,null,null,null,null,null,null,null,null,null,null,null,null,null,null,null,null,null,null,null,null,null,null,null,null,null,null,null,null,null,null,null,null,null,null,null,null,null,null,null,null,null,null,null,null,null,null,null,null,null,null,null,null,null,null,null,null,null,null,null,null,null,null,null,null,null,null,null,null,null,null,null,null,null,null,null,null,null,null,null,null,null,null,null,null,null,null,null,null,null,null,null,null,null,null,null,null,null,null],[null,null,null,null,null,null,null,null,null,null,null,null,null,null,null,null,null,null,null,null,null,null,null,null,null,null,null,null,null,null,null,null,null,null,null,null,null,null,null,null,null,null,null,null,null,null,null,null,null,null,null,null,null,null,null,null,null,null,null,null,null,null,null,null,null,null,null,null,null,null,null,null,null,null,null,null,null,null,null,null,null,null,null,null,null,null,null,null,null,null,null,null,null,null,null,null,null,null,null,null],[null,null,null,null,null,null,null,null,null,null,null,null,null,null,null,null,null,null,null,null,null,null,null,null,null,null,null,null,null,null,null,null,null,null,null,null,null,null,null,null,null,null,null,null,null,null,null,null,null,null,null,null,null,null,null,null,null,null,null,null,null,null,null,null,null,null,null,null,null,null,null,null,null,null,null,null,null,null,null,null,null,null,null,null,null,null,null,null,null,null,null,null,null,null,null,null,null,null,null,null],[null,null,null,null,null,null,null,null,null,null,null,null,null,null,null,null,null,null,null,null,null,null,null,null,null,null,null,null,null,null,null,null,null,null,null,null,null,null,null,null,null,null,null,null,null,null,null,null,null,null,null,null,null,null,null,null,null,null,null,null,null,null,null,null,null,null,null,null,null,null,null,null,null,null,null,null,null,null,null,null,null,null,null,null,null,null,null,null,null,null,null,null,null,null,null,null,null,null,null,null],[null,null,null,null,null,null,null,null,null,null,null,null,null,null,null,null,null,null,null,null,null,null,null,null,null,null,null,null,null,null,null,null,null,null,null,null,null,null,null,null,null,null,null,null,null,null,null,null,null,null,null,null,null,null,null,null,null,null,null,null,null,null,null,null,null,null,null,null,null,null,null,null,null,null,null,null,null,null,null,null,null,null,null,null,null,null,null,null,null,null,null,null,null,null,null,null,null,null,null,null],[null,null,null,null,null,null,null,null,null,null,null,null,null,null,null,null,null,null,null,null,null,null,null,null,null,null,null,null,null,null,null,null,null,null,null,null,null,null,null,null,null,null,null,null,null,null,null,null,null,null,null,null,null,null,null,null,null,null,null,null,null,null,null,null,null,null,null,null,null,null,null,null,null,null,null,null,null,null,null,null,null,null,null,null,null,null,null,null,null,null,null,null,null,null,null,null,null,null,null,null],[null,null,null,null,null,null,null,null,null,null,null,null,null,null,null,null,null,null,null,null,null,null,null,null,null,null,null,null,null,null,null,null,null,null,null,null,null,null,null,null,null,null,null,null,null,null,null,null,null,null,null,null,null,null,null,null,null,null,null,null,null,null,null,null,null,null,null,null,null,null,null,null,null,null,null,null,null,null,null,null,null,null,null,null,null,null,null,null,null,null,null,null,null,null,null,null,null,null,null,null],[null,null,null,null,null,null,null,null,null,null,null,null,null,null,null,null,null,null,null,null,null,null,null,null,null,null,null,null,null,null,null,null,null,null,null,null,null,null,null,null,null,null,null,null,null,null,null,null,null,null,null,null,null,null,null,null,null,null,null,null,null,null,null,null,null,null,null,null,null,null,null,null,null,null,null,null,null,null,null,null,null,null,null,null,null,null,null,null,null,null,null,null,null,null,null,null,null,null,null,null],[null,null,null,null,null,null,null,null,null,null,null,null,null,null,null,null,null,null,null,null,null,null,null,null,null,null,null,null,null,null,null,null,null,null,null,null,null,null,null,null,null,null,null,null,null,null,null,null,null,null,null,null,null,null,null,null,null,null,null,null,null,null,null,null,null,null,null,null,null,null,null,null,null,null,null,null,null,null,null,null,null,null,null,null,null,null,null,null,null,null,null,null,null,null,null,null,null,null,null,null],[null,null,null,null,null,null,null,null,null,null,null,null,null,null,null,null,null,null,null,null,null,null,null,null,null,null,null,null,null,null,null,null,null,null,null,null,null,null,null,null,null,null,null,null,null,null,null,null,null,null,null,null,null,null,null,null,null,null,null,null,null,null,null,null,null,null,null,null,null,null,null,null,null,null,null,null,null,null,null,null,null,null,null,null,null,null,null,null,null,null,null,null,null,null,null,null,null,null,null,null],[null,null,null,null,null,null,null,null,null,null,null,null,null,null,null,null,null,null,null,null,null,null,null,null,null,null,null,null,null,null,null,null,null,null,null,null,null,null,null,null,null,null,null,null,null,null,null,null,null,null,null,null,null,null,null,null,null,null,null,null,null,null,null,null,null,null,null,null,null,null,null,null,null,null,null,null,null,null,null,null,null,null,null,null,null,null,null,null,null,null,null,null,null,null,null,null,null,null,null,null],[null,null,null,null,null,null,null,null,null,null,null,null,null,null,null,null,null,null,null,null,null,null,null,null,null,null,null,null,null,null,null,null,null,null,null,null,null,null,null,null,null,null,null,null,null,null,null,null,null,null,null,null,null,null,null,null,null,null,null,null,null,null,null,null,null,null,null,null,null,null,null,null,null,null,null,null,null,null,null,null,null,null,null,null,null,null,null,null,null,null,null,null,null,null,null,null,null,null,null,null],[null,null,null,null,null,null,null,null,null,null,null,null,null,null,null,null,null,null,null,null,null,null,null,null,null,null,null,null,null,null,null,null,null,null,null,null,null,null,null,null,null,null,null,null,null,null,null,null,null,null,null,null,null,null,null,null,null,null,null,null,null,null,null,null,null,null,null,null,null,null,null,null,null,null,null,null,null,null,null,null,null,null,null,null,null,null,null,null,null,null,null,null,null,null,null,null,null,null,null,null],[null,null,null,null,null,null,null,null,null,null,null,null,null,null,null,null,null,null,null,null,null,null,null,null,null,null,null,null,null,null,null,null,null,null,null,null,null,null,null,null,null,null,null,null,null,null,null,null,null,null,null,null,null,null,null,null,null,null,null,null,null,null,null,null,null,null,null,null,null,null,null,null,null,null,null,null,null,null,null,null,null,null,null,null,null,null,null,null,null,null,null,null,null,null,null,null,null,null,null,null],[null,null,null,null,null,null,null,null,null,null,null,null,null,null,null,null,null,null,null,null,null,null,null,null,null,null,null,null,null,null,null,null,null,null,null,null,null,null,null,null,null,null,null,null,null,null,null,null,null,null,null,null,null,null,null,null,null,null,null,null,null,null,null,null,null,null,null,null,null,null,null,null,null,null,null,null,null,null,null,null,null,null,null,null,null,null,null,null,null,null,null,null,null,null,null,null,null,null,null,null],[null,null,null,null,null,null,null,null,null,null,null,null,null,null,null,null,null,null,null,null,null,null,null,null,null,null,null,null,null,null,null,null,null,null,null,null,null,null,null,null,null,null,null,null,null,null,null,null,null,null,null,null,null,null,null,null,null,null,null,null,null,null,null,null,null,null,null,null,null,null,null,null,null,null,null,null,null,null,null,null,null,null,null,null,null,null,null,null,null,null,null,null,null,null,null,null,null,null,null,null],[null,null,null,null,null,null,null,null,null,null,null,null,null,null,null,null,null,null,null,null,null,null,null,null,null,null,null,null,null,null,null,null,null,null,null,null,null,null,null,null,null,null,null,null,null,null,null,null,null,null,null,null,null,null,null,null,null,null,null,null,null,null,null,null,null,null,null,null,null,null,null,null,null,null,null,null,null,null,null,null,null,null,null,null,null,null,null,null,null,null,null,null,null,null,null,null,null,null,null,null],[null,null,null,null,null,null,null,null,null,null,null,null,null,null,null,null,null,null,null,null,null,null,null,null,null,null,null,null,null,null,null,null,null,null,null,null,null,null,null,null,null,null,null,null,null,null,null,null,null,null,null,null,null,null,null,null,null,null,null,null,null,null,null,null,null,null,null,null,null,null,null,null,null,null,null,null,null,null,null,null,null,null,null,null,null,null,null,null,null,null,null,null,null,null,null,null,null,null,null,null],[null,null,null,null,null,null,null,null,null,null,null,null,null,null,null,null,null,null,null,null,null,null,null,null,null,null,null,null,null,null,null,null,null,null,null,null,null,null,null,null,null,null,null,null,null,null,null,null,null,null,null,null,null,null,null,null,null,null,null,null,null,null,null,null,null,null,null,null,null,null,null,null,null,null,null,null,null,null,null,null,null,null,null,null,null,null,null,null,null,null,null,null,null,null,null,null,null,null,null,null],[null,null,null,null,null,null,null,null,null,null,null,null,null,null,null,null,null,null,null,null,null,null,null,null,null,null,null,null,null,null,null,null,null,null,null,null,null,null,null,null,null,null,null,null,null,null,null,null,null,null,null,null,null,null,null,null,null,null,null,null,null,null,null,null,null,null,null,null,null,null,null,null,null,null,null,null,null,null,null,null,null,null,null,null,null,null,null,null,null,null,null,null,null,null,null,null,null,null,null,null],[null,null,null,null,null,null,null,null,null,null,null,null,null,null,null,null,null,null,null,null,null,null,null,null,null,null,null,null,null,null,null,null,null,null,null,null,null,null,null,null,null,null,null,null,null,null,null,null,null,null,null,null,null,null,null,null,null,null,null,null,null,null,null,null,null,null,null,null,null,null,null,null,null,null,null,null,null,null,null,null,null,null,null,null,null,null,null,null,null,null,null,null,null,null,null,null,null,null,null,null],[null,null,null,null,null,null,null,null,null,null,null,null,null,null,null,null,null,null,null,null,null,null,null,null,null,null,null,null,null,null,null,null,null,null,null,null,null,null,null,null,null,null,null,null,null,null,null,null,null,null,null,null,null,null,null,null,null,null,null,null,null,null,null,null,null,null,null,null,null,null,null,null,null,null,null,null,null,null,null,null,null,null,null,null,null,null,null,null,null,null,null,null,null,null,null,null,null,null,null,null],[null,null,null,null,null,null,null,null,null,null,null,null,null,null,null,null,null,null,null,null,null,null,null,null,null,null,null,null,null,null,null,null,null,null,null,null,null,null,null,null,null,null,null,null,null,null,null,null,null,null,null,null,null,null,null,null,null,null,null,null,null,null,null,null,null,null,null,null,null,null,null,null,null,null,null,null,null,null,null,null,null,null,null,null,null,null,null,null,null,null,null,null,null,null,null,null,null,null,null,null],[null,null,null,null,null,null,null,null,null,null,null,null,null,null,null,null,null,null,null,null,null,null,null,null,null,null,null,null,null,null,null,null,null,null,null,null,null,null,null,null,null,null,null,null,null,null,null,null,null,null,null,null,null,null,null,null,null,null,null,null,null,null,null,null,null,null,null,null,null,null,null,null,null,null,null,null,null,null,null,null,null,null,null,null,null,null,null,null,null,null,null,null,null,null,null,null,null,null,null,null],[null,null,null,null,null,null,null,null,null,null,null,null,null,null,null,null,null,null,null,null,null,null,null,null,null,null,null,null,null,null,null,null,null,null,null,null,null,null,null,null,null,null,null,null,null,null,null,null,null,null,null,null,null,null,null,null,null,null,null,null,null,null,null,null,null,null,null,null,null,null,null,null,null,null,null,null,null,null,null,null,null,null,null,null,null,null,null,null,null,null,null,null,null,null,null,null,null,null,null,null],[null,null,null,null,null,null,null,null,null,null,null,null,null,null,null,null,null,null,null,null,null,null,null,null,null,null,null,null,null,null,null,null,null,null,null,null,null,null,null,null,null,null,null,null,null,null,null,null,null,null,null,null,null,null,null,null,null,null,null,null,null,null,null,null,null,null,null,null,null,null,null,null,null,null,null,null,null,null,null,null,null,null,null,null,null,null,null,null,null,null,null,null,null,null,null,null,null,null,null,null],[null,null,null,null,null,null,null,null,null,null,null,null,null,null,null,null,null,null,null,null,null,null,null,null,null,null,null,null,null,null,null,null,null,null,null,null,null,null,null,null,null,null,null,null,null,null,null,null,null,null,null,null,null,null,null,null,null,null,null,null,null,null,null,null,null,null,null,null,null,null,null,null,null,null,null,null,null,null,null,null,null,null,null,null,null,null,null,null,null,null,null,null,null,null,null,null,null,null,null,null],[null,null,null,null,null,null,null,null,null,null,null,null,null,null,null,null,null,null,null,null,null,null,null,null,null,null,null,null,null,null,null,null,null,null,null,null,null,null,null,null,null,null,null,null,null,null,null,null,null,null,null,null,null,null,null,null,null,null,null,null,null,null,null,null,null,null,null,null,null,null,null,null,null,null,null,null,null,null,null,null,null,null,null,null,null,null,null,null,null,null,null,null,null,null,null,null,null,null,null,null],[null,null,null,null,null,null,null,null,null,null,null,null,null,null,null,null,null,null,null,null,null,null,null,null,null,null,null,null,null,null,null,null,null,null,null,null,null,null,null,null,null,null,null,null,null,null,null,null,null,null,null,null,null,null,null,null,null,null,null,null,null,null,null,null,null,null,null,null,null,null,null,null,null,null,null,null,null,null,null,null,null,null,null,null,null,null,null,null,null,null,null,null,null,null,null,null,null,null,null,null],[null,null,null,null,null,null,null,null,null,null,null,null,null,null,null,null,null,null,null,null,null,null,null,null,null,null,null,null,null,null,null,null,null,null,null,null,null,null,null,null,null,null,null,null,null,null,null,null,null,null,null,null,null,null,null,null,null,null,null,null,null,null,null,null,null,null,null,null,null,null,null,null,null,null,null,null,null,null,null,null,null,null,null,null,null,null,null,null,null,null,null,null,null,null,null,null,null,null,null,null],[null,null,null,null,null,null,null,null,null,null,null,null,null,null,null,null,null,null,null,null,null,null,null,null,null,null,null,null,null,null,null,null,null,null,null,null,null,null,null,null,null,null,null,null,null,null,null,null,null,null,null,null,null,null,null,null,null,null,null,null,null,null,null,null,null,null,null,null,null,null,null,null,null,null,null,null,null,null,null,null,null,null,null,null,null,null,null,null,null,null,null,null,null,null,null,null,null,null,null,null],[null,null,null,null,null,null,null,null,null,null,null,null,null,null,null,null,null,null,null,null,null,null,null,null,null,null,null,null,null,null,null,null,null,null,null,null,null,null,null,null,null,null,null,null,null,null,null,null,null,null,null,null,null,null,null,null,null,null,null,null,null,null,null,null,null,null,null,null,null,null,null,null,null,null,null,null,null,null,null,null,null,null,null,null,null,null,null,null,null,null,null,null,null,null,null,null,null,null,null,null]],\"type\":\"surface\",\"contours\":{\"z\":{\"project\":{\"z\":true},\"highlightcolor\":\"limegreen\",\"show\":true,\"usecolormap\":true},\"x\":{\"project\":{\"x\":true},\"highlightcolor\":\"limegreen\",\"show\":true,\"usecolormap\":true},\"y\":{\"project\":{\"y\":true},\"highlightcolor\":\"limegreen\",\"show\":true,\"usecolormap\":true}}}],                        {\"template\":{\"data\":{\"histogram2dcontour\":[{\"type\":\"histogram2dcontour\",\"colorbar\":{\"outlinewidth\":0,\"ticks\":\"\"},\"colorscale\":[[0.0,\"#0d0887\"],[0.1111111111111111,\"#46039f\"],[0.2222222222222222,\"#7201a8\"],[0.3333333333333333,\"#9c179e\"],[0.4444444444444444,\"#bd3786\"],[0.5555555555555556,\"#d8576b\"],[0.6666666666666666,\"#ed7953\"],[0.7777777777777778,\"#fb9f3a\"],[0.8888888888888888,\"#fdca26\"],[1.0,\"#f0f921\"]]}],\"choropleth\":[{\"type\":\"choropleth\",\"colorbar\":{\"outlinewidth\":0,\"ticks\":\"\"}}],\"histogram2d\":[{\"type\":\"histogram2d\",\"colorbar\":{\"outlinewidth\":0,\"ticks\":\"\"},\"colorscale\":[[0.0,\"#0d0887\"],[0.1111111111111111,\"#46039f\"],[0.2222222222222222,\"#7201a8\"],[0.3333333333333333,\"#9c179e\"],[0.4444444444444444,\"#bd3786\"],[0.5555555555555556,\"#d8576b\"],[0.6666666666666666,\"#ed7953\"],[0.7777777777777778,\"#fb9f3a\"],[0.8888888888888888,\"#fdca26\"],[1.0,\"#f0f921\"]]}],\"heatmap\":[{\"type\":\"heatmap\",\"colorbar\":{\"outlinewidth\":0,\"ticks\":\"\"},\"colorscale\":[[0.0,\"#0d0887\"],[0.1111111111111111,\"#46039f\"],[0.2222222222222222,\"#7201a8\"],[0.3333333333333333,\"#9c179e\"],[0.4444444444444444,\"#bd3786\"],[0.5555555555555556,\"#d8576b\"],[0.6666666666666666,\"#ed7953\"],[0.7777777777777778,\"#fb9f3a\"],[0.8888888888888888,\"#fdca26\"],[1.0,\"#f0f921\"]]}],\"heatmapgl\":[{\"type\":\"heatmapgl\",\"colorbar\":{\"outlinewidth\":0,\"ticks\":\"\"},\"colorscale\":[[0.0,\"#0d0887\"],[0.1111111111111111,\"#46039f\"],[0.2222222222222222,\"#7201a8\"],[0.3333333333333333,\"#9c179e\"],[0.4444444444444444,\"#bd3786\"],[0.5555555555555556,\"#d8576b\"],[0.6666666666666666,\"#ed7953\"],[0.7777777777777778,\"#fb9f3a\"],[0.8888888888888888,\"#fdca26\"],[1.0,\"#f0f921\"]]}],\"contourcarpet\":[{\"type\":\"contourcarpet\",\"colorbar\":{\"outlinewidth\":0,\"ticks\":\"\"}}],\"contour\":[{\"type\":\"contour\",\"colorbar\":{\"outlinewidth\":0,\"ticks\":\"\"},\"colorscale\":[[0.0,\"#0d0887\"],[0.1111111111111111,\"#46039f\"],[0.2222222222222222,\"#7201a8\"],[0.3333333333333333,\"#9c179e\"],[0.4444444444444444,\"#bd3786\"],[0.5555555555555556,\"#d8576b\"],[0.6666666666666666,\"#ed7953\"],[0.7777777777777778,\"#fb9f3a\"],[0.8888888888888888,\"#fdca26\"],[1.0,\"#f0f921\"]]}],\"surface\":[{\"type\":\"surface\",\"colorbar\":{\"outlinewidth\":0,\"ticks\":\"\"},\"colorscale\":[[0.0,\"#0d0887\"],[0.1111111111111111,\"#46039f\"],[0.2222222222222222,\"#7201a8\"],[0.3333333333333333,\"#9c179e\"],[0.4444444444444444,\"#bd3786\"],[0.5555555555555556,\"#d8576b\"],[0.6666666666666666,\"#ed7953\"],[0.7777777777777778,\"#fb9f3a\"],[0.8888888888888888,\"#fdca26\"],[1.0,\"#f0f921\"]]}],\"mesh3d\":[{\"type\":\"mesh3d\",\"colorbar\":{\"outlinewidth\":0,\"ticks\":\"\"}}],\"scatter\":[{\"fillpattern\":{\"fillmode\":\"overlay\",\"size\":10,\"solidity\":0.2},\"type\":\"scatter\"}],\"parcoords\":[{\"type\":\"parcoords\",\"line\":{\"colorbar\":{\"outlinewidth\":0,\"ticks\":\"\"}}}],\"scatterpolargl\":[{\"type\":\"scatterpolargl\",\"marker\":{\"colorbar\":{\"outlinewidth\":0,\"ticks\":\"\"}}}],\"bar\":[{\"error_x\":{\"color\":\"#2a3f5f\"},\"error_y\":{\"color\":\"#2a3f5f\"},\"marker\":{\"line\":{\"color\":\"#E5ECF6\",\"width\":0.5},\"pattern\":{\"fillmode\":\"overlay\",\"size\":10,\"solidity\":0.2}},\"type\":\"bar\"}],\"scattergeo\":[{\"type\":\"scattergeo\",\"marker\":{\"colorbar\":{\"outlinewidth\":0,\"ticks\":\"\"}}}],\"scatterpolar\":[{\"type\":\"scatterpolar\",\"marker\":{\"colorbar\":{\"outlinewidth\":0,\"ticks\":\"\"}}}],\"histogram\":[{\"marker\":{\"pattern\":{\"fillmode\":\"overlay\",\"size\":10,\"solidity\":0.2}},\"type\":\"histogram\"}],\"scattergl\":[{\"type\":\"scattergl\",\"marker\":{\"colorbar\":{\"outlinewidth\":0,\"ticks\":\"\"}}}],\"scatter3d\":[{\"type\":\"scatter3d\",\"line\":{\"colorbar\":{\"outlinewidth\":0,\"ticks\":\"\"}},\"marker\":{\"colorbar\":{\"outlinewidth\":0,\"ticks\":\"\"}}}],\"scattermapbox\":[{\"type\":\"scattermapbox\",\"marker\":{\"colorbar\":{\"outlinewidth\":0,\"ticks\":\"\"}}}],\"scatterternary\":[{\"type\":\"scatterternary\",\"marker\":{\"colorbar\":{\"outlinewidth\":0,\"ticks\":\"\"}}}],\"scattercarpet\":[{\"type\":\"scattercarpet\",\"marker\":{\"colorbar\":{\"outlinewidth\":0,\"ticks\":\"\"}}}],\"carpet\":[{\"aaxis\":{\"endlinecolor\":\"#2a3f5f\",\"gridcolor\":\"white\",\"linecolor\":\"white\",\"minorgridcolor\":\"white\",\"startlinecolor\":\"#2a3f5f\"},\"baxis\":{\"endlinecolor\":\"#2a3f5f\",\"gridcolor\":\"white\",\"linecolor\":\"white\",\"minorgridcolor\":\"white\",\"startlinecolor\":\"#2a3f5f\"},\"type\":\"carpet\"}],\"table\":[{\"cells\":{\"fill\":{\"color\":\"#EBF0F8\"},\"line\":{\"color\":\"white\"}},\"header\":{\"fill\":{\"color\":\"#C8D4E3\"},\"line\":{\"color\":\"white\"}},\"type\":\"table\"}],\"barpolar\":[{\"marker\":{\"line\":{\"color\":\"#E5ECF6\",\"width\":0.5},\"pattern\":{\"fillmode\":\"overlay\",\"size\":10,\"solidity\":0.2}},\"type\":\"barpolar\"}],\"pie\":[{\"automargin\":true,\"type\":\"pie\"}]},\"layout\":{\"autotypenumbers\":\"strict\",\"colorway\":[\"#636efa\",\"#EF553B\",\"#00cc96\",\"#ab63fa\",\"#FFA15A\",\"#19d3f3\",\"#FF6692\",\"#B6E880\",\"#FF97FF\",\"#FECB52\"],\"font\":{\"color\":\"#2a3f5f\"},\"hovermode\":\"closest\",\"hoverlabel\":{\"align\":\"left\"},\"paper_bgcolor\":\"white\",\"plot_bgcolor\":\"#E5ECF6\",\"polar\":{\"bgcolor\":\"#E5ECF6\",\"angularaxis\":{\"gridcolor\":\"white\",\"linecolor\":\"white\",\"ticks\":\"\"},\"radialaxis\":{\"gridcolor\":\"white\",\"linecolor\":\"white\",\"ticks\":\"\"}},\"ternary\":{\"bgcolor\":\"#E5ECF6\",\"aaxis\":{\"gridcolor\":\"white\",\"linecolor\":\"white\",\"ticks\":\"\"},\"baxis\":{\"gridcolor\":\"white\",\"linecolor\":\"white\",\"ticks\":\"\"},\"caxis\":{\"gridcolor\":\"white\",\"linecolor\":\"white\",\"ticks\":\"\"}},\"coloraxis\":{\"colorbar\":{\"outlinewidth\":0,\"ticks\":\"\"}},\"colorscale\":{\"sequential\":[[0.0,\"#0d0887\"],[0.1111111111111111,\"#46039f\"],[0.2222222222222222,\"#7201a8\"],[0.3333333333333333,\"#9c179e\"],[0.4444444444444444,\"#bd3786\"],[0.5555555555555556,\"#d8576b\"],[0.6666666666666666,\"#ed7953\"],[0.7777777777777778,\"#fb9f3a\"],[0.8888888888888888,\"#fdca26\"],[1.0,\"#f0f921\"]],\"sequentialminus\":[[0.0,\"#0d0887\"],[0.1111111111111111,\"#46039f\"],[0.2222222222222222,\"#7201a8\"],[0.3333333333333333,\"#9c179e\"],[0.4444444444444444,\"#bd3786\"],[0.5555555555555556,\"#d8576b\"],[0.6666666666666666,\"#ed7953\"],[0.7777777777777778,\"#fb9f3a\"],[0.8888888888888888,\"#fdca26\"],[1.0,\"#f0f921\"]],\"diverging\":[[0,\"#8e0152\"],[0.1,\"#c51b7d\"],[0.2,\"#de77ae\"],[0.3,\"#f1b6da\"],[0.4,\"#fde0ef\"],[0.5,\"#f7f7f7\"],[0.6,\"#e6f5d0\"],[0.7,\"#b8e186\"],[0.8,\"#7fbc41\"],[0.9,\"#4d9221\"],[1,\"#276419\"]]},\"xaxis\":{\"gridcolor\":\"white\",\"linecolor\":\"white\",\"ticks\":\"\",\"title\":{\"standoff\":15},\"zerolinecolor\":\"white\",\"automargin\":true,\"zerolinewidth\":2},\"yaxis\":{\"gridcolor\":\"white\",\"linecolor\":\"white\",\"ticks\":\"\",\"title\":{\"standoff\":15},\"zerolinecolor\":\"white\",\"automargin\":true,\"zerolinewidth\":2},\"scene\":{\"xaxis\":{\"backgroundcolor\":\"#E5ECF6\",\"gridcolor\":\"white\",\"linecolor\":\"white\",\"showbackground\":true,\"ticks\":\"\",\"zerolinecolor\":\"white\",\"gridwidth\":2},\"yaxis\":{\"backgroundcolor\":\"#E5ECF6\",\"gridcolor\":\"white\",\"linecolor\":\"white\",\"showbackground\":true,\"ticks\":\"\",\"zerolinecolor\":\"white\",\"gridwidth\":2},\"zaxis\":{\"backgroundcolor\":\"#E5ECF6\",\"gridcolor\":\"white\",\"linecolor\":\"white\",\"showbackground\":true,\"ticks\":\"\",\"zerolinecolor\":\"white\",\"gridwidth\":2}},\"shapedefaults\":{\"line\":{\"color\":\"#2a3f5f\"}},\"annotationdefaults\":{\"arrowcolor\":\"#2a3f5f\",\"arrowhead\":0,\"arrowwidth\":1},\"geo\":{\"bgcolor\":\"white\",\"landcolor\":\"#E5ECF6\",\"subunitcolor\":\"white\",\"showland\":true,\"showlakes\":true,\"lakecolor\":\"white\"},\"title\":{\"x\":0.05},\"mapbox\":{\"style\":\"light\"}}},\"scene\":{\"camera\":{\"eye\":{\"x\":1.87,\"y\":0.88,\"z\":0.64}}},\"margin\":{\"l\":65,\"r\":50,\"b\":65,\"t\":90},\"title\":{\"text\":\"Execution time % N Components & N elements\"},\"autosize\":true},                        {\"responsive\": true}                    ).then(function(){\n",
              "                            \n",
              "var gd = document.getElementById('34d9423e-e8d4-49b8-bc9d-59108d1605fe');\n",
              "var x = new MutationObserver(function (mutations, observer) {{\n",
              "        var display = window.getComputedStyle(gd).display;\n",
              "        if (!display || display === 'none') {{\n",
              "            console.log([gd, 'removed!']);\n",
              "            Plotly.purge(gd);\n",
              "            observer.disconnect();\n",
              "        }}\n",
              "}});\n",
              "\n",
              "// Listen for the removal of the full notebook cells\n",
              "var notebookContainer = gd.closest('#notebook-container');\n",
              "if (notebookContainer) {{\n",
              "    x.observe(notebookContainer, {childList: true});\n",
              "}}\n",
              "\n",
              "// Listen for the clearing of the current output cell\n",
              "var outputEl = gd.closest('.output');\n",
              "if (outputEl) {{\n",
              "    x.observe(outputEl, {childList: true});\n",
              "}}\n",
              "\n",
              "                        })                };                            </script>        </div>\n",
              "</body>\n",
              "</html>"
            ]
          },
          "metadata": {}
        }
      ]
    },
    {
      "cell_type": "code",
      "source": [
        "X,Y,Z = benchmark(graphs,\"sorted\")"
      ],
      "metadata": {
        "id": "FCl379IbcTZh"
      },
      "execution_count": null,
      "outputs": []
    },
    {
      "cell_type": "code",
      "source": [
        "df = pd.DataFrame({'N_Components': X, 'N_Elements': Y, 'Time': Z})"
      ],
      "metadata": {
        "id": "W-fHkbcmwZB3"
      },
      "execution_count": null,
      "outputs": []
    },
    {
      "cell_type": "code",
      "source": [
        "df"
      ],
      "metadata": {
        "colab": {
          "base_uri": "https://localhost:8080/",
          "height": 1000
        },
        "id": "vNFYEdOLwdB2",
        "outputId": "6acc2b42-974d-41bd-ed6f-ae3dab7e10a2"
      },
      "execution_count": null,
      "outputs": [
        {
          "output_type": "execute_result",
          "data": {
            "text/plain": [
              "    N_Components  N_Elements       Time\n",
              "0           10.0         5.0   1.117019\n",
              "1           10.0        25.0   1.922019\n",
              "2           10.0        45.0   2.195843\n",
              "3           10.0        65.0   2.597134\n",
              "4           10.0        85.0   2.678453\n",
              "5          110.0         5.0   1.205941\n",
              "6          110.0        25.0   1.878044\n",
              "7          110.0        45.0   2.428778\n",
              "8          110.0        65.0   3.225211\n",
              "9          110.0        85.0   5.643924\n",
              "10         210.0         5.0   1.253795\n",
              "11         210.0        25.0   2.646463\n",
              "12         210.0        45.0   5.705893\n",
              "13         210.0        65.0   4.905124\n",
              "14         210.0        85.0   8.539863\n",
              "15         310.0         5.0   1.394961\n",
              "16         310.0        25.0   2.498216\n",
              "17         310.0        45.0   4.678349\n",
              "18         310.0        65.0   8.085910\n",
              "19         310.0        85.0  10.651065\n",
              "20         410.0         5.0   1.392857\n",
              "21         410.0        25.0   3.038353\n",
              "22         410.0        45.0   5.886818\n",
              "23         410.0        65.0   7.288917\n",
              "24         410.0        85.0  14.061292\n",
              "25         510.0         5.0   1.577720\n",
              "26         510.0        25.0   3.362783\n",
              "27         510.0        45.0   5.755726\n",
              "28         510.0        65.0  10.046987\n",
              "29         510.0        85.0  17.914305\n",
              "30         610.0         5.0   1.556844\n",
              "31         610.0        25.0   3.881764\n",
              "32         610.0        45.0   7.106791\n",
              "33         610.0        65.0  12.585735\n",
              "34         610.0        85.0  23.068765\n",
              "35         710.0         5.0   1.404699\n",
              "36         710.0        25.0   3.878350\n",
              "37         710.0        45.0   7.933396\n",
              "38         710.0        65.0  14.207102\n",
              "39         710.0        85.0  21.966107\n",
              "40         810.0         5.0   1.265898\n",
              "41         810.0        25.0   3.272570\n",
              "42         810.0        45.0   8.302356\n",
              "43         810.0        65.0  13.099285\n",
              "44         810.0        85.0  22.311052\n",
              "45         910.0         5.0   1.290186\n",
              "46         910.0        25.0   3.576255\n",
              "47         910.0        45.0   9.215622\n",
              "48         910.0        65.0  15.028286\n",
              "49         910.0        85.0  24.360759"
            ],
            "text/html": [
              "\n",
              "  <div id=\"df-174e77bf-a697-4e38-a4b5-ded22f6dad38\">\n",
              "    <div class=\"colab-df-container\">\n",
              "      <div>\n",
              "<style scoped>\n",
              "    .dataframe tbody tr th:only-of-type {\n",
              "        vertical-align: middle;\n",
              "    }\n",
              "\n",
              "    .dataframe tbody tr th {\n",
              "        vertical-align: top;\n",
              "    }\n",
              "\n",
              "    .dataframe thead th {\n",
              "        text-align: right;\n",
              "    }\n",
              "</style>\n",
              "<table border=\"1\" class=\"dataframe\">\n",
              "  <thead>\n",
              "    <tr style=\"text-align: right;\">\n",
              "      <th></th>\n",
              "      <th>N_Components</th>\n",
              "      <th>N_Elements</th>\n",
              "      <th>Time</th>\n",
              "    </tr>\n",
              "  </thead>\n",
              "  <tbody>\n",
              "    <tr>\n",
              "      <th>0</th>\n",
              "      <td>10.0</td>\n",
              "      <td>5.0</td>\n",
              "      <td>1.117019</td>\n",
              "    </tr>\n",
              "    <tr>\n",
              "      <th>1</th>\n",
              "      <td>10.0</td>\n",
              "      <td>25.0</td>\n",
              "      <td>1.922019</td>\n",
              "    </tr>\n",
              "    <tr>\n",
              "      <th>2</th>\n",
              "      <td>10.0</td>\n",
              "      <td>45.0</td>\n",
              "      <td>2.195843</td>\n",
              "    </tr>\n",
              "    <tr>\n",
              "      <th>3</th>\n",
              "      <td>10.0</td>\n",
              "      <td>65.0</td>\n",
              "      <td>2.597134</td>\n",
              "    </tr>\n",
              "    <tr>\n",
              "      <th>4</th>\n",
              "      <td>10.0</td>\n",
              "      <td>85.0</td>\n",
              "      <td>2.678453</td>\n",
              "    </tr>\n",
              "    <tr>\n",
              "      <th>5</th>\n",
              "      <td>110.0</td>\n",
              "      <td>5.0</td>\n",
              "      <td>1.205941</td>\n",
              "    </tr>\n",
              "    <tr>\n",
              "      <th>6</th>\n",
              "      <td>110.0</td>\n",
              "      <td>25.0</td>\n",
              "      <td>1.878044</td>\n",
              "    </tr>\n",
              "    <tr>\n",
              "      <th>7</th>\n",
              "      <td>110.0</td>\n",
              "      <td>45.0</td>\n",
              "      <td>2.428778</td>\n",
              "    </tr>\n",
              "    <tr>\n",
              "      <th>8</th>\n",
              "      <td>110.0</td>\n",
              "      <td>65.0</td>\n",
              "      <td>3.225211</td>\n",
              "    </tr>\n",
              "    <tr>\n",
              "      <th>9</th>\n",
              "      <td>110.0</td>\n",
              "      <td>85.0</td>\n",
              "      <td>5.643924</td>\n",
              "    </tr>\n",
              "    <tr>\n",
              "      <th>10</th>\n",
              "      <td>210.0</td>\n",
              "      <td>5.0</td>\n",
              "      <td>1.253795</td>\n",
              "    </tr>\n",
              "    <tr>\n",
              "      <th>11</th>\n",
              "      <td>210.0</td>\n",
              "      <td>25.0</td>\n",
              "      <td>2.646463</td>\n",
              "    </tr>\n",
              "    <tr>\n",
              "      <th>12</th>\n",
              "      <td>210.0</td>\n",
              "      <td>45.0</td>\n",
              "      <td>5.705893</td>\n",
              "    </tr>\n",
              "    <tr>\n",
              "      <th>13</th>\n",
              "      <td>210.0</td>\n",
              "      <td>65.0</td>\n",
              "      <td>4.905124</td>\n",
              "    </tr>\n",
              "    <tr>\n",
              "      <th>14</th>\n",
              "      <td>210.0</td>\n",
              "      <td>85.0</td>\n",
              "      <td>8.539863</td>\n",
              "    </tr>\n",
              "    <tr>\n",
              "      <th>15</th>\n",
              "      <td>310.0</td>\n",
              "      <td>5.0</td>\n",
              "      <td>1.394961</td>\n",
              "    </tr>\n",
              "    <tr>\n",
              "      <th>16</th>\n",
              "      <td>310.0</td>\n",
              "      <td>25.0</td>\n",
              "      <td>2.498216</td>\n",
              "    </tr>\n",
              "    <tr>\n",
              "      <th>17</th>\n",
              "      <td>310.0</td>\n",
              "      <td>45.0</td>\n",
              "      <td>4.678349</td>\n",
              "    </tr>\n",
              "    <tr>\n",
              "      <th>18</th>\n",
              "      <td>310.0</td>\n",
              "      <td>65.0</td>\n",
              "      <td>8.085910</td>\n",
              "    </tr>\n",
              "    <tr>\n",
              "      <th>19</th>\n",
              "      <td>310.0</td>\n",
              "      <td>85.0</td>\n",
              "      <td>10.651065</td>\n",
              "    </tr>\n",
              "    <tr>\n",
              "      <th>20</th>\n",
              "      <td>410.0</td>\n",
              "      <td>5.0</td>\n",
              "      <td>1.392857</td>\n",
              "    </tr>\n",
              "    <tr>\n",
              "      <th>21</th>\n",
              "      <td>410.0</td>\n",
              "      <td>25.0</td>\n",
              "      <td>3.038353</td>\n",
              "    </tr>\n",
              "    <tr>\n",
              "      <th>22</th>\n",
              "      <td>410.0</td>\n",
              "      <td>45.0</td>\n",
              "      <td>5.886818</td>\n",
              "    </tr>\n",
              "    <tr>\n",
              "      <th>23</th>\n",
              "      <td>410.0</td>\n",
              "      <td>65.0</td>\n",
              "      <td>7.288917</td>\n",
              "    </tr>\n",
              "    <tr>\n",
              "      <th>24</th>\n",
              "      <td>410.0</td>\n",
              "      <td>85.0</td>\n",
              "      <td>14.061292</td>\n",
              "    </tr>\n",
              "    <tr>\n",
              "      <th>25</th>\n",
              "      <td>510.0</td>\n",
              "      <td>5.0</td>\n",
              "      <td>1.577720</td>\n",
              "    </tr>\n",
              "    <tr>\n",
              "      <th>26</th>\n",
              "      <td>510.0</td>\n",
              "      <td>25.0</td>\n",
              "      <td>3.362783</td>\n",
              "    </tr>\n",
              "    <tr>\n",
              "      <th>27</th>\n",
              "      <td>510.0</td>\n",
              "      <td>45.0</td>\n",
              "      <td>5.755726</td>\n",
              "    </tr>\n",
              "    <tr>\n",
              "      <th>28</th>\n",
              "      <td>510.0</td>\n",
              "      <td>65.0</td>\n",
              "      <td>10.046987</td>\n",
              "    </tr>\n",
              "    <tr>\n",
              "      <th>29</th>\n",
              "      <td>510.0</td>\n",
              "      <td>85.0</td>\n",
              "      <td>17.914305</td>\n",
              "    </tr>\n",
              "    <tr>\n",
              "      <th>30</th>\n",
              "      <td>610.0</td>\n",
              "      <td>5.0</td>\n",
              "      <td>1.556844</td>\n",
              "    </tr>\n",
              "    <tr>\n",
              "      <th>31</th>\n",
              "      <td>610.0</td>\n",
              "      <td>25.0</td>\n",
              "      <td>3.881764</td>\n",
              "    </tr>\n",
              "    <tr>\n",
              "      <th>32</th>\n",
              "      <td>610.0</td>\n",
              "      <td>45.0</td>\n",
              "      <td>7.106791</td>\n",
              "    </tr>\n",
              "    <tr>\n",
              "      <th>33</th>\n",
              "      <td>610.0</td>\n",
              "      <td>65.0</td>\n",
              "      <td>12.585735</td>\n",
              "    </tr>\n",
              "    <tr>\n",
              "      <th>34</th>\n",
              "      <td>610.0</td>\n",
              "      <td>85.0</td>\n",
              "      <td>23.068765</td>\n",
              "    </tr>\n",
              "    <tr>\n",
              "      <th>35</th>\n",
              "      <td>710.0</td>\n",
              "      <td>5.0</td>\n",
              "      <td>1.404699</td>\n",
              "    </tr>\n",
              "    <tr>\n",
              "      <th>36</th>\n",
              "      <td>710.0</td>\n",
              "      <td>25.0</td>\n",
              "      <td>3.878350</td>\n",
              "    </tr>\n",
              "    <tr>\n",
              "      <th>37</th>\n",
              "      <td>710.0</td>\n",
              "      <td>45.0</td>\n",
              "      <td>7.933396</td>\n",
              "    </tr>\n",
              "    <tr>\n",
              "      <th>38</th>\n",
              "      <td>710.0</td>\n",
              "      <td>65.0</td>\n",
              "      <td>14.207102</td>\n",
              "    </tr>\n",
              "    <tr>\n",
              "      <th>39</th>\n",
              "      <td>710.0</td>\n",
              "      <td>85.0</td>\n",
              "      <td>21.966107</td>\n",
              "    </tr>\n",
              "    <tr>\n",
              "      <th>40</th>\n",
              "      <td>810.0</td>\n",
              "      <td>5.0</td>\n",
              "      <td>1.265898</td>\n",
              "    </tr>\n",
              "    <tr>\n",
              "      <th>41</th>\n",
              "      <td>810.0</td>\n",
              "      <td>25.0</td>\n",
              "      <td>3.272570</td>\n",
              "    </tr>\n",
              "    <tr>\n",
              "      <th>42</th>\n",
              "      <td>810.0</td>\n",
              "      <td>45.0</td>\n",
              "      <td>8.302356</td>\n",
              "    </tr>\n",
              "    <tr>\n",
              "      <th>43</th>\n",
              "      <td>810.0</td>\n",
              "      <td>65.0</td>\n",
              "      <td>13.099285</td>\n",
              "    </tr>\n",
              "    <tr>\n",
              "      <th>44</th>\n",
              "      <td>810.0</td>\n",
              "      <td>85.0</td>\n",
              "      <td>22.311052</td>\n",
              "    </tr>\n",
              "    <tr>\n",
              "      <th>45</th>\n",
              "      <td>910.0</td>\n",
              "      <td>5.0</td>\n",
              "      <td>1.290186</td>\n",
              "    </tr>\n",
              "    <tr>\n",
              "      <th>46</th>\n",
              "      <td>910.0</td>\n",
              "      <td>25.0</td>\n",
              "      <td>3.576255</td>\n",
              "    </tr>\n",
              "    <tr>\n",
              "      <th>47</th>\n",
              "      <td>910.0</td>\n",
              "      <td>45.0</td>\n",
              "      <td>9.215622</td>\n",
              "    </tr>\n",
              "    <tr>\n",
              "      <th>48</th>\n",
              "      <td>910.0</td>\n",
              "      <td>65.0</td>\n",
              "      <td>15.028286</td>\n",
              "    </tr>\n",
              "    <tr>\n",
              "      <th>49</th>\n",
              "      <td>910.0</td>\n",
              "      <td>85.0</td>\n",
              "      <td>24.360759</td>\n",
              "    </tr>\n",
              "  </tbody>\n",
              "</table>\n",
              "</div>\n",
              "      <button class=\"colab-df-convert\" onclick=\"convertToInteractive('df-174e77bf-a697-4e38-a4b5-ded22f6dad38')\"\n",
              "              title=\"Convert this dataframe to an interactive table.\"\n",
              "              style=\"display:none;\">\n",
              "        \n",
              "  <svg xmlns=\"http://www.w3.org/2000/svg\" height=\"24px\"viewBox=\"0 0 24 24\"\n",
              "       width=\"24px\">\n",
              "    <path d=\"M0 0h24v24H0V0z\" fill=\"none\"/>\n",
              "    <path d=\"M18.56 5.44l.94 2.06.94-2.06 2.06-.94-2.06-.94-.94-2.06-.94 2.06-2.06.94zm-11 1L8.5 8.5l.94-2.06 2.06-.94-2.06-.94L8.5 2.5l-.94 2.06-2.06.94zm10 10l.94 2.06.94-2.06 2.06-.94-2.06-.94-.94-2.06-.94 2.06-2.06.94z\"/><path d=\"M17.41 7.96l-1.37-1.37c-.4-.4-.92-.59-1.43-.59-.52 0-1.04.2-1.43.59L10.3 9.45l-7.72 7.72c-.78.78-.78 2.05 0 2.83L4 21.41c.39.39.9.59 1.41.59.51 0 1.02-.2 1.41-.59l7.78-7.78 2.81-2.81c.8-.78.8-2.07 0-2.86zM5.41 20L4 18.59l7.72-7.72 1.47 1.35L5.41 20z\"/>\n",
              "  </svg>\n",
              "      </button>\n",
              "      \n",
              "  <style>\n",
              "    .colab-df-container {\n",
              "      display:flex;\n",
              "      flex-wrap:wrap;\n",
              "      gap: 12px;\n",
              "    }\n",
              "\n",
              "    .colab-df-convert {\n",
              "      background-color: #E8F0FE;\n",
              "      border: none;\n",
              "      border-radius: 50%;\n",
              "      cursor: pointer;\n",
              "      display: none;\n",
              "      fill: #1967D2;\n",
              "      height: 32px;\n",
              "      padding: 0 0 0 0;\n",
              "      width: 32px;\n",
              "    }\n",
              "\n",
              "    .colab-df-convert:hover {\n",
              "      background-color: #E2EBFA;\n",
              "      box-shadow: 0px 1px 2px rgba(60, 64, 67, 0.3), 0px 1px 3px 1px rgba(60, 64, 67, 0.15);\n",
              "      fill: #174EA6;\n",
              "    }\n",
              "\n",
              "    [theme=dark] .colab-df-convert {\n",
              "      background-color: #3B4455;\n",
              "      fill: #D2E3FC;\n",
              "    }\n",
              "\n",
              "    [theme=dark] .colab-df-convert:hover {\n",
              "      background-color: #434B5C;\n",
              "      box-shadow: 0px 1px 3px 1px rgba(0, 0, 0, 0.15);\n",
              "      filter: drop-shadow(0px 1px 2px rgba(0, 0, 0, 0.3));\n",
              "      fill: #FFFFFF;\n",
              "    }\n",
              "  </style>\n",
              "\n",
              "      <script>\n",
              "        const buttonEl =\n",
              "          document.querySelector('#df-174e77bf-a697-4e38-a4b5-ded22f6dad38 button.colab-df-convert');\n",
              "        buttonEl.style.display =\n",
              "          google.colab.kernel.accessAllowed ? 'block' : 'none';\n",
              "\n",
              "        async function convertToInteractive(key) {\n",
              "          const element = document.querySelector('#df-174e77bf-a697-4e38-a4b5-ded22f6dad38');\n",
              "          const dataTable =\n",
              "            await google.colab.kernel.invokeFunction('convertToInteractive',\n",
              "                                                     [key], {});\n",
              "          if (!dataTable) return;\n",
              "\n",
              "          const docLinkHtml = 'Like what you see? Visit the ' +\n",
              "            '<a target=\"_blank\" href=https://colab.research.google.com/notebooks/data_table.ipynb>data table notebook</a>'\n",
              "            + ' to learn more about interactive tables.';\n",
              "          element.innerHTML = '';\n",
              "          dataTable['output_type'] = 'display_data';\n",
              "          await google.colab.output.renderOutput(dataTable, element);\n",
              "          const docLink = document.createElement('div');\n",
              "          docLink.innerHTML = docLinkHtml;\n",
              "          element.appendChild(docLink);\n",
              "        }\n",
              "      </script>\n",
              "    </div>\n",
              "  </div>\n",
              "  "
            ]
          },
          "metadata": {},
          "execution_count": 61
        }
      ]
    },
    {
      "cell_type": "code",
      "source": [
        "sns.pairplot(df)"
      ],
      "metadata": {
        "colab": {
          "base_uri": "https://localhost:8080/",
          "height": 776
        },
        "id": "1LhRNNhPwd5H",
        "outputId": "ee667654-850f-443e-fde0-f88b45026b9c"
      },
      "execution_count": null,
      "outputs": [
        {
          "output_type": "execute_result",
          "data": {
            "text/plain": [
              "<seaborn.axisgrid.PairGrid at 0x7f0a71dc0f40>"
            ]
          },
          "metadata": {},
          "execution_count": 62
        },
        {
          "output_type": "display_data",
          "data": {
            "text/plain": [
              "<Figure size 750x750 with 12 Axes>"
            ],
            "image/png": "[encoded data removed]"
          },
          "metadata": {}
        }
      ]
    },
    {
      "cell_type": "code",
      "source": [
        "xi = np.linspace(X.min(), X.max(), 100)\n",
        "yi = np.linspace(X.min(), X.max(), 100)\n",
        "x,y = np.meshgrid(xi,yi)\n",
        "z = griddata((X,Y),Z,(x,y), method='cubic')"
      ],
      "metadata": {
        "id": "4wtyzulDwgoA"
      },
      "execution_count": null,
      "outputs": []
    },
    {
      "cell_type": "code",
      "source": [
        "fig = go.Figure(go.Surface(x=xi,y=yi,z=z, hidesurface = False))\n",
        "fig.update_traces(contours_z=dict(show=True, usecolormap=True,highlightcolor=\"limegreen\", project_z=True), \n",
        "                  contours_x=dict(show=True, usecolormap=True,highlightcolor=\"limegreen\", project_x=True),\n",
        "                  contours_y=dict(show=True, usecolormap=True,highlightcolor=\"limegreen\", project_y=True))\n",
        "fig.update_layout(title='Execution time % N Components & N elements', autosize=True,\n",
        "                  scene_camera_eye=dict(x=1.87, y=0.88, z=0.64),\n",
        "                  margin=dict(l=65, r=50, b=65, t=90))\n",
        "fig.show()"
      ],
      "metadata": {
        "colab": {
          "base_uri": "https://localhost:8080/",
          "height": 542
        },
        "id": "Df-7T71nwipt",
        "outputId": "b303b165-a310-4397-8238-1bb15341ef50"
      },
      "execution_count": null,
      "outputs": [
        {
          "output_type": "display_data",
          "data": {
            "text/html": [
              "<html>\n",
              "<head><meta charset=\"utf-8\" /></head>\n",
              "<body>\n",
              "    <div>            <script src=\"https://cdnjs.cloudflare.com/ajax/libs/mathjax/2.7.5/MathJax.js?config=TeX-AMS-MML_SVG\"></script><script type=\"text/javascript\">if (window.MathJax && window.MathJax.Hub && window.MathJax.Hub.Config) {window.MathJax.Hub.Config({SVG: {font: \"STIX-Web\"}});}</script>                <script type=\"text/javascript\">window.PlotlyConfig = {MathJaxConfig: 'local'};</script>\n",
              "        <script src=\"https://cdn.plot.ly/plotly-2.18.2.min.js\"></script>                <div id=\"9c20d480-30c8-47c8-9878-37f9dc93bae1\" class=\"plotly-graph-div\" style=\"height:525px; width:100%;\"></div>            <script type=\"text/javascript\">                                    window.PLOTLYENV=window.PLOTLYENV || {};                                    if (document.getElementById(\"9c20d480-30c8-47c8-9878-37f9dc93bae1\")) {                    Plotly.newPlot(                        \"9c20d480-30c8-47c8-9878-37f9dc93bae1\",                        [{\"hidesurface\":false,\"x\":[10.0,19.090909090909093,28.181818181818183,37.27272727272727,46.36363636363637,55.45454545454546,64.54545454545455,73.63636363636364,82.72727272727273,91.81818181818183,100.90909090909092,110.00000000000001,119.0909090909091,128.1818181818182,137.27272727272728,146.36363636363637,155.45454545454547,164.54545454545456,173.63636363636365,182.72727272727275,191.81818181818184,200.90909090909093,210.00000000000003,219.09090909090912,228.1818181818182,237.27272727272728,246.36363636363637,255.45454545454547,264.54545454545456,273.6363636363637,282.72727272727275,291.81818181818187,300.90909090909093,310.0,319.0909090909091,328.1818181818182,337.2727272727273,346.3636363636364,355.4545454545455,364.54545454545456,373.6363636363637,382.72727272727275,391.81818181818187,400.90909090909093,410.00000000000006,419.0909090909091,428.18181818181824,437.2727272727273,446.3636363636364,455.4545454545455,464.54545454545456,473.6363636363637,482.72727272727275,491.81818181818187,500.90909090909093,510.00000000000006,519.0909090909091,528.1818181818182,537.2727272727274,546.3636363636364,555.4545454545455,564.5454545454546,573.6363636363637,582.7272727272727,591.8181818181819,600.909090909091,610.0,619.0909090909091,628.1818181818182,637.2727272727274,646.3636363636364,655.4545454545455,664.5454545454546,673.6363636363637,682.7272727272727,691.8181818181819,700.909090909091,710.0000000000001,719.0909090909091,728.1818181818182,737.2727272727274,746.3636363636364,755.4545454545455,764.5454545454546,773.6363636363637,782.7272727272727,791.8181818181819,800.909090909091,810.0000000000001,819.0909090909091,828.1818181818182,837.2727272727274,846.3636363636365,855.4545454545455,864.5454545454546,873.6363636363637,882.7272727272727,891.8181818181819,900.909090909091,910.0],\"y\":[10.0,19.090909090909093,28.181818181818183,37.27272727272727,46.36363636363637,55.45454545454546,64.54545454545455,73.63636363636364,82.72727272727273,91.81818181818183,100.90909090909092,110.00000000000001,119.0909090909091,128.1818181818182,137.27272727272728,146.36363636363637,155.45454545454547,164.54545454545456,173.63636363636365,182.72727272727275,191.81818181818184,200.90909090909093,210.00000000000003,219.09090909090912,228.1818181818182,237.27272727272728,246.36363636363637,255.45454545454547,264.54545454545456,273.6363636363637,282.72727272727275,291.81818181818187,300.90909090909093,310.0,319.0909090909091,328.1818181818182,337.2727272727273,346.3636363636364,355.4545454545455,364.54545454545456,373.6363636363637,382.72727272727275,391.81818181818187,400.90909090909093,410.00000000000006,419.0909090909091,428.18181818181824,437.2727272727273,446.3636363636364,455.4545454545455,464.54545454545456,473.6363636363637,482.72727272727275,491.81818181818187,500.90909090909093,510.00000000000006,519.0909090909091,528.1818181818182,537.2727272727274,546.3636363636364,555.4545454545455,564.5454545454546,573.6363636363637,582.7272727272727,591.8181818181819,600.909090909091,610.0,619.0909090909091,628.1818181818182,637.2727272727274,646.3636363636364,655.4545454545455,664.5454545454546,673.6363636363637,682.7272727272727,691.8181818181819,700.909090909091,710.0000000000001,719.0909090909091,728.1818181818182,737.2727272727274,746.3636363636364,755.4545454545455,764.5454545454546,773.6363636363637,782.7272727272727,791.8181818181819,800.909090909091,810.0000000000001,819.0909090909091,828.1818181818182,837.2727272727274,846.3636363636365,855.4545454545455,864.5454545454546,873.6363636363637,882.7272727272727,891.8181818181819,900.909090909091,910.0],\"z\":[[1.3547314307012972,1.3360453754795387,1.3168816726838035,1.3069786025477443,1.3061594658460107,1.3117519294036297,1.3215153946008422,1.3332786540109414,1.3457220185436967,1.3578068102483303,1.3690931593961804,1.3790290097188211,1.384655226911395,1.3834947681650134,1.3687828809245173,1.3586777006676543,1.3590578976882992,1.365060466640885,1.3723735518461695,1.3806957208612602,1.3904056149090982,1.4024012193124085,1.4172011390381631,1.4342106609203111,1.45230171600661,1.4711561501796768,1.4901288249072797,1.5086935622877409,1.526851349031913,1.5483065649267493,1.5773077052327702,1.607019370476034,1.6187459753686497,1.626026301658603,1.632733053782947,1.639326717355997,1.636925833105773,1.6319819624544285,1.6286237425269294,1.6264581073659086,1.625001655233555,1.6257105598381867,1.6313934923137645,1.6487707137057648,1.6841419822736399,1.7294715724285474,1.771578622224667,1.8070373458279285,1.8396598875666648,1.8707788990416618,1.8999996292550314,1.9270574381674832,1.9517618161874564,1.973590874635534,1.9908023409168198,2.0017265744898345,2.007619610816244,2.0114647464132913,2.014204540808464,2.0167207955846935,2.019758387787436,2.024131607329146,2.0314623253561757,2.0435069450639882,2.060848125781687,2.0800863361470197,2.0981508814075784,2.112889097875956,2.121039055804371,2.1163920545230575,2.1087690392591028,2.1009648749815217,2.0906341196828313,2.0755884006130376,2.054909561167446,2.0279450225981104,1.9943861402363188,1.9537924893649654,1.8926421928276655,1.8077445585514678,1.7252101385977252,1.6646931519541217,1.626325200576403,1.601969204433364,1.5842180690726715,1.5712099188707551,1.562115253894873,1.5571518005065987,1.5559914032946534,1.5553038791964355,1.552871031308395,1.5499874448656672,1.5475766843038785,1.546185296963074,1.5468661011741531,1.5552586097737042,1.577727352987724,1.6103313725844648,1.6324167244669012,1.638940541407779],[1.7396555862984786,1.7143140740706402,1.6885907954279176,1.664117634715132,1.6425039824434697,1.6251058898587543,1.6140883234766794,1.6121557099823014,1.6217870133466092,1.6397834612661497,1.662352220273915,1.687355172872695,1.7130852019340261,1.73969025105996,1.7692346994043828,1.803893315924763,1.8427882035067915,1.8778187706998204,1.898961823678399,1.898086659838085,1.9058437375412574,1.9298428533769054,1.9552834873000027,1.9796060520996952,2.0023681999046783,2.0386283259782148,2.0806735448494615,2.0984643762206927,2.1002323021302103,2.096062728721832,2.0939799455466463,2.0953558146356848,2.0992836710539287,2.1049675973388933,2.113262665655143,2.1263612983334976,2.145473603160847,2.171892548012206,2.205060466865413,2.2393319692137847,2.267544169723218,2.2834247551100497,2.2995075490526857,2.3245467097749195,2.369920256124802,2.425989319396966,2.4782689795968054,2.52674611475432,2.5714118710864065,2.6125953062752947,2.6506914547157177,2.6859440855310512,2.7186661185898595,2.7504419211021904,2.7801627897728824,2.8016799670993175,2.8173716760009833,2.8321629049086217,2.8509049021208224,2.8766236876369673,2.9097215703695487,2.947563400034209,2.9874037017609716,3.0268765456039874,3.0649394572931072,3.1010592694720374,3.1346817355820784,3.1638933569680736,3.186781898635182,3.2027950095151905,3.2114009575572795,3.2121137223922944,3.2035645624675873,3.1839217081388793,3.1519170856231282,3.1176726145688733,3.083042100364163,3.0433452610285916,2.988542717853652,2.9141197840603184,2.8273874413514912,2.7356489561065223,2.6439579682561036,2.5560079494030066,2.476042309876539,2.409069169597987,2.3727559438321033,2.3629910913364283,2.3593874617081174,2.3548414430194495,2.3469036433124293,2.357701444640218,2.3874863656007435,2.4144509013202744,2.439964103244475,2.4666092688935217,2.496022372542136,2.525404920465941,2.549656171265015,2.563735873979859],[1.9893188790939726,1.9606664024781224,1.9371820963093591,1.9166947248854065,1.8993084647715488,1.8860570260916518,1.8779741189695807,1.876093453529202,1.8819726729306054,1.9008206206117082,1.930860721576494,1.9761794218316835,2.051331495688353,2.146177209821799,2.2535814849172713,2.369157154974543,2.4894183601274578,2.610879240509855,2.730053936255576,2.8429025567091633,2.9412105094283914,3.052291862354722,3.171640056455712,3.1375468909032223,3.0906659824439613,3.064097707596627,3.025527085384338,2.9796731797924534,2.9298998975710915,2.879430842297715,2.8314896175497855,2.789299826904765,2.758102656429308,2.7487296234111436,2.7668277774212457,2.80744518506659,2.8612622553418907,2.9242454640918907,2.994309429319159,3.069368769026268,3.1473381012157864,3.2262159197250417,3.304285617186433,3.3976758331631465,3.498133450122914,3.553590430651815,3.5883149853816168,3.6148749331168974,3.637291395811523,3.656237279103395,3.6723854886304146,3.686408930030484,3.697780739985041,3.697816160504582,3.681940162514103,3.684024670274817,3.7290615057052836,3.7744335744659017,3.8242124737524756,3.8823733271208645,3.9448034217694627,4.009718542119735,4.075650006712083,4.1411291340869045,4.204687242784601,4.2646371890694885,4.3185333515205375,4.364667707644634,4.403025533473368,4.434076069557756,4.457682186693189,4.473471432122415,4.481071353088183,4.4801094968332364,4.4701402252739415,4.450225448669478,4.422143262368933,4.387686244950887,4.341914402787238,4.287934028996247,4.228457254303334,4.1661932375787645,4.103975725640566,4.044638465306765,3.9910152033953916,3.9466137912384576,3.919818200304941,3.9231032044059657,3.941958994294493,3.933304199706874,3.9499738055037,3.981028267062059,4.010772432582115,4.044982396181653,4.083725199385822,4.1262453689271865,4.1717874315383074,4.219595913951743,4.26731847808881,4.308654255987479],[2.104740927126969,2.067462686911173,2.037144076145896,2.014592380960148,2.0042449595117517,2.0001943143656336,1.988041238959336,1.9812677454183123,1.9946425418548088,2.0397871527654003,2.1196641766101165,2.2361411204073063,2.387355384986419,2.5659867720166707,2.757849665191343,2.943568005215402,3.1442265517814167,3.4136276929700506,3.7310885826873643,4.071124589623972,4.392503935442461,4.661417262697143,4.847720743309529,4.907700293826802,4.836144312992464,4.66066269602254,4.4151570313120345,4.163155685932734,3.9617414910565887,3.861367287805245,3.7939564055612127,3.7242179399398925,3.671071510698808,3.650838554731702,3.6681893013120095,3.7175305689611307,3.7862944573460937,3.861203275131042,3.9616622780808806,4.1250293073680036,4.3243195934452725,4.529240407540085,4.710108598296169,4.853717648253171,4.949740049012622,5.000349064962591,5.019897786200524,5.016658458648193,4.991465758383538,4.939408109986563,4.865970864482243,4.785949725192623,4.714783771168669,4.6705857336515,4.664944855493006,4.7078795707096335,4.788107747927906,4.883679772575201,4.988612853869242,5.096429168137161,5.200078074542151,5.295159236764695,5.378300515828614,5.463276723405749,5.553751308109185,5.641129083436998,5.719559405865192,5.788404729570257,5.848684863728636,5.90067137375994,5.944204437991287,5.981472274876894,6.0180916374526054,6.052227805106047,6.0816494191134325,6.103426902955711,6.114830108648497,6.113268047280064,6.097609500987854,6.07057867428041,6.040937980264745,6.022889019017648,6.025643930628358,6.054074027517198,6.100737972152306,6.157303352467414,6.211744018688288,6.257548343392184,6.289744495227816,6.306983921846436,6.315059847351603,6.319713105070523,6.328566666953276,6.357323564690171,6.418804621204367,6.523086167315656,6.631321955425855,6.7278757362666886,6.816437774169638,6.895098259826895],[2.2182895399352156,2.1795469136906394,2.1347428106357405,2.0897200259066064,2.051590220526194,2.0261055706720104,2.01901825252156,2.036080442252347,2.0830443160418755,2.1656620500676524,2.2896858205071817,2.459816290686956,2.692828422251984,2.975424425275563,3.289309750257937,3.6245814096619005,3.9713364159502462,4.319671781585773,4.659684519031267,4.981471640749531,5.275130159203351,5.531605966500725,5.738308587019635,5.880918618182091,5.931131262406942,5.896498894706766,5.795925487384302,5.648315012742295,5.472571443083492,5.287598750710631,5.112300907926459,4.965581887033716,4.8765200541933025,4.88845524675241,4.872941650531617,4.931337212730514,5.035752360153841,5.1683805879348865,5.318376328605087,5.474894014695874,5.627088078738681,5.764112953264943,5.875123070806092,5.949272863893566,5.98530436053475,6.005927304277812,5.988479636788656,5.95553654909223,5.914904037613002,5.87308056792743,5.836564605611974,5.811854616243089,5.805449065397227,5.823846418650852,5.8735451415804185,5.9623285245193305,6.069807859347905,6.187975379242628,6.316930716033583,6.452608608861063,6.592422165699696,6.733784494524109,6.874108703308917,7.010807900028748,7.141295192658228,7.262983689171978,7.372187291363859,7.47588838758274,7.581549818710771,7.686189991046681,7.788113327257282,7.885624250009394,7.977027181969819,8.060626545805379,8.134726764182883,8.197632259769144,8.248973236090984,8.291691648810758,8.294455749357784,8.316577443426887,8.343588308260365,8.372572801079947,8.403366649853016,8.435805582546951,8.469725327129133,8.504961611566939,8.541350163827747,8.578726711878941,8.61771956766423,8.661998658860208,8.710641621191048,8.76380343133678,8.82341378989397,8.891402397459178,8.969698954628978,9.060233161999934,9.164934720168597,9.285733329731547,9.428049570661539,9.59847652477112],[2.409508906085091,2.3823955158357597,2.349153875693512,2.314909646060772,2.2904002548717317,2.284809007447707,2.3030296918432476,2.332085277578779,2.3742979943225393,2.442280924786798,2.550217486299611,2.703693840573137,2.9223031871931937,3.2062803694854836,3.5296317590676067,3.853747966849619,4.163441780430141,4.432923151991265,4.634244314816541,4.7990019427795465,4.960517394759311,5.125605655478127,5.283615907082136,5.3973970859539175,5.4411148506289235,5.4252338404366,5.416464734906568,5.480751220402288,5.643883996642912,5.8435125871577,6.051492390759046,6.235433877090128,6.369552911121403,6.4464198043660765,6.455195487054452,6.3978233930434465,6.286475134862253,6.155138342691242,6.041529288053823,5.974885939547737,5.992442299657736,6.0742601500406135,6.179564039920304,6.272799571988672,6.352659306588633,6.448983895875034,6.591202508510993,6.779519494616806,6.984893209477157,7.1511713454464605,7.230994416777837,7.270266364447128,7.308293488515416,7.361013332251499,7.453117780023062,7.5956914098179,7.766030048725974,7.936156404322764,8.107857973044576,8.277817113773217,8.435889348327137,8.57412474555711,8.727604921279973,8.905500529418973,9.094989590129929,9.274467174447631,9.43689167769901,9.589733883824417,9.742204148960965,9.891906435584225,10.04422298486925,10.203826701331382,10.373532333127153,10.546707353825873,10.709991750081127,10.844195266066455,10.929722129174756,10.958055709993024,10.923051660919908,10.833335007343438,10.702890739149296,10.564833355831052,10.453411329892376,10.392956862763052,10.383846954685513,10.41194390343345,10.46154667400441,10.509563184519976,10.553405024763425,10.59496373300206,10.63753433637808,10.68453278758279,10.76360248466409,10.895435198476594,11.077032383109424,11.269680714298397,11.470704703874816,11.674897518887905,11.868265099294382,12.039491874412318],[2.590426170735772,2.593404306363509,2.598833950349694,2.609423601755841,2.6277532713396687,2.656402969858899,2.69795270807125,2.7549824967344416,2.830072346606194,2.925802268444226,3.0447522730062593,3.1900663826597837,3.3437617186716597,3.4699701552672284,3.5814187192232865,3.6860427196951715,3.7917774658382237,3.906558266807782,4.03832043175919,4.194999269847778,4.384530090228896,4.6148482020578765,4.89224646320802,5.200508865920254,5.534657930965462,5.881035217405104,6.230651416114775,6.574517217970067,6.903643313846577,7.209040394619899,7.4817191511656285,7.712690274359358,7.8929644550766875,8.013893764873009,8.07275551108838,8.073617544076583,8.02688142983137,7.943085873090579,7.832769578592041,7.706471251073589,7.574729595273066,7.44808331592831,7.33707111777715,7.252231705557427,7.208487874044771,7.232244694285074,7.348018636585908,7.54112611150522,7.795258844060845,8.094108559270605,8.421366982152334,8.76072583772386,9.095876851003014,9.41051174700762,9.688322250755512,9.907726987164045,10.109761889493182,10.32503904564435,10.551112207944797,10.785115051019835,11.024181249494786,11.265444477994963,11.50603841114568,11.743096723572247,11.973753089899988,12.195141184754219,12.403966951939257,12.614334413779082,12.831120710809605,13.046806203790073,13.255648011700021,13.451903253519,13.629829048226542,13.783682514802196,13.907720772225494,13.996200939475994,14.043380135533218,14.043435314622279,13.992699618391766,13.899905307530974,13.775818309468036,13.631185651486408,13.476754360869563,13.323271464900953,13.18148399086404,13.062138966042287,12.975983417719151,12.933764373178096,12.948694216561599,13.007362383498371,13.099017331582585,13.220336138442828,13.368022819770655,13.538781391257613,13.729315868595261,13.936330267475151,14.156528603588825,14.386614892627852,14.62329315028377,14.862681818679425],[2.671188480321689,2.7360497259169585,2.7984733774501658,2.862527839355777,2.934457962439264,3.022845231642052,3.133587305223526,3.275355302810179,3.453938541973532,3.66114531304068,3.8810803506943152,4.107122909462292,4.329278448560171,4.539325656254145,4.736956008791689,4.924781696240545,5.101264171118219,5.238421653514143,5.344945084192569,5.4460256250856816,5.568359106649867,5.7206500436308625,5.904487520240231,6.129587743448579,6.39676137081592,6.693349776395254,7.013011623254749,7.363027822071043,7.741984645034618,8.131080715567544,8.50950472879316,8.84546600213917,9.114836440428538,9.301721453332393,9.39836860686984,9.418267509041726,9.37738663249182,9.300827074415647,9.22424786156099,9.172575239227788,9.170219082043818,9.221801553518612,9.31475300888588,9.443024947016264,9.611928030379241,9.841553899426522,10.142580448931506,10.50722824491657,10.914881668496832,11.315164646314349,11.662308530338498,11.944502831648487,12.22402652391675,12.508297642114334,12.804606135563196,13.119382857884066,13.443796435797468,13.766746354340661,14.090645016494516,14.415247915715751,14.730906664179315,15.026648617195,15.32341830611045,15.678630197485704,16.061839604318777,16.398390254451172,16.649871677737007,16.802503727358555,16.874925680770495,16.90142451545434,16.950990905061474,17.054446336417477,17.179284544598836,17.296814122529362,17.395337545772556,17.459984496925223,17.480849264046988,17.45137739360565,17.366182910771084,17.23245996606626,17.06252429398873,16.87565152551279,16.701535599428347,16.56335690232508,16.482080756159814,16.458398683582306,16.480454493263505,16.527696988603317,16.595943951513878,16.683984890475127,16.788876625950596,16.911416956767606,17.06634579299515,17.2616941255873,17.48156321040446,17.715969957687612,17.962605397179807,18.21301310670219,18.454785682774403,18.677213223180527],[2.6801096465414362,2.816362591071491,2.9736695189994795,3.1662032156584057,3.384124533827024,3.6232627842821783,3.880366539664641,4.152184372615187,4.435464855774589,4.726956561783621,5.023419329341168,5.3216864769973,5.616801282349607,5.905447798651495,6.1862731667731525,6.457669833626828,6.718023039022959,6.965718022771989,7.199140024684348,7.416674284570482,7.616969922455479,7.799504292275718,7.960939167664058,8.150029233867004,8.3599850723467,8.573168570973708,8.788802914852031,9.006769728041668,9.226950634602625,9.4492272585949,9.673481224078495,9.90177003894461,10.149722521842842,10.388860297509702,10.534574835900658,10.688950068533412,10.889724250957697,11.116385937147088,11.363408943848054,11.627701769613754,11.906172912997356,12.195730872552033,12.49328414683095,12.796304623399227,13.116551787715167,13.479856427824533,13.8215146312318,14.151782743542489,14.475965620933458,14.798124360219568,15.122437579720671,15.45308389775661,15.794241932647223,16.15009030271236,16.524891689038764,16.925100522377,17.33497707030608,17.752116766752398,18.231531306911844,18.740659209205713,19.261328833081198,19.777952505062196,20.27494255167261,20.73671129943636,21.147671074877344,21.491854699278527,21.742640982211597,21.882752793554687,21.931392216769023,21.91115026256381,21.83703013661269,21.723772832237312,21.586119342759325,21.438810661500387,21.29658778178213,21.176906597721405,21.113186608464623,21.052130519277824,20.936377072822417,20.836742571731968,20.78045500724002,20.751334906819125,20.745819505311903,20.76231888532731,20.799243129474252,20.855002320361685,20.928006540598545,21.016832899013412,21.123989325896662,21.25080496599928,21.393979151407205,21.548391423575087,21.713677299974268,21.889669062420527,22.076198992729626,22.273099372717326,22.480202484199413,22.699150751940174,22.942762976895832,23.18903934852909],[null,null,null,null,null,null,null,null,null,null,null,null,null,null,null,null,null,null,null,null,null,null,null,null,null,null,null,null,null,null,null,null,null,null,null,null,null,null,null,null,null,null,null,null,null,null,null,null,null,null,null,null,null,null,null,null,null,null,null,null,null,null,null,null,null,null,null,null,null,null,null,null,null,null,null,null,null,null,null,null,null,null,null,null,null,null,null,null,null,null,null,null,null,null,null,null,null,null,null,null],[null,null,null,null,null,null,null,null,null,null,null,null,null,null,null,null,null,null,null,null,null,null,null,null,null,null,null,null,null,null,null,null,null,null,null,null,null,null,null,null,null,null,null,null,null,null,null,null,null,null,null,null,null,null,null,null,null,null,null,null,null,null,null,null,null,null,null,null,null,null,null,null,null,null,null,null,null,null,null,null,null,null,null,null,null,null,null,null,null,null,null,null,null,null,null,null,null,null,null,null],[null,null,null,null,null,null,null,null,null,null,null,null,null,null,null,null,null,null,null,null,null,null,null,null,null,null,null,null,null,null,null,null,null,null,null,null,null,null,null,null,null,null,null,null,null,null,null,null,null,null,null,null,null,null,null,null,null,null,null,null,null,null,null,null,null,null,null,null,null,null,null,null,null,null,null,null,null,null,null,null,null,null,null,null,null,null,null,null,null,null,null,null,null,null,null,null,null,null,null,null],[null,null,null,null,null,null,null,null,null,null,null,null,null,null,null,null,null,null,null,null,null,null,null,null,null,null,null,null,null,null,null,null,null,null,null,null,null,null,null,null,null,null,null,null,null,null,null,null,null,null,null,null,null,null,null,null,null,null,null,null,null,null,null,null,null,null,null,null,null,null,null,null,null,null,null,null,null,null,null,null,null,null,null,null,null,null,null,null,null,null,null,null,null,null,null,null,null,null,null,null],[null,null,null,null,null,null,null,null,null,null,null,null,null,null,null,null,null,null,null,null,null,null,null,null,null,null,null,null,null,null,null,null,null,null,null,null,null,null,null,null,null,null,null,null,null,null,null,null,null,null,null,null,null,null,null,null,null,null,null,null,null,null,null,null,null,null,null,null,null,null,null,null,null,null,null,null,null,null,null,null,null,null,null,null,null,null,null,null,null,null,null,null,null,null,null,null,null,null,null,null],[null,null,null,null,null,null,null,null,null,null,null,null,null,null,null,null,null,null,null,null,null,null,null,null,null,null,null,null,null,null,null,null,null,null,null,null,null,null,null,null,null,null,null,null,null,null,null,null,null,null,null,null,null,null,null,null,null,null,null,null,null,null,null,null,null,null,null,null,null,null,null,null,null,null,null,null,null,null,null,null,null,null,null,null,null,null,null,null,null,null,null,null,null,null,null,null,null,null,null,null],[null,null,null,null,null,null,null,null,null,null,null,null,null,null,null,null,null,null,null,null,null,null,null,null,null,null,null,null,null,null,null,null,null,null,null,null,null,null,null,null,null,null,null,null,null,null,null,null,null,null,null,null,null,null,null,null,null,null,null,null,null,null,null,null,null,null,null,null,null,null,null,null,null,null,null,null,null,null,null,null,null,null,null,null,null,null,null,null,null,null,null,null,null,null,null,null,null,null,null,null],[null,null,null,null,null,null,null,null,null,null,null,null,null,null,null,null,null,null,null,null,null,null,null,null,null,null,null,null,null,null,null,null,null,null,null,null,null,null,null,null,null,null,null,null,null,null,null,null,null,null,null,null,null,null,null,null,null,null,null,null,null,null,null,null,null,null,null,null,null,null,null,null,null,null,null,null,null,null,null,null,null,null,null,null,null,null,null,null,null,null,null,null,null,null,null,null,null,null,null,null],[null,null,null,null,null,null,null,null,null,null,null,null,null,null,null,null,null,null,null,null,null,null,null,null,null,null,null,null,null,null,null,null,null,null,null,null,null,null,null,null,null,null,null,null,null,null,null,null,null,null,null,null,null,null,null,null,null,null,null,null,null,null,null,null,null,null,null,null,null,null,null,null,null,null,null,null,null,null,null,null,null,null,null,null,null,null,null,null,null,null,null,null,null,null,null,null,null,null,null,null],[null,null,null,null,null,null,null,null,null,null,null,null,null,null,null,null,null,null,null,null,null,null,null,null,null,null,null,null,null,null,null,null,null,null,null,null,null,null,null,null,null,null,null,null,null,null,null,null,null,null,null,null,null,null,null,null,null,null,null,null,null,null,null,null,null,null,null,null,null,null,null,null,null,null,null,null,null,null,null,null,null,null,null,null,null,null,null,null,null,null,null,null,null,null,null,null,null,null,null,null],[null,null,null,null,null,null,null,null,null,null,null,null,null,null,null,null,null,null,null,null,null,null,null,null,null,null,null,null,null,null,null,null,null,null,null,null,null,null,null,null,null,null,null,null,null,null,null,null,null,null,null,null,null,null,null,null,null,null,null,null,null,null,null,null,null,null,null,null,null,null,null,null,null,null,null,null,null,null,null,null,null,null,null,null,null,null,null,null,null,null,null,null,null,null,null,null,null,null,null,null],[null,null,null,null,null,null,null,null,null,null,null,null,null,null,null,null,null,null,null,null,null,null,null,null,null,null,null,null,null,null,null,null,null,null,null,null,null,null,null,null,null,null,null,null,null,null,null,null,null,null,null,null,null,null,null,null,null,null,null,null,null,null,null,null,null,null,null,null,null,null,null,null,null,null,null,null,null,null,null,null,null,null,null,null,null,null,null,null,null,null,null,null,null,null,null,null,null,null,null,null],[null,null,null,null,null,null,null,null,null,null,null,null,null,null,null,null,null,null,null,null,null,null,null,null,null,null,null,null,null,null,null,null,null,null,null,null,null,null,null,null,null,null,null,null,null,null,null,null,null,null,null,null,null,null,null,null,null,null,null,null,null,null,null,null,null,null,null,null,null,null,null,null,null,null,null,null,null,null,null,null,null,null,null,null,null,null,null,null,null,null,null,null,null,null,null,null,null,null,null,null],[null,null,null,null,null,null,null,null,null,null,null,null,null,null,null,null,null,null,null,null,null,null,null,null,null,null,null,null,null,null,null,null,null,null,null,null,null,null,null,null,null,null,null,null,null,null,null,null,null,null,null,null,null,null,null,null,null,null,null,null,null,null,null,null,null,null,null,null,null,null,null,null,null,null,null,null,null,null,null,null,null,null,null,null,null,null,null,null,null,null,null,null,null,null,null,null,null,null,null,null],[null,null,null,null,null,null,null,null,null,null,null,null,null,null,null,null,null,null,null,null,null,null,null,null,null,null,null,null,null,null,null,null,null,null,null,null,null,null,null,null,null,null,null,null,null,null,null,null,null,null,null,null,null,null,null,null,null,null,null,null,null,null,null,null,null,null,null,null,null,null,null,null,null,null,null,null,null,null,null,null,null,null,null,null,null,null,null,null,null,null,null,null,null,null,null,null,null,null,null,null],[null,null,null,null,null,null,null,null,null,null,null,null,null,null,null,null,null,null,null,null,null,null,null,null,null,null,null,null,null,null,null,null,null,null,null,null,null,null,null,null,null,null,null,null,null,null,null,null,null,null,null,null,null,null,null,null,null,null,null,null,null,null,null,null,null,null,null,null,null,null,null,null,null,null,null,null,null,null,null,null,null,null,null,null,null,null,null,null,null,null,null,null,null,null,null,null,null,null,null,null],[null,null,null,null,null,null,null,null,null,null,null,null,null,null,null,null,null,null,null,null,null,null,null,null,null,null,null,null,null,null,null,null,null,null,null,null,null,null,null,null,null,null,null,null,null,null,null,null,null,null,null,null,null,null,null,null,null,null,null,null,null,null,null,null,null,null,null,null,null,null,null,null,null,null,null,null,null,null,null,null,null,null,null,null,null,null,null,null,null,null,null,null,null,null,null,null,null,null,null,null],[null,null,null,null,null,null,null,null,null,null,null,null,null,null,null,null,null,null,null,null,null,null,null,null,null,null,null,null,null,null,null,null,null,null,null,null,null,null,null,null,null,null,null,null,null,null,null,null,null,null,null,null,null,null,null,null,null,null,null,null,null,null,null,null,null,null,null,null,null,null,null,null,null,null,null,null,null,null,null,null,null,null,null,null,null,null,null,null,null,null,null,null,null,null,null,null,null,null,null,null],[null,null,null,null,null,null,null,null,null,null,null,null,null,null,null,null,null,null,null,null,null,null,null,null,null,null,null,null,null,null,null,null,null,null,null,null,null,null,null,null,null,null,null,null,null,null,null,null,null,null,null,null,null,null,null,null,null,null,null,null,null,null,null,null,null,null,null,null,null,null,null,null,null,null,null,null,null,null,null,null,null,null,null,null,null,null,null,null,null,null,null,null,null,null,null,null,null,null,null,null],[null,null,null,null,null,null,null,null,null,null,null,null,null,null,null,null,null,null,null,null,null,null,null,null,null,null,null,null,null,null,null,null,null,null,null,null,null,null,null,null,null,null,null,null,null,null,null,null,null,null,null,null,null,null,null,null,null,null,null,null,null,null,null,null,null,null,null,null,null,null,null,null,null,null,null,null,null,null,null,null,null,null,null,null,null,null,null,null,null,null,null,null,null,null,null,null,null,null,null,null],[null,null,null,null,null,null,null,null,null,null,null,null,null,null,null,null,null,null,null,null,null,null,null,null,null,null,null,null,null,null,null,null,null,null,null,null,null,null,null,null,null,null,null,null,null,null,null,null,null,null,null,null,null,null,null,null,null,null,null,null,null,null,null,null,null,null,null,null,null,null,null,null,null,null,null,null,null,null,null,null,null,null,null,null,null,null,null,null,null,null,null,null,null,null,null,null,null,null,null,null],[null,null,null,null,null,null,null,null,null,null,null,null,null,null,null,null,null,null,null,null,null,null,null,null,null,null,null,null,null,null,null,null,null,null,null,null,null,null,null,null,null,null,null,null,null,null,null,null,null,null,null,null,null,null,null,null,null,null,null,null,null,null,null,null,null,null,null,null,null,null,null,null,null,null,null,null,null,null,null,null,null,null,null,null,null,null,null,null,null,null,null,null,null,null,null,null,null,null,null,null],[null,null,null,null,null,null,null,null,null,null,null,null,null,null,null,null,null,null,null,null,null,null,null,null,null,null,null,null,null,null,null,null,null,null,null,null,null,null,null,null,null,null,null,null,null,null,null,null,null,null,null,null,null,null,null,null,null,null,null,null,null,null,null,null,null,null,null,null,null,null,null,null,null,null,null,null,null,null,null,null,null,null,null,null,null,null,null,null,null,null,null,null,null,null,null,null,null,null,null,null],[null,null,null,null,null,null,null,null,null,null,null,null,null,null,null,null,null,null,null,null,null,null,null,null,null,null,null,null,null,null,null,null,null,null,null,null,null,null,null,null,null,null,null,null,null,null,null,null,null,null,null,null,null,null,null,null,null,null,null,null,null,null,null,null,null,null,null,null,null,null,null,null,null,null,null,null,null,null,null,null,null,null,null,null,null,null,null,null,null,null,null,null,null,null,null,null,null,null,null,null],[null,null,null,null,null,null,null,null,null,null,null,null,null,null,null,null,null,null,null,null,null,null,null,null,null,null,null,null,null,null,null,null,null,null,null,null,null,null,null,null,null,null,null,null,null,null,null,null,null,null,null,null,null,null,null,null,null,null,null,null,null,null,null,null,null,null,null,null,null,null,null,null,null,null,null,null,null,null,null,null,null,null,null,null,null,null,null,null,null,null,null,null,null,null,null,null,null,null,null,null],[null,null,null,null,null,null,null,null,null,null,null,null,null,null,null,null,null,null,null,null,null,null,null,null,null,null,null,null,null,null,null,null,null,null,null,null,null,null,null,null,null,null,null,null,null,null,null,null,null,null,null,null,null,null,null,null,null,null,null,null,null,null,null,null,null,null,null,null,null,null,null,null,null,null,null,null,null,null,null,null,null,null,null,null,null,null,null,null,null,null,null,null,null,null,null,null,null,null,null,null],[null,null,null,null,null,null,null,null,null,null,null,null,null,null,null,null,null,null,null,null,null,null,null,null,null,null,null,null,null,null,null,null,null,null,null,null,null,null,null,null,null,null,null,null,null,null,null,null,null,null,null,null,null,null,null,null,null,null,null,null,null,null,null,null,null,null,null,null,null,null,null,null,null,null,null,null,null,null,null,null,null,null,null,null,null,null,null,null,null,null,null,null,null,null,null,null,null,null,null,null],[null,null,null,null,null,null,null,null,null,null,null,null,null,null,null,null,null,null,null,null,null,null,null,null,null,null,null,null,null,null,null,null,null,null,null,null,null,null,null,null,null,null,null,null,null,null,null,null,null,null,null,null,null,null,null,null,null,null,null,null,null,null,null,null,null,null,null,null,null,null,null,null,null,null,null,null,null,null,null,null,null,null,null,null,null,null,null,null,null,null,null,null,null,null,null,null,null,null,null,null],[null,null,null,null,null,null,null,null,null,null,null,null,null,null,null,null,null,null,null,null,null,null,null,null,null,null,null,null,null,null,null,null,null,null,null,null,null,null,null,null,null,null,null,null,null,null,null,null,null,null,null,null,null,null,null,null,null,null,null,null,null,null,null,null,null,null,null,null,null,null,null,null,null,null,null,null,null,null,null,null,null,null,null,null,null,null,null,null,null,null,null,null,null,null,null,null,null,null,null,null],[null,null,null,null,null,null,null,null,null,null,null,null,null,null,null,null,null,null,null,null,null,null,null,null,null,null,null,null,null,null,null,null,null,null,null,null,null,null,null,null,null,null,null,null,null,null,null,null,null,null,null,null,null,null,null,null,null,null,null,null,null,null,null,null,null,null,null,null,null,null,null,null,null,null,null,null,null,null,null,null,null,null,null,null,null,null,null,null,null,null,null,null,null,null,null,null,null,null,null,null],[null,null,null,null,null,null,null,null,null,null,null,null,null,null,null,null,null,null,null,null,null,null,null,null,null,null,null,null,null,null,null,null,null,null,null,null,null,null,null,null,null,null,null,null,null,null,null,null,null,null,null,null,null,null,null,null,null,null,null,null,null,null,null,null,null,null,null,null,null,null,null,null,null,null,null,null,null,null,null,null,null,null,null,null,null,null,null,null,null,null,null,null,null,null,null,null,null,null,null,null],[null,null,null,null,null,null,null,null,null,null,null,null,null,null,null,null,null,null,null,null,null,null,null,null,null,null,null,null,null,null,null,null,null,null,null,null,null,null,null,null,null,null,null,null,null,null,null,null,null,null,null,null,null,null,null,null,null,null,null,null,null,null,null,null,null,null,null,null,null,null,null,null,null,null,null,null,null,null,null,null,null,null,null,null,null,null,null,null,null,null,null,null,null,null,null,null,null,null,null,null],[null,null,null,null,null,null,null,null,null,null,null,null,null,null,null,null,null,null,null,null,null,null,null,null,null,null,null,null,null,null,null,null,null,null,null,null,null,null,null,null,null,null,null,null,null,null,null,null,null,null,null,null,null,null,null,null,null,null,null,null,null,null,null,null,null,null,null,null,null,null,null,null,null,null,null,null,null,null,null,null,null,null,null,null,null,null,null,null,null,null,null,null,null,null,null,null,null,null,null,null],[null,null,null,null,null,null,null,null,null,null,null,null,null,null,null,null,null,null,null,null,null,null,null,null,null,null,null,null,null,null,null,null,null,null,null,null,null,null,null,null,null,null,null,null,null,null,null,null,null,null,null,null,null,null,null,null,null,null,null,null,null,null,null,null,null,null,null,null,null,null,null,null,null,null,null,null,null,null,null,null,null,null,null,null,null,null,null,null,null,null,null,null,null,null,null,null,null,null,null,null],[null,null,null,null,null,null,null,null,null,null,null,null,null,null,null,null,null,null,null,null,null,null,null,null,null,null,null,null,null,null,null,null,null,null,null,null,null,null,null,null,null,null,null,null,null,null,null,null,null,null,null,null,null,null,null,null,null,null,null,null,null,null,null,null,null,null,null,null,null,null,null,null,null,null,null,null,null,null,null,null,null,null,null,null,null,null,null,null,null,null,null,null,null,null,null,null,null,null,null,null],[null,null,null,null,null,null,null,null,null,null,null,null,null,null,null,null,null,null,null,null,null,null,null,null,null,null,null,null,null,null,null,null,null,null,null,null,null,null,null,null,null,null,null,null,null,null,null,null,null,null,null,null,null,null,null,null,null,null,null,null,null,null,null,null,null,null,null,null,null,null,null,null,null,null,null,null,null,null,null,null,null,null,null,null,null,null,null,null,null,null,null,null,null,null,null,null,null,null,null,null],[null,null,null,null,null,null,null,null,null,null,null,null,null,null,null,null,null,null,null,null,null,null,null,null,null,null,null,null,null,null,null,null,null,null,null,null,null,null,null,null,null,null,null,null,null,null,null,null,null,null,null,null,null,null,null,null,null,null,null,null,null,null,null,null,null,null,null,null,null,null,null,null,null,null,null,null,null,null,null,null,null,null,null,null,null,null,null,null,null,null,null,null,null,null,null,null,null,null,null,null],[null,null,null,null,null,null,null,null,null,null,null,null,null,null,null,null,null,null,null,null,null,null,null,null,null,null,null,null,null,null,null,null,null,null,null,null,null,null,null,null,null,null,null,null,null,null,null,null,null,null,null,null,null,null,null,null,null,null,null,null,null,null,null,null,null,null,null,null,null,null,null,null,null,null,null,null,null,null,null,null,null,null,null,null,null,null,null,null,null,null,null,null,null,null,null,null,null,null,null,null],[null,null,null,null,null,null,null,null,null,null,null,null,null,null,null,null,null,null,null,null,null,null,null,null,null,null,null,null,null,null,null,null,null,null,null,null,null,null,null,null,null,null,null,null,null,null,null,null,null,null,null,null,null,null,null,null,null,null,null,null,null,null,null,null,null,null,null,null,null,null,null,null,null,null,null,null,null,null,null,null,null,null,null,null,null,null,null,null,null,null,null,null,null,null,null,null,null,null,null,null],[null,null,null,null,null,null,null,null,null,null,null,null,null,null,null,null,null,null,null,null,null,null,null,null,null,null,null,null,null,null,null,null,null,null,null,null,null,null,null,null,null,null,null,null,null,null,null,null,null,null,null,null,null,null,null,null,null,null,null,null,null,null,null,null,null,null,null,null,null,null,null,null,null,null,null,null,null,null,null,null,null,null,null,null,null,null,null,null,null,null,null,null,null,null,null,null,null,null,null,null],[null,null,null,null,null,null,null,null,null,null,null,null,null,null,null,null,null,null,null,null,null,null,null,null,null,null,null,null,null,null,null,null,null,null,null,null,null,null,null,null,null,null,null,null,null,null,null,null,null,null,null,null,null,null,null,null,null,null,null,null,null,null,null,null,null,null,null,null,null,null,null,null,null,null,null,null,null,null,null,null,null,null,null,null,null,null,null,null,null,null,null,null,null,null,null,null,null,null,null,null],[null,null,null,null,null,null,null,null,null,null,null,null,null,null,null,null,null,null,null,null,null,null,null,null,null,null,null,null,null,null,null,null,null,null,null,null,null,null,null,null,null,null,null,null,null,null,null,null,null,null,null,null,null,null,null,null,null,null,null,null,null,null,null,null,null,null,null,null,null,null,null,null,null,null,null,null,null,null,null,null,null,null,null,null,null,null,null,null,null,null,null,null,null,null,null,null,null,null,null,null],[null,null,null,null,null,null,null,null,null,null,null,null,null,null,null,null,null,null,null,null,null,null,null,null,null,null,null,null,null,null,null,null,null,null,null,null,null,null,null,null,null,null,null,null,null,null,null,null,null,null,null,null,null,null,null,null,null,null,null,null,null,null,null,null,null,null,null,null,null,null,null,null,null,null,null,null,null,null,null,null,null,null,null,null,null,null,null,null,null,null,null,null,null,null,null,null,null,null,null,null],[null,null,null,null,null,null,null,null,null,null,null,null,null,null,null,null,null,null,null,null,null,null,null,null,null,null,null,null,null,null,null,null,null,null,null,null,null,null,null,null,null,null,null,null,null,null,null,null,null,null,null,null,null,null,null,null,null,null,null,null,null,null,null,null,null,null,null,null,null,null,null,null,null,null,null,null,null,null,null,null,null,null,null,null,null,null,null,null,null,null,null,null,null,null,null,null,null,null,null,null],[null,null,null,null,null,null,null,null,null,null,null,null,null,null,null,null,null,null,null,null,null,null,null,null,null,null,null,null,null,null,null,null,null,null,null,null,null,null,null,null,null,null,null,null,null,null,null,null,null,null,null,null,null,null,null,null,null,null,null,null,null,null,null,null,null,null,null,null,null,null,null,null,null,null,null,null,null,null,null,null,null,null,null,null,null,null,null,null,null,null,null,null,null,null,null,null,null,null,null,null],[null,null,null,null,null,null,null,null,null,null,null,null,null,null,null,null,null,null,null,null,null,null,null,null,null,null,null,null,null,null,null,null,null,null,null,null,null,null,null,null,null,null,null,null,null,null,null,null,null,null,null,null,null,null,null,null,null,null,null,null,null,null,null,null,null,null,null,null,null,null,null,null,null,null,null,null,null,null,null,null,null,null,null,null,null,null,null,null,null,null,null,null,null,null,null,null,null,null,null,null],[null,null,null,null,null,null,null,null,null,null,null,null,null,null,null,null,null,null,null,null,null,null,null,null,null,null,null,null,null,null,null,null,null,null,null,null,null,null,null,null,null,null,null,null,null,null,null,null,null,null,null,null,null,null,null,null,null,null,null,null,null,null,null,null,null,null,null,null,null,null,null,null,null,null,null,null,null,null,null,null,null,null,null,null,null,null,null,null,null,null,null,null,null,null,null,null,null,null,null,null],[null,null,null,null,null,null,null,null,null,null,null,null,null,null,null,null,null,null,null,null,null,null,null,null,null,null,null,null,null,null,null,null,null,null,null,null,null,null,null,null,null,null,null,null,null,null,null,null,null,null,null,null,null,null,null,null,null,null,null,null,null,null,null,null,null,null,null,null,null,null,null,null,null,null,null,null,null,null,null,null,null,null,null,null,null,null,null,null,null,null,null,null,null,null,null,null,null,null,null,null],[null,null,null,null,null,null,null,null,null,null,null,null,null,null,null,null,null,null,null,null,null,null,null,null,null,null,null,null,null,null,null,null,null,null,null,null,null,null,null,null,null,null,null,null,null,null,null,null,null,null,null,null,null,null,null,null,null,null,null,null,null,null,null,null,null,null,null,null,null,null,null,null,null,null,null,null,null,null,null,null,null,null,null,null,null,null,null,null,null,null,null,null,null,null,null,null,null,null,null,null],[null,null,null,null,null,null,null,null,null,null,null,null,null,null,null,null,null,null,null,null,null,null,null,null,null,null,null,null,null,null,null,null,null,null,null,null,null,null,null,null,null,null,null,null,null,null,null,null,null,null,null,null,null,null,null,null,null,null,null,null,null,null,null,null,null,null,null,null,null,null,null,null,null,null,null,null,null,null,null,null,null,null,null,null,null,null,null,null,null,null,null,null,null,null,null,null,null,null,null,null],[null,null,null,null,null,null,null,null,null,null,null,null,null,null,null,null,null,null,null,null,null,null,null,null,null,null,null,null,null,null,null,null,null,null,null,null,null,null,null,null,null,null,null,null,null,null,null,null,null,null,null,null,null,null,null,null,null,null,null,null,null,null,null,null,null,null,null,null,null,null,null,null,null,null,null,null,null,null,null,null,null,null,null,null,null,null,null,null,null,null,null,null,null,null,null,null,null,null,null,null],[null,null,null,null,null,null,null,null,null,null,null,null,null,null,null,null,null,null,null,null,null,null,null,null,null,null,null,null,null,null,null,null,null,null,null,null,null,null,null,null,null,null,null,null,null,null,null,null,null,null,null,null,null,null,null,null,null,null,null,null,null,null,null,null,null,null,null,null,null,null,null,null,null,null,null,null,null,null,null,null,null,null,null,null,null,null,null,null,null,null,null,null,null,null,null,null,null,null,null,null],[null,null,null,null,null,null,null,null,null,null,null,null,null,null,null,null,null,null,null,null,null,null,null,null,null,null,null,null,null,null,null,null,null,null,null,null,null,null,null,null,null,null,null,null,null,null,null,null,null,null,null,null,null,null,null,null,null,null,null,null,null,null,null,null,null,null,null,null,null,null,null,null,null,null,null,null,null,null,null,null,null,null,null,null,null,null,null,null,null,null,null,null,null,null,null,null,null,null,null,null],[null,null,null,null,null,null,null,null,null,null,null,null,null,null,null,null,null,null,null,null,null,null,null,null,null,null,null,null,null,null,null,null,null,null,null,null,null,null,null,null,null,null,null,null,null,null,null,null,null,null,null,null,null,null,null,null,null,null,null,null,null,null,null,null,null,null,null,null,null,null,null,null,null,null,null,null,null,null,null,null,null,null,null,null,null,null,null,null,null,null,null,null,null,null,null,null,null,null,null,null],[null,null,null,null,null,null,null,null,null,null,null,null,null,null,null,null,null,null,null,null,null,null,null,null,null,null,null,null,null,null,null,null,null,null,null,null,null,null,null,null,null,null,null,null,null,null,null,null,null,null,null,null,null,null,null,null,null,null,null,null,null,null,null,null,null,null,null,null,null,null,null,null,null,null,null,null,null,null,null,null,null,null,null,null,null,null,null,null,null,null,null,null,null,null,null,null,null,null,null,null],[null,null,null,null,null,null,null,null,null,null,null,null,null,null,null,null,null,null,null,null,null,null,null,null,null,null,null,null,null,null,null,null,null,null,null,null,null,null,null,null,null,null,null,null,null,null,null,null,null,null,null,null,null,null,null,null,null,null,null,null,null,null,null,null,null,null,null,null,null,null,null,null,null,null,null,null,null,null,null,null,null,null,null,null,null,null,null,null,null,null,null,null,null,null,null,null,null,null,null,null],[null,null,null,null,null,null,null,null,null,null,null,null,null,null,null,null,null,null,null,null,null,null,null,null,null,null,null,null,null,null,null,null,null,null,null,null,null,null,null,null,null,null,null,null,null,null,null,null,null,null,null,null,null,null,null,null,null,null,null,null,null,null,null,null,null,null,null,null,null,null,null,null,null,null,null,null,null,null,null,null,null,null,null,null,null,null,null,null,null,null,null,null,null,null,null,null,null,null,null,null],[null,null,null,null,null,null,null,null,null,null,null,null,null,null,null,null,null,null,null,null,null,null,null,null,null,null,null,null,null,null,null,null,null,null,null,null,null,null,null,null,null,null,null,null,null,null,null,null,null,null,null,null,null,null,null,null,null,null,null,null,null,null,null,null,null,null,null,null,null,null,null,null,null,null,null,null,null,null,null,null,null,null,null,null,null,null,null,null,null,null,null,null,null,null,null,null,null,null,null,null],[null,null,null,null,null,null,null,null,null,null,null,null,null,null,null,null,null,null,null,null,null,null,null,null,null,null,null,null,null,null,null,null,null,null,null,null,null,null,null,null,null,null,null,null,null,null,null,null,null,null,null,null,null,null,null,null,null,null,null,null,null,null,null,null,null,null,null,null,null,null,null,null,null,null,null,null,null,null,null,null,null,null,null,null,null,null,null,null,null,null,null,null,null,null,null,null,null,null,null,null],[null,null,null,null,null,null,null,null,null,null,null,null,null,null,null,null,null,null,null,null,null,null,null,null,null,null,null,null,null,null,null,null,null,null,null,null,null,null,null,null,null,null,null,null,null,null,null,null,null,null,null,null,null,null,null,null,null,null,null,null,null,null,null,null,null,null,null,null,null,null,null,null,null,null,null,null,null,null,null,null,null,null,null,null,null,null,null,null,null,null,null,null,null,null,null,null,null,null,null,null],[null,null,null,null,null,null,null,null,null,null,null,null,null,null,null,null,null,null,null,null,null,null,null,null,null,null,null,null,null,null,null,null,null,null,null,null,null,null,null,null,null,null,null,null,null,null,null,null,null,null,null,null,null,null,null,null,null,null,null,null,null,null,null,null,null,null,null,null,null,null,null,null,null,null,null,null,null,null,null,null,null,null,null,null,null,null,null,null,null,null,null,null,null,null,null,null,null,null,null,null],[null,null,null,null,null,null,null,null,null,null,null,null,null,null,null,null,null,null,null,null,null,null,null,null,null,null,null,null,null,null,null,null,null,null,null,null,null,null,null,null,null,null,null,null,null,null,null,null,null,null,null,null,null,null,null,null,null,null,null,null,null,null,null,null,null,null,null,null,null,null,null,null,null,null,null,null,null,null,null,null,null,null,null,null,null,null,null,null,null,null,null,null,null,null,null,null,null,null,null,null],[null,null,null,null,null,null,null,null,null,null,null,null,null,null,null,null,null,null,null,null,null,null,null,null,null,null,null,null,null,null,null,null,null,null,null,null,null,null,null,null,null,null,null,null,null,null,null,null,null,null,null,null,null,null,null,null,null,null,null,null,null,null,null,null,null,null,null,null,null,null,null,null,null,null,null,null,null,null,null,null,null,null,null,null,null,null,null,null,null,null,null,null,null,null,null,null,null,null,null,null],[null,null,null,null,null,null,null,null,null,null,null,null,null,null,null,null,null,null,null,null,null,null,null,null,null,null,null,null,null,null,null,null,null,null,null,null,null,null,null,null,null,null,null,null,null,null,null,null,null,null,null,null,null,null,null,null,null,null,null,null,null,null,null,null,null,null,null,null,null,null,null,null,null,null,null,null,null,null,null,null,null,null,null,null,null,null,null,null,null,null,null,null,null,null,null,null,null,null,null,null],[null,null,null,null,null,null,null,null,null,null,null,null,null,null,null,null,null,null,null,null,null,null,null,null,null,null,null,null,null,null,null,null,null,null,null,null,null,null,null,null,null,null,null,null,null,null,null,null,null,null,null,null,null,null,null,null,null,null,null,null,null,null,null,null,null,null,null,null,null,null,null,null,null,null,null,null,null,null,null,null,null,null,null,null,null,null,null,null,null,null,null,null,null,null,null,null,null,null,null,null],[null,null,null,null,null,null,null,null,null,null,null,null,null,null,null,null,null,null,null,null,null,null,null,null,null,null,null,null,null,null,null,null,null,null,null,null,null,null,null,null,null,null,null,null,null,null,null,null,null,null,null,null,null,null,null,null,null,null,null,null,null,null,null,null,null,null,null,null,null,null,null,null,null,null,null,null,null,null,null,null,null,null,null,null,null,null,null,null,null,null,null,null,null,null,null,null,null,null,null,null],[null,null,null,null,null,null,null,null,null,null,null,null,null,null,null,null,null,null,null,null,null,null,null,null,null,null,null,null,null,null,null,null,null,null,null,null,null,null,null,null,null,null,null,null,null,null,null,null,null,null,null,null,null,null,null,null,null,null,null,null,null,null,null,null,null,null,null,null,null,null,null,null,null,null,null,null,null,null,null,null,null,null,null,null,null,null,null,null,null,null,null,null,null,null,null,null,null,null,null,null],[null,null,null,null,null,null,null,null,null,null,null,null,null,null,null,null,null,null,null,null,null,null,null,null,null,null,null,null,null,null,null,null,null,null,null,null,null,null,null,null,null,null,null,null,null,null,null,null,null,null,null,null,null,null,null,null,null,null,null,null,null,null,null,null,null,null,null,null,null,null,null,null,null,null,null,null,null,null,null,null,null,null,null,null,null,null,null,null,null,null,null,null,null,null,null,null,null,null,null,null],[null,null,null,null,null,null,null,null,null,null,null,null,null,null,null,null,null,null,null,null,null,null,null,null,null,null,null,null,null,null,null,null,null,null,null,null,null,null,null,null,null,null,null,null,null,null,null,null,null,null,null,null,null,null,null,null,null,null,null,null,null,null,null,null,null,null,null,null,null,null,null,null,null,null,null,null,null,null,null,null,null,null,null,null,null,null,null,null,null,null,null,null,null,null,null,null,null,null,null,null],[null,null,null,null,null,null,null,null,null,null,null,null,null,null,null,null,null,null,null,null,null,null,null,null,null,null,null,null,null,null,null,null,null,null,null,null,null,null,null,null,null,null,null,null,null,null,null,null,null,null,null,null,null,null,null,null,null,null,null,null,null,null,null,null,null,null,null,null,null,null,null,null,null,null,null,null,null,null,null,null,null,null,null,null,null,null,null,null,null,null,null,null,null,null,null,null,null,null,null,null],[null,null,null,null,null,null,null,null,null,null,null,null,null,null,null,null,null,null,null,null,null,null,null,null,null,null,null,null,null,null,null,null,null,null,null,null,null,null,null,null,null,null,null,null,null,null,null,null,null,null,null,null,null,null,null,null,null,null,null,null,null,null,null,null,null,null,null,null,null,null,null,null,null,null,null,null,null,null,null,null,null,null,null,null,null,null,null,null,null,null,null,null,null,null,null,null,null,null,null,null],[null,null,null,null,null,null,null,null,null,null,null,null,null,null,null,null,null,null,null,null,null,null,null,null,null,null,null,null,null,null,null,null,null,null,null,null,null,null,null,null,null,null,null,null,null,null,null,null,null,null,null,null,null,null,null,null,null,null,null,null,null,null,null,null,null,null,null,null,null,null,null,null,null,null,null,null,null,null,null,null,null,null,null,null,null,null,null,null,null,null,null,null,null,null,null,null,null,null,null,null],[null,null,null,null,null,null,null,null,null,null,null,null,null,null,null,null,null,null,null,null,null,null,null,null,null,null,null,null,null,null,null,null,null,null,null,null,null,null,null,null,null,null,null,null,null,null,null,null,null,null,null,null,null,null,null,null,null,null,null,null,null,null,null,null,null,null,null,null,null,null,null,null,null,null,null,null,null,null,null,null,null,null,null,null,null,null,null,null,null,null,null,null,null,null,null,null,null,null,null,null],[null,null,null,null,null,null,null,null,null,null,null,null,null,null,null,null,null,null,null,null,null,null,null,null,null,null,null,null,null,null,null,null,null,null,null,null,null,null,null,null,null,null,null,null,null,null,null,null,null,null,null,null,null,null,null,null,null,null,null,null,null,null,null,null,null,null,null,null,null,null,null,null,null,null,null,null,null,null,null,null,null,null,null,null,null,null,null,null,null,null,null,null,null,null,null,null,null,null,null,null],[null,null,null,null,null,null,null,null,null,null,null,null,null,null,null,null,null,null,null,null,null,null,null,null,null,null,null,null,null,null,null,null,null,null,null,null,null,null,null,null,null,null,null,null,null,null,null,null,null,null,null,null,null,null,null,null,null,null,null,null,null,null,null,null,null,null,null,null,null,null,null,null,null,null,null,null,null,null,null,null,null,null,null,null,null,null,null,null,null,null,null,null,null,null,null,null,null,null,null,null],[null,null,null,null,null,null,null,null,null,null,null,null,null,null,null,null,null,null,null,null,null,null,null,null,null,null,null,null,null,null,null,null,null,null,null,null,null,null,null,null,null,null,null,null,null,null,null,null,null,null,null,null,null,null,null,null,null,null,null,null,null,null,null,null,null,null,null,null,null,null,null,null,null,null,null,null,null,null,null,null,null,null,null,null,null,null,null,null,null,null,null,null,null,null,null,null,null,null,null,null],[null,null,null,null,null,null,null,null,null,null,null,null,null,null,null,null,null,null,null,null,null,null,null,null,null,null,null,null,null,null,null,null,null,null,null,null,null,null,null,null,null,null,null,null,null,null,null,null,null,null,null,null,null,null,null,null,null,null,null,null,null,null,null,null,null,null,null,null,null,null,null,null,null,null,null,null,null,null,null,null,null,null,null,null,null,null,null,null,null,null,null,null,null,null,null,null,null,null,null,null],[null,null,null,null,null,null,null,null,null,null,null,null,null,null,null,null,null,null,null,null,null,null,null,null,null,null,null,null,null,null,null,null,null,null,null,null,null,null,null,null,null,null,null,null,null,null,null,null,null,null,null,null,null,null,null,null,null,null,null,null,null,null,null,null,null,null,null,null,null,null,null,null,null,null,null,null,null,null,null,null,null,null,null,null,null,null,null,null,null,null,null,null,null,null,null,null,null,null,null,null],[null,null,null,null,null,null,null,null,null,null,null,null,null,null,null,null,null,null,null,null,null,null,null,null,null,null,null,null,null,null,null,null,null,null,null,null,null,null,null,null,null,null,null,null,null,null,null,null,null,null,null,null,null,null,null,null,null,null,null,null,null,null,null,null,null,null,null,null,null,null,null,null,null,null,null,null,null,null,null,null,null,null,null,null,null,null,null,null,null,null,null,null,null,null,null,null,null,null,null,null],[null,null,null,null,null,null,null,null,null,null,null,null,null,null,null,null,null,null,null,null,null,null,null,null,null,null,null,null,null,null,null,null,null,null,null,null,null,null,null,null,null,null,null,null,null,null,null,null,null,null,null,null,null,null,null,null,null,null,null,null,null,null,null,null,null,null,null,null,null,null,null,null,null,null,null,null,null,null,null,null,null,null,null,null,null,null,null,null,null,null,null,null,null,null,null,null,null,null,null,null],[null,null,null,null,null,null,null,null,null,null,null,null,null,null,null,null,null,null,null,null,null,null,null,null,null,null,null,null,null,null,null,null,null,null,null,null,null,null,null,null,null,null,null,null,null,null,null,null,null,null,null,null,null,null,null,null,null,null,null,null,null,null,null,null,null,null,null,null,null,null,null,null,null,null,null,null,null,null,null,null,null,null,null,null,null,null,null,null,null,null,null,null,null,null,null,null,null,null,null,null],[null,null,null,null,null,null,null,null,null,null,null,null,null,null,null,null,null,null,null,null,null,null,null,null,null,null,null,null,null,null,null,null,null,null,null,null,null,null,null,null,null,null,null,null,null,null,null,null,null,null,null,null,null,null,null,null,null,null,null,null,null,null,null,null,null,null,null,null,null,null,null,null,null,null,null,null,null,null,null,null,null,null,null,null,null,null,null,null,null,null,null,null,null,null,null,null,null,null,null,null],[null,null,null,null,null,null,null,null,null,null,null,null,null,null,null,null,null,null,null,null,null,null,null,null,null,null,null,null,null,null,null,null,null,null,null,null,null,null,null,null,null,null,null,null,null,null,null,null,null,null,null,null,null,null,null,null,null,null,null,null,null,null,null,null,null,null,null,null,null,null,null,null,null,null,null,null,null,null,null,null,null,null,null,null,null,null,null,null,null,null,null,null,null,null,null,null,null,null,null,null],[null,null,null,null,null,null,null,null,null,null,null,null,null,null,null,null,null,null,null,null,null,null,null,null,null,null,null,null,null,null,null,null,null,null,null,null,null,null,null,null,null,null,null,null,null,null,null,null,null,null,null,null,null,null,null,null,null,null,null,null,null,null,null,null,null,null,null,null,null,null,null,null,null,null,null,null,null,null,null,null,null,null,null,null,null,null,null,null,null,null,null,null,null,null,null,null,null,null,null,null],[null,null,null,null,null,null,null,null,null,null,null,null,null,null,null,null,null,null,null,null,null,null,null,null,null,null,null,null,null,null,null,null,null,null,null,null,null,null,null,null,null,null,null,null,null,null,null,null,null,null,null,null,null,null,null,null,null,null,null,null,null,null,null,null,null,null,null,null,null,null,null,null,null,null,null,null,null,null,null,null,null,null,null,null,null,null,null,null,null,null,null,null,null,null,null,null,null,null,null,null],[null,null,null,null,null,null,null,null,null,null,null,null,null,null,null,null,null,null,null,null,null,null,null,null,null,null,null,null,null,null,null,null,null,null,null,null,null,null,null,null,null,null,null,null,null,null,null,null,null,null,null,null,null,null,null,null,null,null,null,null,null,null,null,null,null,null,null,null,null,null,null,null,null,null,null,null,null,null,null,null,null,null,null,null,null,null,null,null,null,null,null,null,null,null,null,null,null,null,null,null],[null,null,null,null,null,null,null,null,null,null,null,null,null,null,null,null,null,null,null,null,null,null,null,null,null,null,null,null,null,null,null,null,null,null,null,null,null,null,null,null,null,null,null,null,null,null,null,null,null,null,null,null,null,null,null,null,null,null,null,null,null,null,null,null,null,null,null,null,null,null,null,null,null,null,null,null,null,null,null,null,null,null,null,null,null,null,null,null,null,null,null,null,null,null,null,null,null,null,null,null],[null,null,null,null,null,null,null,null,null,null,null,null,null,null,null,null,null,null,null,null,null,null,null,null,null,null,null,null,null,null,null,null,null,null,null,null,null,null,null,null,null,null,null,null,null,null,null,null,null,null,null,null,null,null,null,null,null,null,null,null,null,null,null,null,null,null,null,null,null,null,null,null,null,null,null,null,null,null,null,null,null,null,null,null,null,null,null,null,null,null,null,null,null,null,null,null,null,null,null,null],[null,null,null,null,null,null,null,null,null,null,null,null,null,null,null,null,null,null,null,null,null,null,null,null,null,null,null,null,null,null,null,null,null,null,null,null,null,null,null,null,null,null,null,null,null,null,null,null,null,null,null,null,null,null,null,null,null,null,null,null,null,null,null,null,null,null,null,null,null,null,null,null,null,null,null,null,null,null,null,null,null,null,null,null,null,null,null,null,null,null,null,null,null,null,null,null,null,null,null,null],[null,null,null,null,null,null,null,null,null,null,null,null,null,null,null,null,null,null,null,null,null,null,null,null,null,null,null,null,null,null,null,null,null,null,null,null,null,null,null,null,null,null,null,null,null,null,null,null,null,null,null,null,null,null,null,null,null,null,null,null,null,null,null,null,null,null,null,null,null,null,null,null,null,null,null,null,null,null,null,null,null,null,null,null,null,null,null,null,null,null,null,null,null,null,null,null,null,null,null,null],[null,null,null,null,null,null,null,null,null,null,null,null,null,null,null,null,null,null,null,null,null,null,null,null,null,null,null,null,null,null,null,null,null,null,null,null,null,null,null,null,null,null,null,null,null,null,null,null,null,null,null,null,null,null,null,null,null,null,null,null,null,null,null,null,null,null,null,null,null,null,null,null,null,null,null,null,null,null,null,null,null,null,null,null,null,null,null,null,null,null,null,null,null,null,null,null,null,null,null,null]],\"type\":\"surface\",\"contours\":{\"z\":{\"project\":{\"z\":true},\"highlightcolor\":\"limegreen\",\"show\":true,\"usecolormap\":true},\"x\":{\"project\":{\"x\":true},\"highlightcolor\":\"limegreen\",\"show\":true,\"usecolormap\":true},\"y\":{\"project\":{\"y\":true},\"highlightcolor\":\"limegreen\",\"show\":true,\"usecolormap\":true}}}],                        {\"template\":{\"data\":{\"histogram2dcontour\":[{\"type\":\"histogram2dcontour\",\"colorbar\":{\"outlinewidth\":0,\"ticks\":\"\"},\"colorscale\":[[0.0,\"#0d0887\"],[0.1111111111111111,\"#46039f\"],[0.2222222222222222,\"#7201a8\"],[0.3333333333333333,\"#9c179e\"],[0.4444444444444444,\"#bd3786\"],[0.5555555555555556,\"#d8576b\"],[0.6666666666666666,\"#ed7953\"],[0.7777777777777778,\"#fb9f3a\"],[0.8888888888888888,\"#fdca26\"],[1.0,\"#f0f921\"]]}],\"choropleth\":[{\"type\":\"choropleth\",\"colorbar\":{\"outlinewidth\":0,\"ticks\":\"\"}}],\"histogram2d\":[{\"type\":\"histogram2d\",\"colorbar\":{\"outlinewidth\":0,\"ticks\":\"\"},\"colorscale\":[[0.0,\"#0d0887\"],[0.1111111111111111,\"#46039f\"],[0.2222222222222222,\"#7201a8\"],[0.3333333333333333,\"#9c179e\"],[0.4444444444444444,\"#bd3786\"],[0.5555555555555556,\"#d8576b\"],[0.6666666666666666,\"#ed7953\"],[0.7777777777777778,\"#fb9f3a\"],[0.8888888888888888,\"#fdca26\"],[1.0,\"#f0f921\"]]}],\"heatmap\":[{\"type\":\"heatmap\",\"colorbar\":{\"outlinewidth\":0,\"ticks\":\"\"},\"colorscale\":[[0.0,\"#0d0887\"],[0.1111111111111111,\"#46039f\"],[0.2222222222222222,\"#7201a8\"],[0.3333333333333333,\"#9c179e\"],[0.4444444444444444,\"#bd3786\"],[0.5555555555555556,\"#d8576b\"],[0.6666666666666666,\"#ed7953\"],[0.7777777777777778,\"#fb9f3a\"],[0.8888888888888888,\"#fdca26\"],[1.0,\"#f0f921\"]]}],\"heatmapgl\":[{\"type\":\"heatmapgl\",\"colorbar\":{\"outlinewidth\":0,\"ticks\":\"\"},\"colorscale\":[[0.0,\"#0d0887\"],[0.1111111111111111,\"#46039f\"],[0.2222222222222222,\"#7201a8\"],[0.3333333333333333,\"#9c179e\"],[0.4444444444444444,\"#bd3786\"],[0.5555555555555556,\"#d8576b\"],[0.6666666666666666,\"#ed7953\"],[0.7777777777777778,\"#fb9f3a\"],[0.8888888888888888,\"#fdca26\"],[1.0,\"#f0f921\"]]}],\"contourcarpet\":[{\"type\":\"contourcarpet\",\"colorbar\":{\"outlinewidth\":0,\"ticks\":\"\"}}],\"contour\":[{\"type\":\"contour\",\"colorbar\":{\"outlinewidth\":0,\"ticks\":\"\"},\"colorscale\":[[0.0,\"#0d0887\"],[0.1111111111111111,\"#46039f\"],[0.2222222222222222,\"#7201a8\"],[0.3333333333333333,\"#9c179e\"],[0.4444444444444444,\"#bd3786\"],[0.5555555555555556,\"#d8576b\"],[0.6666666666666666,\"#ed7953\"],[0.7777777777777778,\"#fb9f3a\"],[0.8888888888888888,\"#fdca26\"],[1.0,\"#f0f921\"]]}],\"surface\":[{\"type\":\"surface\",\"colorbar\":{\"outlinewidth\":0,\"ticks\":\"\"},\"colorscale\":[[0.0,\"#0d0887\"],[0.1111111111111111,\"#46039f\"],[0.2222222222222222,\"#7201a8\"],[0.3333333333333333,\"#9c179e\"],[0.4444444444444444,\"#bd3786\"],[0.5555555555555556,\"#d8576b\"],[0.6666666666666666,\"#ed7953\"],[0.7777777777777778,\"#fb9f3a\"],[0.8888888888888888,\"#fdca26\"],[1.0,\"#f0f921\"]]}],\"mesh3d\":[{\"type\":\"mesh3d\",\"colorbar\":{\"outlinewidth\":0,\"ticks\":\"\"}}],\"scatter\":[{\"fillpattern\":{\"fillmode\":\"overlay\",\"size\":10,\"solidity\":0.2},\"type\":\"scatter\"}],\"parcoords\":[{\"type\":\"parcoords\",\"line\":{\"colorbar\":{\"outlinewidth\":0,\"ticks\":\"\"}}}],\"scatterpolargl\":[{\"type\":\"scatterpolargl\",\"marker\":{\"colorbar\":{\"outlinewidth\":0,\"ticks\":\"\"}}}],\"bar\":[{\"error_x\":{\"color\":\"#2a3f5f\"},\"error_y\":{\"color\":\"#2a3f5f\"},\"marker\":{\"line\":{\"color\":\"#E5ECF6\",\"width\":0.5},\"pattern\":{\"fillmode\":\"overlay\",\"size\":10,\"solidity\":0.2}},\"type\":\"bar\"}],\"scattergeo\":[{\"type\":\"scattergeo\",\"marker\":{\"colorbar\":{\"outlinewidth\":0,\"ticks\":\"\"}}}],\"scatterpolar\":[{\"type\":\"scatterpolar\",\"marker\":{\"colorbar\":{\"outlinewidth\":0,\"ticks\":\"\"}}}],\"histogram\":[{\"marker\":{\"pattern\":{\"fillmode\":\"overlay\",\"size\":10,\"solidity\":0.2}},\"type\":\"histogram\"}],\"scattergl\":[{\"type\":\"scattergl\",\"marker\":{\"colorbar\":{\"outlinewidth\":0,\"ticks\":\"\"}}}],\"scatter3d\":[{\"type\":\"scatter3d\",\"line\":{\"colorbar\":{\"outlinewidth\":0,\"ticks\":\"\"}},\"marker\":{\"colorbar\":{\"outlinewidth\":0,\"ticks\":\"\"}}}],\"scattermapbox\":[{\"type\":\"scattermapbox\",\"marker\":{\"colorbar\":{\"outlinewidth\":0,\"ticks\":\"\"}}}],\"scatterternary\":[{\"type\":\"scatterternary\",\"marker\":{\"colorbar\":{\"outlinewidth\":0,\"ticks\":\"\"}}}],\"scattercarpet\":[{\"type\":\"scattercarpet\",\"marker\":{\"colorbar\":{\"outlinewidth\":0,\"ticks\":\"\"}}}],\"carpet\":[{\"aaxis\":{\"endlinecolor\":\"#2a3f5f\",\"gridcolor\":\"white\",\"linecolor\":\"white\",\"minorgridcolor\":\"white\",\"startlinecolor\":\"#2a3f5f\"},\"baxis\":{\"endlinecolor\":\"#2a3f5f\",\"gridcolor\":\"white\",\"linecolor\":\"white\",\"minorgridcolor\":\"white\",\"startlinecolor\":\"#2a3f5f\"},\"type\":\"carpet\"}],\"table\":[{\"cells\":{\"fill\":{\"color\":\"#EBF0F8\"},\"line\":{\"color\":\"white\"}},\"header\":{\"fill\":{\"color\":\"#C8D4E3\"},\"line\":{\"color\":\"white\"}},\"type\":\"table\"}],\"barpolar\":[{\"marker\":{\"line\":{\"color\":\"#E5ECF6\",\"width\":0.5},\"pattern\":{\"fillmode\":\"overlay\",\"size\":10,\"solidity\":0.2}},\"type\":\"barpolar\"}],\"pie\":[{\"automargin\":true,\"type\":\"pie\"}]},\"layout\":{\"autotypenumbers\":\"strict\",\"colorway\":[\"#636efa\",\"#EF553B\",\"#00cc96\",\"#ab63fa\",\"#FFA15A\",\"#19d3f3\",\"#FF6692\",\"#B6E880\",\"#FF97FF\",\"#FECB52\"],\"font\":{\"color\":\"#2a3f5f\"},\"hovermode\":\"closest\",\"hoverlabel\":{\"align\":\"left\"},\"paper_bgcolor\":\"white\",\"plot_bgcolor\":\"#E5ECF6\",\"polar\":{\"bgcolor\":\"#E5ECF6\",\"angularaxis\":{\"gridcolor\":\"white\",\"linecolor\":\"white\",\"ticks\":\"\"},\"radialaxis\":{\"gridcolor\":\"white\",\"linecolor\":\"white\",\"ticks\":\"\"}},\"ternary\":{\"bgcolor\":\"#E5ECF6\",\"aaxis\":{\"gridcolor\":\"white\",\"linecolor\":\"white\",\"ticks\":\"\"},\"baxis\":{\"gridcolor\":\"white\",\"linecolor\":\"white\",\"ticks\":\"\"},\"caxis\":{\"gridcolor\":\"white\",\"linecolor\":\"white\",\"ticks\":\"\"}},\"coloraxis\":{\"colorbar\":{\"outlinewidth\":0,\"ticks\":\"\"}},\"colorscale\":{\"sequential\":[[0.0,\"#0d0887\"],[0.1111111111111111,\"#46039f\"],[0.2222222222222222,\"#7201a8\"],[0.3333333333333333,\"#9c179e\"],[0.4444444444444444,\"#bd3786\"],[0.5555555555555556,\"#d8576b\"],[0.6666666666666666,\"#ed7953\"],[0.7777777777777778,\"#fb9f3a\"],[0.8888888888888888,\"#fdca26\"],[1.0,\"#f0f921\"]],\"sequentialminus\":[[0.0,\"#0d0887\"],[0.1111111111111111,\"#46039f\"],[0.2222222222222222,\"#7201a8\"],[0.3333333333333333,\"#9c179e\"],[0.4444444444444444,\"#bd3786\"],[0.5555555555555556,\"#d8576b\"],[0.6666666666666666,\"#ed7953\"],[0.7777777777777778,\"#fb9f3a\"],[0.8888888888888888,\"#fdca26\"],[1.0,\"#f0f921\"]],\"diverging\":[[0,\"#8e0152\"],[0.1,\"#c51b7d\"],[0.2,\"#de77ae\"],[0.3,\"#f1b6da\"],[0.4,\"#fde0ef\"],[0.5,\"#f7f7f7\"],[0.6,\"#e6f5d0\"],[0.7,\"#b8e186\"],[0.8,\"#7fbc41\"],[0.9,\"#4d9221\"],[1,\"#276419\"]]},\"xaxis\":{\"gridcolor\":\"white\",\"linecolor\":\"white\",\"ticks\":\"\",\"title\":{\"standoff\":15},\"zerolinecolor\":\"white\",\"automargin\":true,\"zerolinewidth\":2},\"yaxis\":{\"gridcolor\":\"white\",\"linecolor\":\"white\",\"ticks\":\"\",\"title\":{\"standoff\":15},\"zerolinecolor\":\"white\",\"automargin\":true,\"zerolinewidth\":2},\"scene\":{\"xaxis\":{\"backgroundcolor\":\"#E5ECF6\",\"gridcolor\":\"white\",\"linecolor\":\"white\",\"showbackground\":true,\"ticks\":\"\",\"zerolinecolor\":\"white\",\"gridwidth\":2},\"yaxis\":{\"backgroundcolor\":\"#E5ECF6\",\"gridcolor\":\"white\",\"linecolor\":\"white\",\"showbackground\":true,\"ticks\":\"\",\"zerolinecolor\":\"white\",\"gridwidth\":2},\"zaxis\":{\"backgroundcolor\":\"#E5ECF6\",\"gridcolor\":\"white\",\"linecolor\":\"white\",\"showbackground\":true,\"ticks\":\"\",\"zerolinecolor\":\"white\",\"gridwidth\":2}},\"shapedefaults\":{\"line\":{\"color\":\"#2a3f5f\"}},\"annotationdefaults\":{\"arrowcolor\":\"#2a3f5f\",\"arrowhead\":0,\"arrowwidth\":1},\"geo\":{\"bgcolor\":\"white\",\"landcolor\":\"#E5ECF6\",\"subunitcolor\":\"white\",\"showland\":true,\"showlakes\":true,\"lakecolor\":\"white\"},\"title\":{\"x\":0.05},\"mapbox\":{\"style\":\"light\"}}},\"scene\":{\"camera\":{\"eye\":{\"x\":1.87,\"y\":0.88,\"z\":0.64}}},\"margin\":{\"l\":65,\"r\":50,\"b\":65,\"t\":90},\"title\":{\"text\":\"Execution time % N Components & N elements\"},\"autosize\":true},                        {\"responsive\": true}                    ).then(function(){\n",
              "                            \n",
              "var gd = document.getElementById('9c20d480-30c8-47c8-9878-37f9dc93bae1');\n",
              "var x = new MutationObserver(function (mutations, observer) {{\n",
              "        var display = window.getComputedStyle(gd).display;\n",
              "        if (!display || display === 'none') {{\n",
              "            console.log([gd, 'removed!']);\n",
              "            Plotly.purge(gd);\n",
              "            observer.disconnect();\n",
              "        }}\n",
              "}});\n",
              "\n",
              "// Listen for the removal of the full notebook cells\n",
              "var notebookContainer = gd.closest('#notebook-container');\n",
              "if (notebookContainer) {{\n",
              "    x.observe(notebookContainer, {childList: true});\n",
              "}}\n",
              "\n",
              "// Listen for the clearing of the current output cell\n",
              "var outputEl = gd.closest('.output');\n",
              "if (outputEl) {{\n",
              "    x.observe(outputEl, {childList: true});\n",
              "}}\n",
              "\n",
              "                        })                };                            </script>        </div>\n",
              "</body>\n",
              "</html>"
            ]
          },
          "metadata": {}
        }
      ]
    }
  ]
}